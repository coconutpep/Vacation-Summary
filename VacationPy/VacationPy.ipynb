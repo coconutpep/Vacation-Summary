{
 "cells": [
  {
   "cell_type": "code",
   "execution_count": 1,
   "metadata": {},
   "outputs": [],
   "source": [
    "# Dependencies and Setup\n",
    "import matplotlib.pyplot as plt\n",
    "import pandas as pd\n",
    "import numpy as np\n",
    "import requests\n",
    "import gmaps\n",
    "import os\n",
    "import json as json\n",
    "# Import API key\n",
    "from config import g_key"
   ]
  },
  {
   "cell_type": "code",
   "execution_count": 2,
   "metadata": {},
   "outputs": [
    {
     "data": {
      "text/html": [
       "<div>\n",
       "<style scoped>\n",
       "    .dataframe tbody tr th:only-of-type {\n",
       "        vertical-align: middle;\n",
       "    }\n",
       "\n",
       "    .dataframe tbody tr th {\n",
       "        vertical-align: top;\n",
       "    }\n",
       "\n",
       "    .dataframe thead th {\n",
       "        text-align: right;\n",
       "    }\n",
       "</style>\n",
       "<table border=\"1\" class=\"dataframe\">\n",
       "  <thead>\n",
       "    <tr style=\"text-align: right;\">\n",
       "      <th></th>\n",
       "      <th>City</th>\n",
       "      <th>Cloudiness</th>\n",
       "      <th>Country</th>\n",
       "      <th>Dates</th>\n",
       "      <th>Humidity</th>\n",
       "      <th>Lat</th>\n",
       "      <th>Lng</th>\n",
       "      <th>Max Temp</th>\n",
       "      <th>Wind Speed</th>\n",
       "    </tr>\n",
       "  </thead>\n",
       "  <tbody>\n",
       "    <tr>\n",
       "      <th>0</th>\n",
       "      <td>Barrow</td>\n",
       "      <td>90</td>\n",
       "      <td>US</td>\n",
       "      <td>1.583694e+09</td>\n",
       "      <td>83</td>\n",
       "      <td>71.29</td>\n",
       "      <td>-156.79</td>\n",
       "      <td>-14.8</td>\n",
       "      <td>8.05</td>\n",
       "    </tr>\n",
       "    <tr>\n",
       "      <th>1</th>\n",
       "      <td>Intampilan</td>\n",
       "      <td>29</td>\n",
       "      <td>PH</td>\n",
       "      <td>1.583694e+09</td>\n",
       "      <td>93</td>\n",
       "      <td>11.48</td>\n",
       "      <td>122.74</td>\n",
       "      <td>74.1</td>\n",
       "      <td>1.63</td>\n",
       "    </tr>\n",
       "    <tr>\n",
       "      <th>2</th>\n",
       "      <td>Jamestown</td>\n",
       "      <td>1</td>\n",
       "      <td>US</td>\n",
       "      <td>1.583694e+09</td>\n",
       "      <td>31</td>\n",
       "      <td>42.10</td>\n",
       "      <td>-79.24</td>\n",
       "      <td>55.4</td>\n",
       "      <td>8.05</td>\n",
       "    </tr>\n",
       "    <tr>\n",
       "      <th>3</th>\n",
       "      <td>Hobart</td>\n",
       "      <td>90</td>\n",
       "      <td>AU</td>\n",
       "      <td>1.583694e+09</td>\n",
       "      <td>76</td>\n",
       "      <td>-42.88</td>\n",
       "      <td>147.33</td>\n",
       "      <td>52.0</td>\n",
       "      <td>4.70</td>\n",
       "    </tr>\n",
       "    <tr>\n",
       "      <th>4</th>\n",
       "      <td>Vezirköprü</td>\n",
       "      <td>100</td>\n",
       "      <td>TR</td>\n",
       "      <td>1.583694e+09</td>\n",
       "      <td>47</td>\n",
       "      <td>41.14</td>\n",
       "      <td>35.45</td>\n",
       "      <td>55.4</td>\n",
       "      <td>2.57</td>\n",
       "    </tr>\n",
       "  </tbody>\n",
       "</table>\n",
       "</div>"
      ],
      "text/plain": [
       "         City  Cloudiness Country         Dates  Humidity    Lat     Lng  \\\n",
       "0      Barrow          90      US  1.583694e+09        83  71.29 -156.79   \n",
       "1  Intampilan          29      PH  1.583694e+09        93  11.48  122.74   \n",
       "2   Jamestown           1      US  1.583694e+09        31  42.10  -79.24   \n",
       "3      Hobart          90      AU  1.583694e+09        76 -42.88  147.33   \n",
       "4  Vezirköprü         100      TR  1.583694e+09        47  41.14   35.45   \n",
       "\n",
       "   Max Temp  Wind Speed  \n",
       "0     -14.8        8.05  \n",
       "1      74.1        1.63  \n",
       "2      55.4        8.05  \n",
       "3      52.0        4.70  \n",
       "4      55.4        2.57  "
      ]
     },
     "execution_count": 2,
     "metadata": {},
     "output_type": "execute_result"
    }
   ],
   "source": [
    "#Read in weather data pulled from OpenWeather API\n",
    "weather_data = pd.read_csv('../WeatherPy/output_data/cities.csv')\n",
    "weather_data.head()"
   ]
  },
  {
   "cell_type": "code",
   "execution_count": 3,
   "metadata": {},
   "outputs": [],
   "source": [
    "#Configure gmaps\n",
    "gmaps.configure(api_key=g_key)\n",
    "#Set lat & lon as location and humidity as weight\n",
    "locations = weather_data[['Lat', 'Lng']].astype(float)\n",
    "humidity = weather_data['Humidity']"
   ]
  },
  {
   "cell_type": "code",
   "execution_count": 4,
   "metadata": {},
   "outputs": [
    {
     "data": {
      "application/vnd.jupyter.widget-view+json": {
       "model_id": "1b85560f7a4348f0ab3279f6a9b75457",
       "version_major": 2,
       "version_minor": 0
      },
      "text/plain": [
       "Figure(layout=FigureLayout(border='1px solid black', height='300px', margin='0 auto 0 auto', padding='1px', wi…"
      ]
     },
     "metadata": {},
     "output_type": "display_data"
    }
   ],
   "source": [
    "#Set gmap fig\n",
    "figure_layout = {\n",
    "    'width': '400px',\n",
    "    'height': '300px',\n",
    "    'border': '1px solid black',\n",
    "    'padding': '1px',\n",
    "    'margin': '0 auto 0 auto'\n",
    "}\n",
    "fig = gmaps.figure(layout=figure_layout)\n",
    "heat_layer = gmaps.heatmap_layer(locations, weights=humidity, \n",
    "                                 dissipating=False, max_intensity=humidity.max(),\n",
    "                                 point_radius = 1)\n",
    "fig.add_layer(heat_layer)\n",
    "fig"
   ]
  },
  {
   "cell_type": "code",
   "execution_count": 5,
   "metadata": {},
   "outputs": [
    {
     "data": {
      "text/html": [
       "<div>\n",
       "<style scoped>\n",
       "    .dataframe tbody tr th:only-of-type {\n",
       "        vertical-align: middle;\n",
       "    }\n",
       "\n",
       "    .dataframe tbody tr th {\n",
       "        vertical-align: top;\n",
       "    }\n",
       "\n",
       "    .dataframe thead th {\n",
       "        text-align: right;\n",
       "    }\n",
       "</style>\n",
       "<table border=\"1\" class=\"dataframe\">\n",
       "  <thead>\n",
       "    <tr style=\"text-align: right;\">\n",
       "      <th></th>\n",
       "      <th>City</th>\n",
       "      <th>Cloudiness</th>\n",
       "      <th>Country</th>\n",
       "      <th>Humidity</th>\n",
       "      <th>Lat</th>\n",
       "      <th>Lng</th>\n",
       "      <th>Max Temp</th>\n",
       "      <th>Wind Speed</th>\n",
       "    </tr>\n",
       "  </thead>\n",
       "  <tbody>\n",
       "    <tr>\n",
       "      <th>62</th>\n",
       "      <td>Lebu</td>\n",
       "      <td>12</td>\n",
       "      <td>CL</td>\n",
       "      <td>38</td>\n",
       "      <td>-37.62</td>\n",
       "      <td>-73.65</td>\n",
       "      <td>69.24</td>\n",
       "      <td>9.51</td>\n",
       "    </tr>\n",
       "    <tr>\n",
       "      <th>536</th>\n",
       "      <td>Oodweyne</td>\n",
       "      <td>10</td>\n",
       "      <td>SO</td>\n",
       "      <td>40</td>\n",
       "      <td>9.41</td>\n",
       "      <td>45.06</td>\n",
       "      <td>72.30</td>\n",
       "      <td>8.16</td>\n",
       "    </tr>\n",
       "  </tbody>\n",
       "</table>\n",
       "</div>"
      ],
      "text/plain": [
       "         City  Cloudiness Country  Humidity    Lat    Lng  Max Temp  \\\n",
       "62       Lebu          12      CL        38 -37.62 -73.65     69.24   \n",
       "536  Oodweyne          10      SO        40   9.41  45.06     72.30   \n",
       "\n",
       "     Wind Speed  \n",
       "62         9.51  \n",
       "536        8.16  "
      ]
     },
     "execution_count": 5,
     "metadata": {},
     "output_type": "execute_result"
    }
   ],
   "source": [
    "#Created a dataframe of locations with desired weather\n",
    "desired_temperatures_maxset = weather_data.loc[weather_data['Max Temp'] <= 75]\n",
    "desired_temperatures = desired_temperatures_maxset.loc[weather_data['Max Temp'] > 65]\n",
    "desired_cloudiness_maxset = desired_temperatures.loc[desired_temperatures['Cloudiness'] <= 50]\n",
    "desired_cloudiness = desired_cloudiness_maxset.loc[desired_cloudiness_maxset['Cloudiness'] >= 5]\n",
    "desired_humidity = desired_cloudiness.loc[desired_cloudiness['Humidity'] <= 50]\n",
    "desired_wind = desired_humidity.loc[desired_humidity['Wind Speed'] <= 10]\n",
    "desired_weather = desired_wind.drop('Dates', axis=1)\n",
    "desired_weather"
   ]
  },
  {
   "cell_type": "code",
   "execution_count": 6,
   "metadata": {},
   "outputs": [],
   "source": [
    "#Creating a map for hotels in desired cities\n",
    "#Creating a df for hotel info\n",
    "hotel_df = desired_weather.reset_index(drop=True)\n",
    "hotels = []\n",
    "#Parse Google Places API and return first hotel found in city to df\n",
    "url= 'https://maps.googleapis.com/maps/api/place/nearbysearch/json?'\n",
    "cities = hotel_df['City'].values\n",
    "for city in cities:\n",
    "    lat = hotel_df.loc[hotel_df['City'] == city, 'Lat'].values\n",
    "    lng = hotel_df.loc[hotel_df['City'] == city, 'Lng'].values\n",
    "    coordinates = f'{lat[0]}, {lng[0]}'\n",
    "    params = {\n",
    "        'location': coordinates,\n",
    "        'radius': 5000,\n",
    "        'type': 'lodging',\n",
    "        'language': 'en',\n",
    "        'key': g_key,\n",
    "    }\n",
    "    response = requests.get(url, params=params).json()\n",
    "    hotel_name = response['results'][0]['name']\n",
    "    hotels.append(hotel_name)\n",
    "hotel_df['Hotel Name'] = hotels"
   ]
  },
  {
   "cell_type": "code",
   "execution_count": 7,
   "metadata": {},
   "outputs": [
    {
     "data": {
      "text/html": [
       "<div>\n",
       "<style scoped>\n",
       "    .dataframe tbody tr th:only-of-type {\n",
       "        vertical-align: middle;\n",
       "    }\n",
       "\n",
       "    .dataframe tbody tr th {\n",
       "        vertical-align: top;\n",
       "    }\n",
       "\n",
       "    .dataframe thead th {\n",
       "        text-align: right;\n",
       "    }\n",
       "</style>\n",
       "<table border=\"1\" class=\"dataframe\">\n",
       "  <thead>\n",
       "    <tr style=\"text-align: right;\">\n",
       "      <th></th>\n",
       "      <th>City</th>\n",
       "      <th>Cloudiness</th>\n",
       "      <th>Country</th>\n",
       "      <th>Humidity</th>\n",
       "      <th>Lat</th>\n",
       "      <th>Lng</th>\n",
       "      <th>Max Temp</th>\n",
       "      <th>Wind Speed</th>\n",
       "      <th>Hotel Name</th>\n",
       "    </tr>\n",
       "  </thead>\n",
       "  <tbody>\n",
       "    <tr>\n",
       "      <th>0</th>\n",
       "      <td>Lebu</td>\n",
       "      <td>12</td>\n",
       "      <td>CL</td>\n",
       "      <td>38</td>\n",
       "      <td>-37.62</td>\n",
       "      <td>-73.65</td>\n",
       "      <td>69.24</td>\n",
       "      <td>9.51</td>\n",
       "      <td>Hostal Las Lilas</td>\n",
       "    </tr>\n",
       "    <tr>\n",
       "      <th>1</th>\n",
       "      <td>Oodweyne</td>\n",
       "      <td>10</td>\n",
       "      <td>SO</td>\n",
       "      <td>40</td>\n",
       "      <td>9.41</td>\n",
       "      <td>45.06</td>\n",
       "      <td>72.30</td>\n",
       "      <td>8.16</td>\n",
       "      <td>Eng Hiirey House</td>\n",
       "    </tr>\n",
       "  </tbody>\n",
       "</table>\n",
       "</div>"
      ],
      "text/plain": [
       "       City  Cloudiness Country  Humidity    Lat    Lng  Max Temp  Wind Speed  \\\n",
       "0      Lebu          12      CL        38 -37.62 -73.65     69.24        9.51   \n",
       "1  Oodweyne          10      SO        40   9.41  45.06     72.30        8.16   \n",
       "\n",
       "         Hotel Name  \n",
       "0  Hostal Las Lilas  \n",
       "1  Eng Hiirey House  "
      ]
     },
     "execution_count": 7,
     "metadata": {},
     "output_type": "execute_result"
    }
   ],
   "source": [
    "#New hotel df\n",
    "hotel_df"
   ]
  },
  {
   "cell_type": "code",
   "execution_count": 12,
   "metadata": {},
   "outputs": [
    {
     "data": {
      "application/vnd.jupyter.widget-view+json": {
       "model_id": "51b29f46ed76413e9fe2206ab9efac0c",
       "version_major": 2,
       "version_minor": 0
      },
      "text/plain": [
       "Figure(layout=FigureLayout(border='1px solid black', height='300px', margin='0 auto 0 auto', padding='1px', wi…"
      ]
     },
     "metadata": {},
     "output_type": "display_data"
    }
   ],
   "source": [
    "#Set hotel marker to heatmap\n",
    "# Using the template add the hotel marks to the heatmap\n",
    "info_box_template = \"\"\"\n",
    "<dl>\n",
    "<dt>Name</dt><dd>{Hotel Name}</dd>\n",
    "<dt>City</dt><dd>{City}</dd>\n",
    "<dt>Country</dt><dd>{Country}</dd>\n",
    "</dl>\n",
    "\"\"\"\n",
    "#Setting marker layer\n",
    "locations = hotel_df[['Lat', 'Lng']]\n",
    "hotel_info = [info_box_template.format(**row) for index, row in hotel_df.iterrows()]\n",
    "markers = gmaps.marker_layer(locations, info_box_content=hotel_info)\n",
    "#Add layer to heatmap & Zoom to preferred location\n",
    "fig = gmaps.figure(layout=figure_layout)\n",
    "fig.add_layer(heat_layer)\n",
    "fig.add_layer(markers)\n",
    "fig"
   ]
  },
  {
   "cell_type": "code",
   "execution_count": null,
   "metadata": {},
   "outputs": [],
   "source": []
  }
 ],
 "metadata": {
  "file_extension": ".py",
  "kernelspec": {
   "display_name": "Python [conda env:PythonData] *",
   "language": "python",
   "name": "conda-env-PythonData-py"
  },
  "language_info": {
   "codemirror_mode": {
    "name": "ipython",
    "version": 3
   },
   "file_extension": ".py",
   "mimetype": "text/x-python",
   "name": "python",
   "nbconvert_exporter": "python",
   "pygments_lexer": "ipython3",
   "version": "3.7.6"
  },
  "mimetype": "text/x-python",
  "name": "python",
  "npconvert_exporter": "python",
  "pygments_lexer": "ipython3",
  "version": 3
 },
 "nbformat": 4,
 "nbformat_minor": 2
}
