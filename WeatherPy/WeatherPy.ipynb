{
 "nbformat": 4,
 "nbformat_minor": 2,
 "metadata": {
  "language_info": {
   "name": "python",
   "codemirror_mode": {
    "name": "ipython",
    "version": 3
   },
   "version": "3.7.4-final"
  },
  "orig_nbformat": 2,
  "file_extension": ".py",
  "mimetype": "text/x-python",
  "name": "python",
  "npconvert_exporter": "python",
  "pygments_lexer": "ipython3",
  "version": 3,
  "kernelspec": {
   "name": "python37664bitpythondataconda9adbda39bd454e7faf6cd0d67b7317a9",
   "display_name": "Python 3.7.6 64-bit ('PythonData': conda)"
  }
 },
 "cells": [
  {
   "cell_type": "code",
   "execution_count": 1,
   "metadata": {},
   "outputs": [],
   "source": [
    "# Dependencies and Setup\n",
    "import matplotlib.pyplot as plt\n",
    "import pandas as pd\n",
    "import numpy as np\n",
    "import requests\n",
    "import time\n",
    "import csv\n",
    "from scipy.stats import linregress\n",
    "from pprint import pprint\n",
    "# Import API key\n",
    "from config import api_key\n",
    "\n",
    "# Incorporated citipy to determine city based on latitude and longitude\n",
    "from citipy import citipy\n",
    "\n",
    "# Output File (CSV)\n",
    "output_data_file = \"output_data/cities.csv\"\n",
    "\n",
    "# Range of latitudes and longitudes\n",
    "lat_range = (-90, 90)\n",
    "lng_range = (-180, 180)"
   ]
  },
  {
   "cell_type": "code",
   "execution_count": 2,
   "metadata": {},
   "outputs": [
    {
     "data": {
      "text/plain": "635"
     },
     "execution_count": 2,
     "metadata": {},
     "output_type": "execute_result"
    }
   ],
   "source": [
    "# List for holding lat_lngs and cities\n",
    "lat_lngs = []\n",
    "cities = []\n",
    "\n",
    "# Create a set of random lat and lng combinations\n",
    "lats = np.random.uniform(low=-90.000, high=90.000, size=1500)\n",
    "lngs = np.random.uniform(low=-180.000, high=180.000, size=1500)\n",
    "lat_lngs = zip(lats, lngs)\n",
    "\n",
    "# Identify nearest city for each lat, lng combination\n",
    "for lat_lng in lat_lngs:\n",
    "    city = citipy.nearest_city(lat_lng[0], lat_lng[1]).city_name\n",
    "    \n",
    "    # If the city is unique, then add it to a our cities list\n",
    "    if city not in cities:\n",
    "        cities.append(city)\n",
    "\n",
    "# Print the city count to confirm sufficient count\n",
    "len(cities)"
   ]
  },
  {
   "cell_type": "code",
   "execution_count": 3,
   "metadata": {},
   "outputs": [],
   "source": [
    "#URL for OpenWeather API\n",
    "url = \"http://api.openweathermap.org/data/2.5/weather?q=\"\n",
    "#List to hold API responses\n",
    "responses = []\n",
    "#For loop to pull data for each of the first 60 cities in the list\n",
    "for city in cities[0:60]:\n",
    "    city_url = url + f\"{city}&appid={api_key}\"\n",
    "    responses.append(requests.get(city_url).json())"
   ]
  },
  {
   "cell_type": "code",
   "execution_count": 24,
   "metadata": {},
   "outputs": [
    {
     "data": {
      "text/plain": "'BR'"
     },
     "execution_count": 24,
     "metadata": {},
     "output_type": "execute_result"
    }
   ],
   "source": [
    "#Dump pulled data in a new csv\n",
    "city_weather = pd.DataFrame(responses)\n",
    "city_weather.head(1)\n",
    "city_data = responses[0]\n",
    "city_data_sys = city_data['sys']\n",
    "city_capital = city_data_sys['country']\n",
    "city_capital"
   ]
  },
  {
   "cell_type": "code",
   "execution_count": 5,
   "metadata": {},
   "outputs": [
    {
     "name": "stdout",
     "output_type": "stream",
     "text": "88}},\n {'base': 'stations',\n  'clouds': {'all': 7},\n  'cod': 200,\n  'coord': {'lat': -30.18, 'lon': -50.21},\n  'dt': 1583433686,\n  'id': 3466165,\n  'main': {'feels_like': 295.13,\n           'grnd_level': 1019,\n           'humidity': 64,\n           'pressure': 1018,\n           'sea_level': 1018,\n           'temp': 296.09,\n           'temp_max': 296.09,\n           'temp_min': 296.09},\n  'name': 'Cidreira',\n  'sys': {'country': 'BR', 'sunrise': 1583399695, 'sunset': 1583444990},\n  'timezone': -10800,\n  'weather': [{'description': 'clear sky',\n               'icon': '01d',\n               'id': 800,\n               'main': 'Clear'}],\n  'wind': {'deg': 136, 'speed': 4.08}},\n {'base': 'stations',\n  'clouds': {'all': 36},\n  'cod': 200,\n  'coord': {'lat': -35.33, 'lon': -72.42},\n  'dt': 1583433736,\n  'id': 3893726,\n  'main': {'feels_like': 292.54,\n           'grnd_level': 995,\n           'humidity': 47,\n           'pressure': 1012,\n           'sea_level': 1012,\n           'temp': 296.09,\n           'temp_max': 296.09,\n           'temp_min': 296.09},\n  'name': 'Constitución',\n  'sys': {'country': 'CL', 'sunrise': 1583404836, 'sunset': 1583450508},\n  'timezone': -10800,\n  'weather': [{'description': 'scattered clouds',\n               'icon': '03d',\n               'id': 802,\n               'main': 'Clouds'}],\n  'wind': {'deg': 217, 'speed': 5.54}},\n {'base': 'stations',\n  'clouds': {'all': 34},\n  'cod': 200,\n  'coord': {'lat': 49.92, 'lon': -109.48},\n  'dt': 1583433726,\n  'id': 6065592,\n  'main': {'feels_like': 266.55,\n           'grnd_level': 930,\n           'humidity': 39,\n           'pressure': 1023,\n           'sea_level': 1023,\n           'temp': 276.25,\n           'temp_max': 276.25,\n           'temp_min': 276.25},\n  'name': 'Maple Creek',\n  'sys': {'country': 'CA', 'sunrise': 1583416303, 'sunset': 1583456827},\n  'timezone': -21600,\n  'weather': [{'description': 'scattered clouds',\n               'icon': '03d',\n               'id': 802,\n               'main': 'Clouds'}],\n  'wind': {'deg': 181, 'speed': 9.54}},\n {'base': 'stations',\n  'clouds': {'all': 3},\n  'cod': 200,\n  'coord': {'lat': -38.92, 'lon': 174.25},\n  'dt': 1583433736,\n  'id': 2208091,\n  'main': {'feels_like': 277.11,\n           'humidity': 68,\n           'pressure': 1025,\n           'temp': 281.47,\n           'temp_max': 283.15,\n           'temp_min': 279.26},\n  'name': 'Waitara',\n  'sys': {'country': 'NZ',\n          'id': 2020402,\n          'sunrise': 1583431904,\n          'sunset': 1583477829,\n          'type': 3},\n  'timezone': 46800,\n  'weather': [{'description': 'clear sky',\n               'icon': '01d',\n               'id': 800,\n               'main': 'Clear'}],\n  'wind': {'deg': 152, 'gust': 5.36, 'speed': 4.02}},\n {'base': 'stations',\n  'clouds': {'all': 40},\n  'cod': 200,\n  'coord': {'lat': 47.5, 'lon': -111.3},\n  'dt': 1583433737,\n  'id': 5655240,\n  'main': {'feels_like': 270.59,\n           'humidity': 21,\n           'pressure': 1021,\n           'temp': 279.99,\n           'temp_max': 282.15,\n           'temp_min': 276.15},\n  'name': 'Great Falls',\n  'sys': {'country': 'US',\n          'id': 4204,\n          'sunrise': 1583416619,\n          'sunset': 1583457385,\n          'type': 1},\n  'timezone': -25200,\n  'visibility': 16093,\n  'weather': [{'description': 'scattered clouds',\n               'icon': '03d',\n               'id': 802,\n               'main': 'Clouds'}],\n  'wind': {'deg': 200, 'speed': 8.7}},\n {'cod': '404', 'message': 'city not found'},\n {'base': 'stations',\n  'clouds': {'all': 57},\n  'cod': 200,\n  'coord': {'lat': -45.87, 'lon': 170.5},\n  'dt': 1583433737,\n  'id': 2191562,\n  'main': {'feels_like': 283.1,\n           'humidity': 72,\n           'pressure': 1010,\n           'temp': 284.53,\n           'temp_max': 284.82,\n           'temp_min': 284.26},\n  'name': 'Dunedin',\n  'sys': {'country': 'NZ',\n          'id': 2031989,\n          'sunrise': 1583432468,\n          'sunset': 1583479066,\n          'type': 3},\n  'timezone': 46800,\n  'weather': [{'description': 'broken clouds',\n               'icon': '04d',\n               'id': 803,\n               'main': 'Clouds'}],\n  'wind': {'deg': 225, 'gust': 4.02, 'speed': 0.89}},\n {'base': 'stations',\n  'clouds': {'all': 0},\n  'cod': 200,\n  'coord': {'lat': 14.28, 'lon': 74.45},\n  'dt': 1583433737,\n  'id': 1269976,\n  'main': {'feels_like': 295.24,\n           'grnd_level': 991,\n           'humidity': 88,\n           'pressure': 1011,\n           'sea_level': 1011,\n           'temp': 293.17,\n           'temp_max': 293.17,\n           'temp_min': 293.17},\n  'name': 'Honāvar',\n  'sys': {'country': 'IN', 'sunrise': 1583457349, 'sunset': 1583500280},\n  'timezone': 19800,\n  'weather': [{'description': 'clear sky',\n               'icon': '01n',\n               'id': 800,\n               'main': 'Clear'}],\n  'wind': {'deg': 39, 'speed': 1.01}},\n {'cod': '404', 'message': 'city not found'},\n {'base': 'stations',\n  'clouds': {'all': 40},\n  'cod': 200,\n  'coord': {'lat': 38.52, 'lon': -28.7},\n  'dt': 1583433737,\n  'id': 3372707,\n  'main': {'feels_like': 287.29,\n           'humidity': 72,\n           'pressure': 1034,\n           'temp': 289.15,\n           'temp_max': 289.15,\n           'temp_min': 289.15},\n  'name': 'Ribeira Grande',\n  'sys': {'country': 'PT',\n          'id': 6883,\n          'sunrise': 1583396446,\n          'sunset': 1583437916,\n          'type': 1},\n  'timezone': -3600,\n  'visibility': 10000,\n  'weather': [{'description': 'scattered clouds',\n               'icon': '03d',\n               'id': 802,\n               'main': 'Clouds'}],\n  'wind': {'deg': 150, 'speed': 3.1}},\n {'base': 'stations',\n  'clouds': {'all': 19},\n  'cod': 200,\n  'coord': {'lat': -10.45, 'lon': 161.92},\n  'dt': 1583433737,\n  'id': 2178753,\n  'main': {'feels_like': 301.47,\n           'grnd_level': 985,\n           'humidity': 85,\n           'pressure': 1006,\n           'sea_level': 1006,\n           'temp': 298.23,\n           'temp_max': 298.23,\n           'temp_min': 298.23},\n  'name': 'Kirakira',\n  'sys': {'country': 'SB', 'sunrise': 1583435770, 'sunset': 1583479880},\n  'timezone': 39600,\n  'weather': [{'description': 'few clouds',\n               'icon': '02n',\n               'id': 801,\n               'main': 'Clouds'}],\n  'wind': {'deg': 180, 'speed': 2.38}},\n {'base': 'stations',\n  'clouds': {'all': 100},\n  'cod': 200,\n  'coord': {'lat': 66.77, 'lon': 123.37},\n  'dt': 1583433737,\n  'id': 2012530,\n  'main': {'feels_like': 247.6,\n           'grnd_level': 1002,\n           'humidity': 93,\n           'pressure': 1008,\n           'sea_level': 1008,\n           'temp': 257,\n           'temp_max': 257,\n           'temp_min': 257},\n  'name': 'Zhigansk',\n  'snow': {'3h': 0.13},\n  'sys': {'country': 'RU', 'sunrise': 1583448136, 'sunset': 1583486015},\n  'timezone': 32400,\n  'weather': [{'description': 'light snow',\n               'icon': '13n',\n               'id': 600,\n               'main': 'Snow'}],\n  'wind': {'deg': 167, 'speed': 8.48}},\n {'base': 'stations',\n  'clouds': {'all': 67},\n  'cod': 200,\n  'coord': {'lat': 17.96, 'lon': -102.2},\n  'dt': 1583433737,\n  'id': 4026082,\n  'main': {'feels_like': 302.61,\n           'grnd_level': 1001,\n           'humidity': 36,\n           'pressure': 1014,\n           'sea_level': 1014,\n           'temp': 304.02,\n           'temp_max': 304.02,\n           'temp_min': 304.02},\n  'name': 'Lázaro Cárdenas',\n  'sys': {'country': 'MX', 'sunrise': 1583413457, 'sunset': 1583456179},\n  'timezone': -21600,\n  'weather': [{'description': 'broken clouds',\n               'icon': '04d',\n               'id': 803,\n               'main': 'Clouds'}],\n  'wind': {'deg': 204, 'speed': 3.84}},\n {'base': 'stations',\n  'clouds': {'all': 0},\n  'cod': 200,\n  'coord': {'lat': 28.37, 'lon': 121.36},\n  'dt': 1583433738,\n  'id': 1791464,\n  'main': {'feels_like': 274.71,\n           'humidity': 89,\n           'pressure': 1020,\n           'temp': 277.59,\n           'temp_max': 277.59,\n           'temp_min': 277.59},\n  'name': 'Wenling',\n  'sys': {'country': 'CN',\n          'id': 2013319,\n          'sunrise': 1583446461,\n          'sunset': 1583488655,\n          'type': 3},\n  'timezone': 28800,\n  'weather': [{'description': 'clear sky',\n               'icon': '01n',\n               'id': 800,\n               'main': 'Clear'}],\n  'wind': {'deg': 318, 'speed': 1.91}},\n {'base': 'stations',\n  'clouds': {'all': 40},\n  'cod': 200,\n  'coord': {'lat': 65.61, 'lon': -37.64},\n  'dt': 1583433738,\n  'id': 3424607,\n  'main': {'feels_like': 264.66,\n           'humidity': 62,\n           'pressure': 1004,\n           'temp': 268.15,\n           'temp_max': 268.15,\n           'temp_min': 268.15},\n  'name': 'Tasiilaq',\n  'sys': {'country': 'GL',\n          'id': 81,\n          'sunrise': 1583400355,\n          'sunset': 1583438297,\n          'type': 1},\n  'timezone': -10800,\n  'visibility': 10000,\n  'weather': [{'description': 'scattered clouds',\n               'icon': '03d',\n               'id': 802,\n               'main': 'Clouds'}],\n  'wind': {'deg': 240, 'speed': 0.5}},\n {'base': 'stations',\n  'clouds': {'all': 7},\n  'cod': 200,\n  'coord': {'lat': -23.12, 'lon': -134.97},\n  'dt': 1583433738,\n  'id': 4030556,\n  'main': {'feels_like': 295.31,\n           'grnd_level': 1015,\n           'humidity': 76,\n           'pressure': 1015,\n           'sea_level': 1015,\n           'temp': 298.28,\n           'temp_max': 298.28,\n           'temp_min': 298.28},\n  'name': 'Rikitea',\n  'rain': {'3h': 0.63},\n  'sys': {'country': 'PF', 'sunrise': 1583420274, 'sunset': 1583465089},\n  'timezone': -32400,\n  'weather': [{'description': 'light rain',\n               'icon': '10d',\n               'id': 500,\n               'main': 'Rain'}],\n  'wind': {'deg': 105, 'speed': 9.93}},\n {'base': 'stations',\n  'clouds': {'all': 50},\n  'cod': 200,\n  'coord': {'lat': 5.48, 'lon': -53.2},\n  'dt': 1583433738,\n  'id': 3381428,\n  'main': {'feels_like': 300.52,\n           'grnd_level': 1013,\n           'humidity': 73,\n           'pressure': 1013,\n           'sea_level': 1013,\n           'temp': 300.19,\n           'temp_max': 300.19,\n           'temp_min': 300.19},\n  'name': 'Iracoubo',\n  'sys': {'country': 'GF', 'sunrise': 1583401393, 'sunset': 1583444727},\n  'timezone': -10800,\n  'weather': [{'description': 'scattered clouds',\n               'icon': '03d',\n               'id': 802,\n               'main': 'Clouds'}],\n  'wind': {'deg': 55, 'speed': 6.07}},\n {'base': 'stations',\n  'clouds': {'all': 99},\n  'cod': 200,\n  'coord': {'lat': 6.62, 'lon': 73.07},\n  'dt': 1583433738,\n  'id': 1337613,\n  'main': {'feels_like': 305.19,\n           'grnd_level': 1012,\n           'humidity': 66,\n           'pressure': 1012,\n           'sea_level': 1012,\n           'temp': 301.58,\n           'temp_max': 301.58,\n           'temp_min': 301.58},\n  'name': 'Kulhudhuffushi',\n  'sys': {'country': 'MV', 'sunrise': 1583371125, 'sunset': 1583414395},\n  'timezone': 18000,\n  'weather': [{'description': 'overcast clouds',\n               'icon': '04n',\n               'id': 804,\n               'main': 'Clouds'}],\n  'wind': {'deg': 281, 'speed': 1.15}},\n {'base': 'stations',\n  'clouds': {'all': 28},\n  'cod': 200,\n  'coord': {'lat': -46.13, 'lon': 167.68},\n  'dt': 1583433738,\n  'id': 2180815,\n  'main': {'feels_like': 276.7,\n           'humidity': 94,\n           'pressure': 1027,\n           'temp': 278.71,\n           'temp_max': 278.71,\n           'temp_min': 278.71},\n  'name': 'Tuatapere',\n  'sys': {'country': 'NZ',\n          'id': 2008959,\n          'sunrise': 1583433131,\n          'sunset': 1583479756,\n          'type': 3},\n  'timezone': 46800,\n  'weather': [{'description': 'scattered clouds',\n               'icon': '03d',\n               'id': 802,\n               'main': 'Clouds'}],\n  'wind': {'deg': 320, 'speed': 1.17}},\n {'base': 'stations',\n  'clouds': {'all': 20},\n  'cod': 200,\n  'coord': {'lat': -0.74, 'lon': -90.35},\n  'dt': 1583433738,\n  'id': 3652764,\n  'main': {'feels_like': 305.06,\n           'humidity': 66,\n           'pressure': 1012,\n           'temp': 303.1,\n           'temp_max': 304.15,\n           'temp_min': 302.04},\n  'name': 'Puerto Ayora',\n  'sys': {'country': 'EC',\n          'id': 8521,\n          'sunrise': 1583410156,\n          'sunset': 1583453793,\n          'type': 1},\n  'timezone': -21600,\n  'visibility': 10000,\n  'weather': [{'description': 'few clouds',\n               'icon': '02d',\n               'id': 801,\n               'main': 'Clouds'}],\n  'wind': {'deg': 90, 'speed': 4.6}},\n {'base': 'stations',\n  'clouds': {'all': 1},\n  'cod': 200,\n  'coord': {'lat': 22.08, 'lon': -159.32},\n  'dt': 1583433738,\n  'id': 5848280,\n  'main': {'feels_like': 293.77,\n           'humidity': 94,\n           'pressure': 1017,\n           'temp': 292.6,\n           'temp_max': 293.15,\n           'temp_min': 292.04},\n  'name': 'Kapaa',\n  'sys': {'country': 'US',\n          'id': 7873,\n          'sunrise': 1583427265,\n          'sunset': 1583469784,\n          'type': 1},\n  'timezone': -36000,\n  'visibility': 16093,\n  'weather': [{'description': 'clear sky',\n               'icon': '01d',\n               'id': 800,\n               'main': 'Clear'}],\n  'wind': {'deg': 290, 'speed': 2.6}},\n {'base': 'stations',\n  'clouds': {'all': 56},\n  'cod': 200,\n  'coord': {'lat': -0.6, 'lon': 73.08},\n  'dt': 1583433738,\n  'id': 1282256,\n  'main': {'feels_like': 304.46,\n           'grnd_level': 1012,\n           'humidity': 69,\n           'pressure': 1012,\n           'sea_level': 1012,\n           'temp': 301.86,\n           'temp_max': 301.86,\n           'temp_min': 301.86},\n  'name': 'Hithadhoo',\n  'sys': {'country': 'MV', 'sunrise': 1583370942, 'sunset': 1583414573},\n  'timezone': 18000,\n  'weather': [{'description': 'broken clouds',\n               'icon': '04n',\n               'id': 803,\n               'main': 'Clouds'}],\n  'wind': {'deg': 344, 'speed': 3.34}},\n {'base': 'stations',\n  'clouds': {'all': 6},\n  'cod': 200,\n  'coord': {'lat': -21.21, 'lon': -159.78},\n  'dt': 1583433738,\n  'id': 4035715,\n  'main': {'feels_like': 305.77,\n           'humidity': 88,\n           'pressure': 1010,\n           'temp': 300.15,\n           'temp_max': 300.15,\n           'temp_min': 300.15},\n  'name': 'Avarua',\n  'sys': {'country': 'CK',\n          'id': 7271,\n          'sunrise': 1583426287,\n          'sunset': 1583470983,\n          'type': 1},\n  'timezone': -36000,\n  'visibility': 10000,\n  'weather': [{'description': 'clear sky',\n               'icon': '01d',\n               'id': 800,\n               'main': 'Clear'}],\n  'wind': {'deg': 180, 'speed': 1}},\n {'cod': '404', 'message': 'city not found'},\n {'base': 'stations',\n  'clouds': {'all': 41},\n  'cod': 200,\n  'coord': {'lat': -45.58, 'lon': -72.07},\n  'dt': 1583433739,\n  'id': 3894426,\n  'main': {'feels_like': 292.98,\n           'humidity': 40,\n           'pressure': 1017,\n           'temp': 296.15,\n           'temp_max': 296.15,\n           'temp_min': 296.15},\n  'name': 'Coyhaique',\n  'sys': {'country': 'CL',\n          'id': 8491,\n          'sunrise': 1583404273,\n          'sunset': 1583450903,\n          'type': 1},\n  'timezone': -10800,\n  'visibility': 10000,\n  'weather': [{'description': 'scattered clouds',\n               'icon': '03d',\n               'id': 802,\n               'main': 'Clouds'}],\n  'wind': {'deg': 190, 'speed': 4.1}},\n {'base': 'stations',\n  'clouds': {'all': 100},\n  'cod': 200,\n  'coord': {'lat': 53.6, 'lon': 91.39},\n  'dt': 1583433739,\n  'id': 1510377,\n  'main': {'feels_like': 265.23,\n           'humidity': 73,\n           'pressure': 1008,\n           'temp': 270.15,\n           'temp_max': 270.15,\n           'temp_min': 270.15},\n  'name': 'Belyy Yar',\n  'sys': {'country': 'RU',\n          'id': 8942,\n          'sunrise': 1583454639,\n          'sunset': 1583494861,\n          'type': 1},\n  'timezone': 25200,\n  'visibility': 10000,\n  'weather': [{'description': 'overcast clouds',\n               'icon': '04n',\n               'id': 804,\n               'main': 'Clouds'}],\n  'wind': {'deg': 190, 'speed': 3}},\n {'base': 'stations',\n  'clouds': {'all': 90},\n  'cod': 200,\n  'coord': {'lat': 68.75, 'lon': 161.3},\n  'dt': 1583433739,\n  'id': 2126199,\n  'main': {'feels_like': 246.47,\n           'grnd_level': 1010,\n           'humidity': 85,\n           'pressure': 1012,\n           'sea_level': 1012,\n           'temp': 252.55,\n           'temp_max': 252.55,\n           'temp_min': 252.55},\n  'name': 'Cherskiy',\n  'sys': {'country': 'RU', 'sunrise': 1583439349, 'sunset': 1583476599},\n  'timezone': 39600,\n  'weather': [{'description': 'overcast clouds',\n               'icon': '04n',\n               'id': 804,\n               'main': 'Clouds'}],\n  'wind': {'deg': 158, 'speed': 3.44}},\n {'base': 'stations',\n  'clouds': {'all': 75},\n  'cod': 200,\n  'coord': {'lat': 69.7, 'lon': 170.31},\n  'dt': 1583433739,\n  'id': 2122090,\n  'main': {'feels_like': 242.93,\n           'grnd_level': 1011,\n           'humidity': 80,\n           'pressure': 1012,\n           'sea_level': 1012,\n           'temp': 250.01,\n           'temp_max': 250.01,\n           'temp_min': 250.01},\n  'name': 'Pevek',\n  'sys': {'country': 'RU', 'sunrise': 1583437352, 'sunset': 1583474272},\n  'timezone': 43200,\n  'weather': [{'description': 'broken clouds',\n               'icon': '04n',\n               'id': 803,\n               'main': 'Clouds'}],\n  'wind': {'deg': 146, 'speed': 4.76}},\n {'base': 'stations',\n  'clouds': {'all': 90},\n  'cod': 200,\n  'coord': {'lat': 33.19, 'lon': -82.53},\n  'dt': 1583433739,\n  'id': 4231997,\n  'main': {'feels_like': 279.97,\n           'humidity': 86,\n           'pressure': 1016,\n           'temp': 283.6,\n           'temp_max': 284.26,\n           'temp_min': 283.15},\n  'name': 'Avera',\n  'rain': {'1h': 0.76},\n  'sys': {'country': 'US',\n          'id': 2827,\n          'sunrise': 1583409170,\n          'sunset': 1583451026,\n          'type': 1},\n  'timezone': -18000,\n  'visibility': 16093,\n  'weather': [{'description': 'light rain',\n               'icon': '10d',\n               'id': 500,\n               'main': 'Rain'}],\n  'wind': {'deg': 50, 'gust': 8.2, 'speed': 4.6}},\n {'base': 'stations',\n  'clouds': {'all': 10},\n  'cod': 200,\n  'coord': {'lat': 12.18, 'lon': 18.69},\n  'dt': 1583433739,\n  'id': 2427637,\n  'main': {'feels_like': 298.74,\n           'grnd_level': 954,\n           'humidity': 12,\n           'pressure': 1007,\n           'sea_level': 1007,\n           'temp': 303.49,\n           'temp_max': 303.49,\n           'temp_min': 303.49},\n  'name': 'Mongo',\n  'sys': {'country': 'TD', 'sunrise': 1583384311, 'sunset': 1583427308},\n  'timezone': 3600,\n  'weather': [{'description': 'clear sky',\n               'icon': '01n',\n               'id': 800,\n               'main': 'Clear'}],\n  'wind': {'deg': 350, 'speed': 3.51}},\n {'base': 'stations',\n  'clouds': {'all': 99},\n  'cod': 200,\n  'coord': {'lat': 71.97, 'lon': 102.5},\n  'dt': 1583433739,\n  'id': 2022572,\n  'main': {'feels_like': 237.71,\n           'grnd_level': 1000,\n           'humidity': 97,\n           'pressure': 1003,\n           'sea_level': 1003,\n           'temp': 244.8,\n           'temp_max': 244.8,\n           'temp_min': 244.8},\n  'name': 'Khatanga',\n  'sys': {'country': 'RU', 'sunrise': 1583454015, 'sunset': 1583490153},\n  'timezone': 25200,\n  'weather': [{'description': 'overcast clouds',\n               'icon': '04n',\n               'id': 804,\n               'main': 'Clouds'}],\n  'wind': {'deg': 8, 'speed': 4.68}},\n {'base': 'stations',\n  'clouds': {'all': 27},\n  'cod': 200,\n  'coord': {'lat': -17.34, 'lon': -39.22},\n  'dt': 1583433500,\n  'id': 3452483,\n  'main': {'feels_like': 303,\n           'grnd_level': 1011,\n           'humidity': 75,\n           'pressure': 1011,\n           'sea_level': 1011,\n           'temp': 300.86,\n           'temp_max': 300.86,\n           'temp_min': 300.86},\n  'name': 'Prado',\n  'sys': {'country': 'BR', 'sunrise': 1583397457, 'sunset': 1583441954},\n  'timezone': -10800,\n  'weather': [{'description': 'scattered clouds',\n               'icon': '03d',\n               'id': 802,\n               'main': 'Clouds'}],\n  'wind': {'deg': 65, 'speed': 4.33}}]\n"
    }
   ],
   "source": [
    "pprint(responses)"
   ]
  },
  {
   "cell_type": "code",
   "execution_count": null,
   "metadata": {},
   "outputs": [],
   "source": []
  }
 ]
}