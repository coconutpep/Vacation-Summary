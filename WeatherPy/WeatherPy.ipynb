{
 "nbformat": 4,
 "nbformat_minor": 2,
 "metadata": {
  "language_info": {
   "name": "python",
   "codemirror_mode": {
    "name": "ipython",
    "version": 3
   },
   "version": "3.7.4-final"
  },
  "orig_nbformat": 2,
  "file_extension": ".py",
  "mimetype": "text/x-python",
  "name": "python",
  "npconvert_exporter": "python",
  "pygments_lexer": "ipython3",
  "version": 3,
  "kernelspec": {
   "name": "python37664bitpythondataconda9adbda39bd454e7faf6cd0d67b7317a9",
   "display_name": "Python 3.7.6 64-bit ('PythonData': conda)"
  }
 },
 "cells": [
  {
   "cell_type": "code",
   "execution_count": 1,
   "metadata": {},
   "outputs": [],
   "source": [
    "# Dependencies and Setup\n",
    "import matplotlib.pyplot as plt\n",
    "import pandas as pd\n",
    "import numpy as np\n",
    "import requests\n",
    "import time\n",
    "import csv\n",
    "from scipy.stats import linregress\n",
    "from pprint import pprint\n",
    "# Import API key\n",
    "from config import api_key\n",
    "\n",
    "# Incorporated citipy to determine city based on latitude and longitude\n",
    "from citipy import citipy\n",
    "\n",
    "# Output File (CSV)\n",
    "output_data_file = \"output_data/cities.csv\"\n",
    "\n",
    "# Range of latitudes and longitudes\n",
    "lat_range = (-90, 90)\n",
    "lng_range = (-180, 180)"
   ]
  },
  {
   "cell_type": "code",
   "execution_count": 2,
   "metadata": {},
   "outputs": [
    {
     "data": {
      "text/plain": "635"
     },
     "execution_count": 2,
     "metadata": {},
     "output_type": "execute_result"
    }
   ],
   "source": [
    "# List for holding lat_lngs and cities\n",
    "lat_lngs = []\n",
    "cities = []\n",
    "\n",
    "# Create a set of random lat and lng combinations\n",
    "lats = np.random.uniform(low=-90.000, high=90.000, size=1500)\n",
    "lngs = np.random.uniform(low=-180.000, high=180.000, size=1500)\n",
    "lat_lngs = zip(lats, lngs)\n",
    "\n",
    "# Identify nearest city for each lat, lng combination\n",
    "for lat_lng in lat_lngs:\n",
    "    city = citipy.nearest_city(lat_lng[0], lat_lng[1]).city_name\n",
    "    \n",
    "    # If the city is unique, then add it to a our cities list\n",
    "    if city not in cities:\n",
    "        cities.append(city)\n",
    "\n",
    "# Print the city count to confirm sufficient count\n",
    "len(cities)"
   ]
  },
  {
   "cell_type": "code",
   "execution_count": 3,
   "metadata": {},
   "outputs": [],
   "source": [
    "#URL for OpenWeather API\n",
    "url = \"http://api.openweathermap.org/data/2.5/weather?q=\"\n",
    "#List to hold API responses\n",
    "responses = []\n",
    "#For loop to pull data for each of the first 60 cities in the list\n",
    "for city in cities[0:60]:\n",
    "    city_url = url + f\"{city}&appid={api_key}\"\n",
    "    responses.append(requests.get(city_url).json())"
   ]
  },
  {
   "cell_type": "code",
   "execution_count": 11,
   "metadata": {},
   "outputs": [
    {
     "data": {
      "text/html": "<div>\n<style scoped>\n    .dataframe tbody tr th:only-of-type {\n        vertical-align: middle;\n    }\n\n    .dataframe tbody tr th {\n        vertical-align: top;\n    }\n\n    .dataframe thead th {\n        text-align: right;\n    }\n</style>\n<table border=\"1\" class=\"dataframe\">\n  <thead>\n    <tr style=\"text-align: right;\">\n      <th></th>\n      <th>coord</th>\n      <th>weather</th>\n      <th>base</th>\n      <th>main</th>\n      <th>wind</th>\n      <th>clouds</th>\n      <th>dt</th>\n      <th>sys</th>\n      <th>timezone</th>\n      <th>id</th>\n      <th>name</th>\n      <th>cod</th>\n      <th>visibility</th>\n      <th>snow</th>\n      <th>message</th>\n      <th>rain</th>\n    </tr>\n  </thead>\n  <tbody>\n    <tr>\n      <th>0</th>\n      <td>{'lon': 161.3, 'lat': 68.75}</td>\n      <td>[{'id': 802, 'main': 'Clouds', 'description': ...</td>\n      <td>stations</td>\n      <td>{'temp': 256.09, 'feels_like': 247.85, 'temp_m...</td>\n      <td>{'speed': 6.61, 'deg': 148}</td>\n      <td>{'all': 46}</td>\n      <td>1.583356e+09</td>\n      <td>{'country': 'RU', 'sunrise': 1583353210, 'suns...</td>\n      <td>39600.0</td>\n      <td>2126199.0</td>\n      <td>Cherskiy</td>\n      <td>200</td>\n      <td>NaN</td>\n      <td>NaN</td>\n      <td>NaN</td>\n      <td>NaN</td>\n    </tr>\n  </tbody>\n</table>\n</div>",
      "text/plain": "                          coord  \\\n0  {'lon': 161.3, 'lat': 68.75}   \n\n                                             weather      base  \\\n0  [{'id': 802, 'main': 'Clouds', 'description': ...  stations   \n\n                                                main  \\\n0  {'temp': 256.09, 'feels_like': 247.85, 'temp_m...   \n\n                          wind       clouds            dt  \\\n0  {'speed': 6.61, 'deg': 148}  {'all': 46}  1.583356e+09   \n\n                                                 sys  timezone         id  \\\n0  {'country': 'RU', 'sunrise': 1583353210, 'suns...   39600.0  2126199.0   \n\n       name  cod  visibility snow message rain  \n0  Cherskiy  200         NaN  NaN     NaN  NaN  "
     },
     "execution_count": 11,
     "metadata": {},
     "output_type": "execute_result"
    }
   ],
   "source": [
    "#Dump pulled data in a new csv\n",
    "city_weather = pd.DataFrame(responses)\n",
    "city_weather.head(1)"
   ]
  },
  {
   "cell_type": "code",
   "execution_count": null,
   "metadata": {},
   "outputs": [],
   "source": []
  }
 ]
}