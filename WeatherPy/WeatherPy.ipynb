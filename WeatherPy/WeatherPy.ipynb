{
 "nbformat": 4,
 "nbformat_minor": 2,
 "metadata": {
  "language_info": {
   "name": "python",
   "codemirror_mode": {
    "name": "ipython",
    "version": 3
   },
   "version": "3.7.4-final"
  },
  "orig_nbformat": 2,
  "file_extension": ".py",
  "mimetype": "text/x-python",
  "name": "python",
  "npconvert_exporter": "python",
  "pygments_lexer": "ipython3",
  "version": 3,
  "kernelspec": {
   "name": "python37664bitpythondataconda9adbda39bd454e7faf6cd0d67b7317a9",
   "display_name": "Python 3.7.6 64-bit ('PythonData': conda)"
  }
 },
 "cells": [
  {
   "cell_type": "code",
   "execution_count": 5,
   "metadata": {},
   "outputs": [
    {
     "name": "stdout",
     "output_type": "stream",
     "text": "c757952582c88fb0a7dc7031a0578358\n"
    }
   ],
   "source": [
    "# Dependencies and Setup\n",
    "import matplotlib.pyplot as plt\n",
    "import pandas as pd\n",
    "import numpy as np\n",
    "import requests\n",
    "import time\n",
    "from scipy.stats import linregress\n",
    "from pprint import pprint\n",
    "# Import API key\n",
    "from config import api_key\n",
    "\n",
    "# Incorporated citipy to determine city based on latitude and longitude\n",
    "from citipy import citipy\n",
    "\n",
    "# Output File (CSV)\n",
    "output_data_file = \"output_data/cities.csv\"\n",
    "\n",
    "# Range of latitudes and longitudes\n",
    "lat_range = (-90, 90)\n",
    "lng_range = (-180, 180)"
   ]
  },
  {
   "cell_type": "code",
   "execution_count": 3,
   "metadata": {},
   "outputs": [
    {
     "data": {
      "text/plain": "601"
     },
     "execution_count": 3,
     "metadata": {},
     "output_type": "execute_result"
    }
   ],
   "source": [
    "# List for holding lat_lngs and cities\n",
    "lat_lngs = []\n",
    "cities = []\n",
    "\n",
    "# Create a set of random lat and lng combinations\n",
    "lats = np.random.uniform(low=-90.000, high=90.000, size=1500)\n",
    "lngs = np.random.uniform(low=-180.000, high=180.000, size=1500)\n",
    "lat_lngs = zip(lats, lngs)\n",
    "\n",
    "# Identify nearest city for each lat, lng combination\n",
    "for lat_lng in lat_lngs:\n",
    "    city = citipy.nearest_city(lat_lng[0], lat_lng[1]).city_name\n",
    "    \n",
    "    # If the city is unique, then add it to a our cities list\n",
    "    if city not in cities:\n",
    "        cities.append(city)\n",
    "\n",
    "# Print the city count to confirm sufficient count\n",
    "len(cities)"
   ]
  },
  {
   "cell_type": "code",
   "execution_count": 13,
   "metadata": {},
   "outputs": [
    {
     "data": {
      "text/plain": "{'coord': {'lon': -79.24, 'lat': 42.1},\n 'weather': [{'id': 500,\n   'main': 'Rain',\n   'description': 'light rain',\n   'icon': '10d'},\n  {'id': 600, 'main': 'Snow', 'description': 'light snow', 'icon': '13d'},\n  {'id': 701, 'main': 'Mist', 'description': 'mist', 'icon': '50d'}],\n 'base': 'stations',\n 'main': {'temp': 274.53,\n  'feels_like': 268.87,\n  'temp_min': 273.15,\n  'temp_max': 275.37,\n  'pressure': 1008,\n  'humidity': 86},\n 'visibility': 4828,\n 'wind': {'speed': 5.1, 'deg': 260},\n 'rain': {'1h': 0.38},\n 'clouds': {'all': 90},\n 'dt': 1583352186,\n 'sys': {'type': 1,\n  'id': 4588,\n  'country': 'US',\n  'sunrise': 1583322398,\n  'sunset': 1583363447},\n 'timezone': -18000,\n 'id': 5122534,\n 'name': 'Jamestown',\n 'cod': 200}"
     },
     "execution_count": 13,
     "metadata": {},
     "output_type": "execute_result"
    }
   ],
   "source": [
    "#URL for OpenWeather API\n",
    "url = \"http://api.openweathermap.org/data/2.5/weather?q=\"\n",
    "#List to hold API responses\n",
    "responses = []\n",
    "#For loop to pull data for each of the first 60 cities in the list\n",
    "for city in cities[0:60]:\n",
    "    city_url = url + f\"{city}&appid={api_key}\"\n",
    "    responses.append(requests.get(city_url).json())"
   ]
  },
  {
   "cell_type": "code",
   "execution_count": 17,
   "metadata": {},
   "outputs": [
    {
     "data": {
      "text/plain": "{'coord': {'lon': -42.03, 'lat': -22.97},\n 'weather': [{'id': 803,\n   'main': 'Clouds',\n   'description': 'broken clouds',\n   'icon': '04d'}],\n 'base': 'stations',\n 'main': {'temp': 298.15,\n  'feels_like': 298.81,\n  'temp_min': 298.15,\n  'temp_max': 298.15,\n  'pressure': 1012,\n  'humidity': 83},\n 'visibility': 10000,\n 'wind': {'speed': 5.7, 'deg': 270},\n 'clouds': {'all': 75},\n 'dt': 1583352480,\n 'sys': {'type': 1,\n  'id': 8326,\n  'country': 'BR',\n  'sunrise': 1583311541,\n  'sunset': 1583356447},\n 'timezone': -10800,\n 'id': 3471451,\n 'name': 'Arraial do Cabo',\n 'cod': 200}"
     },
     "execution_count": 17,
     "metadata": {},
     "output_type": "execute_result"
    }
   ],
   "source": [
    "#For testing pulled data without repulling\n",
    "len(responses)\n",
    "responses[59]"
   ]
  },
  {
   "cell_type": "code",
   "execution_count": null,
   "metadata": {},
   "outputs": [],
   "source": []
  }
 ]
}