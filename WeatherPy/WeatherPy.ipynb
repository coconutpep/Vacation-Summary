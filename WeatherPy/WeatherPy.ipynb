{
 "nbformat": 4,
 "nbformat_minor": 2,
 "metadata": {
  "language_info": {
   "name": "python",
   "codemirror_mode": {
    "name": "ipython",
    "version": 3
   },
   "version": "3.7.4-final"
  },
  "orig_nbformat": 2,
  "file_extension": ".py",
  "mimetype": "text/x-python",
  "name": "python",
  "npconvert_exporter": "python",
  "pygments_lexer": "ipython3",
  "version": 3,
  "kernelspec": {
   "name": "python37664bitpythondataconda9adbda39bd454e7faf6cd0d67b7317a9",
   "display_name": "Python 3.7.6 64-bit ('PythonData': conda)"
  }
 },
 "cells": [
  {
   "cell_type": "code",
   "execution_count": 1,
   "metadata": {},
   "outputs": [],
   "source": [
    "# Dependencies and Setup\n",
    "import matplotlib.pyplot as plt\n",
    "import pandas as pd\n",
    "import numpy as np\n",
    "import requests\n",
    "import time\n",
    "import csv\n",
    "from scipy.stats import linregress\n",
    "from pprint import pprint\n",
    "# Import API key\n",
    "from config import api_key\n",
    "\n",
    "# Incorporated citipy to determine city based on latitude and longitude\n",
    "from citipy import citipy\n",
    "\n",
    "# Output File (CSV)\n",
    "output_data_file = \"output_data/cities.csv\"\n",
    "\n",
    "# Range of latitudes and longitudes\n",
    "lat_range = (-90, 90)\n",
    "lng_range = (-180, 180)"
   ]
  },
  {
   "cell_type": "code",
   "execution_count": 2,
   "metadata": {},
   "outputs": [
    {
     "data": {
      "text/plain": "594"
     },
     "execution_count": 2,
     "metadata": {},
     "output_type": "execute_result"
    }
   ],
   "source": [
    "# List for holding lat_lngs and cities\n",
    "lat_lngs = []\n",
    "cities = []\n",
    "\n",
    "# Create a set of random lat and lng combinations\n",
    "lats = np.random.uniform(low=-90.000, high=90.000, size=1500)\n",
    "lngs = np.random.uniform(low=-180.000, high=180.000, size=1500)\n",
    "lat_lngs = zip(lats, lngs)\n",
    "\n",
    "# Identify nearest city for each lat, lng combination\n",
    "for lat_lng in lat_lngs:\n",
    "    city = citipy.nearest_city(lat_lng[0], lat_lng[1]).city_name\n",
    "    \n",
    "    # If the city is unique, then add it to a our cities list\n",
    "    if city not in cities:\n",
    "        cities.append(city)\n",
    "\n",
    "# Print the city count to confirm sufficient count\n",
    "len(cities)"
   ]
  },
  {
   "cell_type": "code",
   "execution_count": 3,
   "metadata": {},
   "outputs": [],
   "source": [
    "#URL for OpenWeather API\n",
    "url = \"http://api.openweathermap.org/data/2.5/weather?q=\"\n",
    "#List to hold API responses\n",
    "responses = []\n",
    "#For loop to pull data for each of the first 60 cities in the list\n",
    "for city in cities[0:60]:\n",
    "    city_url = url + f\"{city}&appid={api_key}\"\n",
    "    responses.append(requests.get(city_url).json())"
   ]
  },
  {
   "cell_type": "code",
   "execution_count": 29,
   "metadata": {},
   "outputs": [],
   "source": [
    "#Create a dataframe out of the pulled data\n",
    "countries = []\n",
    "city_count = 0\n",
    "#for city in responses:\n",
    "    #city_data = responses[city_count]\n",
    "    #city_sys = city_data['sys']\n",
    "    #countries.append(city_sys['country'])\n",
    "    #city_count += 1\n",
    "#while city_count < 60:\n",
    "    #city_data = responses[city_count]\n",
    "    #city_data_sys = city_data['sys']\n",
    "    #countries.append(city_data_sys['country'])\n",
    "    #city_count += 1\n"
   ]
  },
  {
   "cell_type": "code",
   "execution_count": 47,
   "metadata": {},
   "outputs": [
    {
     "data": {
      "text/html": "<div>\n<style scoped>\n    .dataframe tbody tr th:only-of-type {\n        vertical-align: middle;\n    }\n\n    .dataframe tbody tr th {\n        vertical-align: top;\n    }\n\n    .dataframe thead th {\n        text-align: right;\n    }\n</style>\n<table border=\"1\" class=\"dataframe\">\n  <thead>\n    <tr style=\"text-align: right;\">\n      <th></th>\n      <th>coord</th>\n      <th>weather</th>\n      <th>base</th>\n      <th>main</th>\n      <th>visibility</th>\n      <th>wind</th>\n      <th>clouds</th>\n      <th>dt</th>\n      <th>sys</th>\n      <th>timezone</th>\n      <th>id</th>\n      <th>name</th>\n      <th>cod</th>\n      <th>rain</th>\n      <th>message</th>\n      <th>snow</th>\n    </tr>\n  </thead>\n  <tbody>\n    <tr>\n      <th>0</th>\n      <td>{'lon': -121.42, 'lat': 38.42}</td>\n      <td>[{'id': 800, 'main': 'Clear', 'description': '...</td>\n      <td>stations</td>\n      <td>{'temp': 291.65, 'feels_like': 290.46, 'temp_m...</td>\n      <td>16093.0</td>\n      <td>{'speed': 1.5, 'deg': 270}</td>\n      <td>{'all': 1}</td>\n      <td>1.583435e+09</td>\n      <td>{'type': 1, 'id': 3933, 'country': 'US', 'sunr...</td>\n      <td>-28800.0</td>\n      <td>5364271.0</td>\n      <td>Laguna</td>\n      <td>200</td>\n      <td>NaN</td>\n      <td>NaN</td>\n      <td>NaN</td>\n    </tr>\n    <tr>\n      <th>1</th>\n      <td>{'lon': 127.47, 'lat': 63.92}</td>\n      <td>[{'id': 804, 'main': 'Clouds', 'description': ...</td>\n      <td>stations</td>\n      <td>{'temp': 258.11, 'feels_like': 251.28, 'temp_m...</td>\n      <td>NaN</td>\n      <td>{'speed': 4.84, 'deg': 102}</td>\n      <td>{'all': 100}</td>\n      <td>1.583435e+09</td>\n      <td>{'country': 'RU', 'sunrise': 1583446814, 'suns...</td>\n      <td>32400.0</td>\n      <td>2017215.0</td>\n      <td>Sangar</td>\n      <td>200</td>\n      <td>NaN</td>\n      <td>NaN</td>\n      <td>NaN</td>\n    </tr>\n    <tr>\n      <th>2</th>\n      <td>{'lon': 131.55, 'lat': 48.98}</td>\n      <td>[{'id': 803, 'main': 'Clouds', 'description': ...</td>\n      <td>stations</td>\n      <td>{'temp': 259.94, 'feels_like': 255.95, 'temp_m...</td>\n      <td>NaN</td>\n      <td>{'speed': 0.9, 'deg': 331}</td>\n      <td>{'all': 58}</td>\n      <td>1.583435e+09</td>\n      <td>{'country': 'RU', 'sunrise': 1583444767, 'suns...</td>\n      <td>36000.0</td>\n      <td>2023360.0</td>\n      <td>Izvestkovyy</td>\n      <td>200</td>\n      <td>NaN</td>\n      <td>NaN</td>\n      <td>NaN</td>\n    </tr>\n    <tr>\n      <th>3</th>\n      <td>{'lon': -134.97, 'lat': -23.12}</td>\n      <td>[{'id': 500, 'main': 'Rain', 'description': 'l...</td>\n      <td>stations</td>\n      <td>{'temp': 298.28, 'feels_like': 295.31, 'temp_m...</td>\n      <td>NaN</td>\n      <td>{'speed': 9.93, 'deg': 105}</td>\n      <td>{'all': 7}</td>\n      <td>1.583435e+09</td>\n      <td>{'country': 'PF', 'sunrise': 1583420274, 'suns...</td>\n      <td>-32400.0</td>\n      <td>4030556.0</td>\n      <td>Rikitea</td>\n      <td>200</td>\n      <td>{'3h': 0.63}</td>\n      <td>NaN</td>\n      <td>NaN</td>\n    </tr>\n    <tr>\n      <th>4</th>\n      <td>{'lon': -156.47, 'lat': 20.89}</td>\n      <td>[{'id': 803, 'main': 'Clouds', 'description': ...</td>\n      <td>stations</td>\n      <td>{'temp': 294.87, 'feels_like': 296.79, 'temp_m...</td>\n      <td>16093.0</td>\n      <td>{'speed': 0.95, 'deg': 48}</td>\n      <td>{'all': 75}</td>\n      <td>1.583435e+09</td>\n      <td>{'type': 1, 'id': 7875, 'country': 'US', 'sunr...</td>\n      <td>-36000.0</td>\n      <td>5847411.0</td>\n      <td>Kahului</td>\n      <td>200</td>\n      <td>NaN</td>\n      <td>NaN</td>\n      <td>NaN</td>\n    </tr>\n  </tbody>\n</table>\n</div>",
      "text/plain": "                             coord  \\\n0   {'lon': -121.42, 'lat': 38.42}   \n1    {'lon': 127.47, 'lat': 63.92}   \n2    {'lon': 131.55, 'lat': 48.98}   \n3  {'lon': -134.97, 'lat': -23.12}   \n4   {'lon': -156.47, 'lat': 20.89}   \n\n                                             weather      base  \\\n0  [{'id': 800, 'main': 'Clear', 'description': '...  stations   \n1  [{'id': 804, 'main': 'Clouds', 'description': ...  stations   \n2  [{'id': 803, 'main': 'Clouds', 'description': ...  stations   \n3  [{'id': 500, 'main': 'Rain', 'description': 'l...  stations   \n4  [{'id': 803, 'main': 'Clouds', 'description': ...  stations   \n\n                                                main  visibility  \\\n0  {'temp': 291.65, 'feels_like': 290.46, 'temp_m...     16093.0   \n1  {'temp': 258.11, 'feels_like': 251.28, 'temp_m...         NaN   \n2  {'temp': 259.94, 'feels_like': 255.95, 'temp_m...         NaN   \n3  {'temp': 298.28, 'feels_like': 295.31, 'temp_m...         NaN   \n4  {'temp': 294.87, 'feels_like': 296.79, 'temp_m...     16093.0   \n\n                          wind        clouds            dt  \\\n0   {'speed': 1.5, 'deg': 270}    {'all': 1}  1.583435e+09   \n1  {'speed': 4.84, 'deg': 102}  {'all': 100}  1.583435e+09   \n2   {'speed': 0.9, 'deg': 331}   {'all': 58}  1.583435e+09   \n3  {'speed': 9.93, 'deg': 105}    {'all': 7}  1.583435e+09   \n4   {'speed': 0.95, 'deg': 48}   {'all': 75}  1.583435e+09   \n\n                                                 sys  timezone         id  \\\n0  {'type': 1, 'id': 3933, 'country': 'US', 'sunr...  -28800.0  5364271.0   \n1  {'country': 'RU', 'sunrise': 1583446814, 'suns...   32400.0  2017215.0   \n2  {'country': 'RU', 'sunrise': 1583444767, 'suns...   36000.0  2023360.0   \n3  {'country': 'PF', 'sunrise': 1583420274, 'suns...  -32400.0  4030556.0   \n4  {'type': 1, 'id': 7875, 'country': 'US', 'sunr...  -36000.0  5847411.0   \n\n          name  cod          rain message snow  \n0       Laguna  200           NaN     NaN  NaN  \n1       Sangar  200           NaN     NaN  NaN  \n2  Izvestkovyy  200           NaN     NaN  NaN  \n3      Rikitea  200  {'3h': 0.63}     NaN  NaN  \n4      Kahului  200           NaN     NaN  NaN  "
     },
     "execution_count": 47,
     "metadata": {},
     "output_type": "execute_result"
    }
   ],
   "source": [
    "df = pd.DataFrame(responses)\n",
    "df.loc[df['cod'] == '404']\n",
    "df = df.drop([4,37,48,52])\n",
    "df = df.reset_index(drop=True)\n",
    "df.head()"
   ]
  },
  {
   "cell_type": "code",
   "execution_count": 21,
   "metadata": {},
   "outputs": [
    {
     "data": {
      "text/plain": ": 86},\n  'rain': {'3h': 4.44},\n  'clouds': {'all': 4},\n  'dt': 1583434822,\n  'sys': {'country': 'BR', 'sunrise': 1583399580, 'sunset': 1583444467},\n  'timezone': -10800,\n  'id': 3460723,\n  'name': 'Itapeva',\n  'cod': 200},\n {'coord': {'lon': 135.98, 'lat': 33.73},\n  'weather': [{'id': 800,\n    'main': 'Clear',\n    'description': 'clear sky',\n    'icon': '01n'}],\n  'base': 'stations',\n  'main': {'temp': 278.02,\n   'feels_like': 271.18,\n   'temp_min': 278.02,\n   'temp_max': 278.02,\n   'pressure': 1020,\n   'humidity': 67,\n   'sea_level': 1020,\n   'grnd_level': 1018},\n  'wind': {'speed': 6.78, 'deg': 305},\n  'clouds': {'all': 0},\n  'dt': 1583434950,\n  'sys': {'country': 'JP', 'sunrise': 1583443115, 'sunset': 1583484985},\n  'timezone': 32400,\n  'id': 1847947,\n  'name': 'Shingū',\n  'cod': 200},\n {'coord': {'lon': 26.89, 'lat': -33.59},\n  'weather': [{'id': 802,\n    'main': 'Clouds',\n    'description': 'scattered clouds',\n    'icon': '03n'}],\n  'base': 'stations',\n  'main': {'temp': 295.37,\n   'feels_like': 296,\n   'temp_min': 295.37,\n   'temp_max': 295.37,\n   'pressure': 1020,\n   'humidity': 93},\n  'wind': {'speed': 5.1, 'deg': 234},\n  'clouds': {'all': 50},\n  'dt': 1583434950,\n  'sys': {'type': 3,\n   'id': 2011314,\n   'country': 'ZA',\n   'sunrise': 1583381056,\n   'sunset': 1583426628},\n  'timezone': 7200,\n  'id': 964432,\n  'name': 'Port Alfred',\n  'cod': 200},\n {'coord': {'lon': -1.57, 'lat': 49.64},\n  'weather': [{'id': 310,\n    'main': 'Drizzle',\n    'description': 'light intensity drizzle rain',\n    'icon': '09n'}],\n  'base': 'stations',\n  'main': {'temp': 280.04,\n   'feels_like': 272.8,\n   'temp_min': 279.15,\n   'temp_max': 280.93,\n   'pressure': 996,\n   'humidity': 87},\n  'visibility': 10000,\n  'wind': {'speed': 8.7, 'deg': 320, 'gust': 15.4},\n  'clouds': {'all': 90},\n  'dt': 1583434950,\n  'sys': {'type': 1,\n   'id': 6558,\n   'country': 'FR',\n   'sunrise': 1583390428,\n   'sunset': 1583430914},\n  'timezone': 3600,\n  'id': 2972270,\n  'name': 'Tourlaville',\n  'cod': 200},\n {'coord': {'lon': -72.22, 'lat': 7.77},\n  'weather': [{'id': 721,\n    'main': 'Haze',\n    'description': 'haze',\n    'icon': '50d'}],\n  'base': 'stations',\n  'main': {'temp': 306.15,\n   'feels_like': 305.69,\n   'temp_min': 306.15,\n   'temp_max': 306.15,\n   'pressure': 1013,\n   'humidity': 43},\n  'visibility': 9000,\n  'wind': {'speed': 5.1, 'deg': 360},\n  'clouds': {'all': 20},\n  'dt': 1583434950,\n  'sys': {'type': 1,\n   'id': 8587,\n   'country': 'VE',\n   'sunrise': 1583406012,\n   'sunset': 1583449236},\n  'timezone': -14400,\n  'id': 3628473,\n  'name': 'San Cristobal',\n  'cod': 200},\n {'coord': {'lon': -1.35, 'lat': 60.4},\n  'weather': [{'id': 500,\n    'main': 'Rain',\n    'description': 'light rain',\n    'icon': '10n'}],\n  'base': 'stations',\n  'main': {'temp': 276.58,\n   'feels_like': 271.93,\n   'temp_min': 276.15,\n   'temp_max': 277.15,\n   'pressure': 996,\n   'humidity': 86},\n  'visibility': 10000,\n  'wind': {'speed': 4.1, 'deg': 190},\n  'rain': {'3h': 1.13},\n  'clouds': {'all': 100},\n  'dt': 1583434950,\n  'sys': {'type': 1,\n   'id': 1447,\n   'country': 'GB',\n   'sunrise': 1583391110,\n   'sunset': 1583430126},\n  'timezone': 0,\n  'id': 2654970,\n  'name': 'Brae',\n  'cod': 200},\n {'coord': {'lon': 57.76, 'lat': -20.21},\n  'weather': [{'id': 521,\n    'main': 'Rain',\n    'description': 'shower rain',\n    'icon': '09n'}],\n  'base': 'stations',\n  'main': {'temp': 300.74,\n   'feels_like': 306.37,\n   'temp_min': 300.37,\n   'temp_max': 301.15,\n   'pressure': 1012,\n   'humidity': 88},\n  'visibility': 10000,\n  'wind': {'speed': 1.5, 'deg': 60},\n  'clouds': {'all': 40},\n  'dt': 1583434950,\n  'sys': {'type': 1,\n   'id': 2061,\n   'country': 'MU',\n   'sunrise': 1583374094,\n   'sunset': 1583418774},\n  'timezone': 14400,\n  'id': 1106643,\n  'name': 'Quatre Cocos',\n  'cod': 200},\n {'coord': {'lon': 123.06, 'lat': 0.54},\n  'weather': [{'id': 804,\n    'main': 'Clouds',\n    'description': 'overcast clouds',\n    'icon': '04n'}],\n  'base': 'stations',\n  'main': {'temp': 296.63,\n   'feels_like': 300.23,\n   'temp_min': 296.63,\n   'temp_max': 296.63,\n   'pressure': 1009,\n   'humidity': 94,\n   'sea_level': 1009,\n   'grnd_level': 997},\n  'wind': {'speed': 1.92, 'deg': 7},\n  'clouds': {'all': 100},\n  'dt': 1583434950,\n  'sys': {'country': 'ID', 'sunrise': 1583445363, 'sunset': 1583488938},\n  'timezone': 28800,\n  'id': 1643837,\n  'name': 'Gorontalo',\n  'cod': 200},\n {'coord': {'lon': -159.78, 'lat': -21.21},\n  'weather': [{'id': 800,\n    'main': 'Clear',\n    'description': 'clear sky',\n    'icon': '01d'}],\n  'base': 'stations',\n  'main': {'temp': 301.15,\n   'feels_like': 306.15,\n   'temp_min': 301.15,\n   'temp_max': 301.15,\n   'pressure': 1011,\n   'humidity': 78},\n  'visibility': 10000,\n  'wind': {'speed': 1, 'deg': 260},\n  'clouds': {'all': 6},\n  'dt': 1583434950,\n  'sys': {'type': 1,\n   'id': 7271,\n   'country': 'CK',\n   'sunrise': 1583426287,\n   'sunset': 1583470983},\n  'timezone': -36000,\n  'id': 4035715,\n  'name': 'Avarua',\n  'cod': 200},\n {'coord': {'lon': -34.86, 'lat': -8.01},\n  'weather': [{'id': 801,\n    'main': 'Clouds',\n    'description': 'few clouds',\n    'icon': '02d'}],\n  'base': 'stations',\n  'main': {'temp': 304.15,\n   'feels_like': 306.68,\n   'temp_min': 304.15,\n   'temp_max': 304.15,\n   'pressure': 1011,\n   'humidity': 66},\n  'visibility': 10000,\n  'wind': {'speed': 4.6, 'deg': 70},\n  'clouds': {'all': 17},\n  'dt': 1583434847,\n  'sys': {'type': 1,\n   'id': 8426,\n   'country': 'BR',\n   'sunrise': 1583396659,\n   'sunset': 1583440659},\n  'timezone': -10800,\n  'id': 3393536,\n  'name': 'Olinda',\n  'cod': 200},\n {'coord': {'lon': 55.77, 'lat': -21.36},\n  'weather': [{'id': 500,\n    'main': 'Rain',\n    'description': 'light rain',\n    'icon': '10n'}],\n  'base': 'stations',\n  'main': {'temp': 298.55,\n   'feels_like': 301.77,\n   'temp_min': 294.82,\n   'temp_max': 300.15,\n   'pressure': 1009,\n   'humidity': 88},\n  'visibility': 10000,\n  'wind': {'speed': 3.1, 'deg': 340},\n  'rain': {'3h': 2.81},\n  'clouds': {'all': 17},\n  'dt': 1583434950,\n  'sys': {'type': 1,\n   'id': 2127,\n   'country': 'RE',\n   'sunrise': 1583374537,\n   'sunset': 1583419286},\n  'timezone': 14400,\n  'id': 935215,\n  'name': 'Saint-Philippe',\n  'cod': 200},\n {'coord': {'lon': 22.68, 'lat': -14.97},\n  'weather': [{'id': 500,\n    'main': 'Rain',\n    'description': 'light rain',\n    'icon': '10n'}],\n  'base': 'stations',\n  'main': {'temp': 293.27,\n   'feels_like': 294.72,\n   'temp_min': 293.27,\n   'temp_max': 293.27,\n   'pressure': 1012,\n   'humidity': 92,\n   'sea_level': 1012,\n   'grnd_level': 897},\n  'wind': {'speed': 2.4, 'deg': 141},\n  'rain': {'3h': 1.5},\n  'clouds': {'all': 22},\n  'dt': 1583434951,\n  'sys': {'country': 'ZM', 'sunrise': 1583382664, 'sunset': 1583427039},\n  'timezone': 7200,\n  'id': 915471,\n  'name': 'Kalabo',\n  'cod': 200},\n {'coord': {'lon': -103.68, 'lat': 18.73},\n  'weather': [{'id': 711,\n    'main': 'Smoke',\n    'description': 'smoke',\n    'icon': '50d'}],\n  'base': 'stations',\n  'main': {'temp': 299.15,\n   'feels_like': 297.81,\n   'temp_min': 299.15,\n   'temp_max': 299.15,\n   'pressure': 1018,\n   'humidity': 50},\n  'visibility': 12874,\n  'wind': {'speed': 4.1, 'deg': 210},\n  'clouds': {'all': 75},\n  'dt': 1583434951,\n  'sys': {'type': 1,\n   'id': 7116,\n   'country': 'MX',\n   'sunrise': 1583413832,\n   'sunset': 1583456514},\n  'timezone': -21600,\n  'id': 4013679,\n  'name': 'Coahuayana Viejo',\n  'cod': 200},\n {'coord': {'lon': -165.41, 'lat': 64.5},\n  'weather': [{'id': 600,\n    'main': 'Snow',\n    'description': 'light snow',\n    'icon': '13d'},\n   {'id': 701, 'main': 'Mist', 'description': 'mist', 'icon': '50d'}],\n  'base': 'stations',\n  'main': {'temp': 255.15,\n   'feels_like': 247.22,\n   'temp_min': 255.15,\n   'temp_max': 255.15,\n   'pressure': 1025,\n   'humidity': 84},\n  'visibility': 8047,\n  'wind': {'speed': 6.2, 'deg': 110},\n  'clouds': {'all': 90},\n  'dt': 1583434951,\n  'sys': {'type': 1,\n   'id': 7770,\n   'country': 'US',\n   'sunrise': 1583430808,\n   'sunset': 1583469163},\n  'timezone': -32400,\n  'id': 5870133,\n  'name': 'Nome',\n  'cod': 200},\n {'cod': '404', 'message': 'city not found'},\n {'coord': {'lon': -24.5, 'lat': 14.9},\n  'weather': [{'id': 800,\n    'main': 'Clear',\n    'description': 'clear sky',\n    'icon': '01d'}],\n  'base': 'stations',\n  'main': {'temp': 297.79,\n   'feels_like': 293.33,\n   'temp_min': 297.79,\n   'temp_max': 297.79,\n   'pressure': 1013,\n   'humidity': 54,\n   'sea_level': 1013,\n   'grnd_level': 994},\n  'wind': {'speed': 8.52, 'deg': 49},\n  'clouds': {'all': 0},\n  'dt': 1583434951,\n  'sys': {'country': 'CV', 'sunrise': 1583394741, 'sunset': 1583437606},\n  'timezone': -3600,\n  'id': 3374210,\n  'name': 'São Filipe',\n  'cod': 200},\n {'coord': {'lon': 17.94, 'lat': -33.01},\n  'weather': [{'id': 800,\n    'main': 'Clear',\n    'description': 'clear sky',\n    'icon': '01n'}],\n  'base': 'stations',\n  'main': {'temp': 296.15,\n   'feels_like': 295.18,\n   'temp_min': 296.15,\n   'temp_max': 296.15,\n   'pressure': 1013,\n   'humidity': 60},\n  'wind': {'speed': 3.6, 'deg': 240},\n  'clouds': {'all': 5},\n  'dt': 1583434951,\n  'sys': {'type': 1,\n   'id': 1943,\n   'country': 'ZA',\n   'sunrise': 1583383227,\n   'sunset': 1583428751},\n  'timezone': 7200,\n  'id': 3361934,\n  'name': 'Saldanha',\n  'cod': 200},\n {'coord': {'lon': -126.83, 'lat': 65.28},\n  'weather': [{'id': 801,\n    'main': 'Clouds',\n    'description': 'few clouds',\n    'icon': '02d'}],\n  'base': 'stations',\n  'main': {'temp': 243.15,\n   'feels_like': 237.1,\n   'temp_min': 243.15,\n   'temp_max': 243.15,\n   'pressure': 1035,\n   'humidity': 74},\n  'visibility': 48279,\n  'wind': {'speed': 3.1, 'deg': 110},\n  'clouds': {'all': 20},\n  'dt': 1583434951,\n  'sys': {'type': 1,\n   'id': 951,\n   'country': 'CA',\n   'sunrise': 1583421664,\n   'sunset': 1583459792},\n  'timezone': -25200,\n  'id': 6089245,\n  'name': 'Norman Wells',\n  'cod': 200},\n {'coord': {'lon': 47.6, 'lat': -23.35},\n  'weather': [{'id': 500,\n    'main': 'Rain',\n    'description': 'light rain',\n    'icon': '10n'}],\n  'base': 'stations',\n  'main': {'temp': 295.14,\n   'feels_like': 297.05,\n   'temp_min': 295.14,\n   'temp_max': 295.14,\n   'pressure': 1018,\n   'humidity': 85,\n   'sea_level': 1018,\n   'grnd_level': 1012},\n  'wind': {'speed': 2.12, 'deg': 172},\n  'rain': {'3h': 0.19},\n  'clouds': {'all': 40},\n  'dt': 1583434951,\n  'sys': {'country': 'MG', 'sunrise': 1583376437, 'sunset': 1583421307},\n  'timezone': 10800,\n  'id': 1054329,\n  'name': 'Vangaindrano',\n  'cod': 200},\n {'coord': {'lon': 6.26, 'lat': 4.92},\n  'weather': [{'id': 500,\n    'main': 'Rain',\n    'description': 'light rain',\n    'icon': '10n'}],\n  'base': 'stations',\n  'main': {'temp': 302.18,\n   'feels_like': 305.59,\n   'temp_min': 302.18,\n   'temp_max': 302.18,\n   'pressure': 1009,\n   'humidity': 72,\n   'sea_level': 1009,\n   'grnd_level': 1006},\n  'wind': {'speed': 2.99, 'deg': 239},\n  'rain': {'3h': 1.94},\n  'clouds': {'all': 92},\n  'dt': 1583434951,\n  'sys': {'country': 'NG', 'sunrise': 1583387113, 'sunset': 1583430471},\n  'timezone': 3600,\n  'id': 2318123,\n  'name': 'Yenagoa',\n  'cod': 200},\n {'coord': {'lon': -175.2, 'lat': -21.2},\n  'weather': [{'id': 801,\n    'main': 'Clouds',\n    'description': 'few clouds',\n    'icon': '02n'}],\n  'base': 'stations',\n  'main': {'temp': 296.15,\n   'feels_like': 299.92,\n   'temp_min': 296.15,\n   'temp_max': 296.15,\n   'pressure': 1011,\n   'humidity': 100},\n  'visibility': 10000,\n  'wind': {'speed': 2.1, 'deg': 120},\n  'clouds': {'all': 20},\n  'dt': 1583434951,\n  'sys': {'type': 1,\n   'id': 7285,\n   'country': 'TO',\n   'sunrise': 1583516411,\n   'sunset': 1583561030},\n  'timezone': 46800,\n  'id': 4032243,\n  'name': 'Vaini',\n  'cod': 200},\n {'coord': {'lon': 55.48, 'lat': -21.34},\n  'weather': [{'id': 500,\n    'main': 'Rain',\n    'description': 'light rain',\n    'icon': '10n'}],\n  'base': 'stations',\n  'main': {'temp': 298.59,\n   'feels_like': 301.83,\n   'temp_min': 294.82,\n   'temp_max': 300.15,\n   'pressure': 1009,\n   'humidity': 88},\n  'visibility': 10000,\n  'wind': {'speed': 3.1, 'deg': 340},\n  'rain': {'3h': 1.25},\n  'clouds': {'all': 100},\n  'dt': 1583434952,\n  'sys': {'type': 1,\n   'id': 2127,\n   'country': 'RE',\n   'sunrise': 1583374607,\n   'sunset': 1583419355},\n  'timezone': 14400,\n  'id': 935214,\n  'name': 'Saint-Pierre',\n  'cod': 200},\n {'coord': {'lon': 102.5, 'lat': 71.97},\n  'weather': [{'id': 804,\n    'main': 'Clouds',\n    'description': 'overcast clouds',\n    'icon': '04n'}],\n  'base': 'stations',\n  'main': {'temp': 244.8,\n   'feels_like': 237.71,\n   'temp_min': 244.8,\n   'temp_max': 244.8,\n   'pressure': 1003,\n   'humidity': 97,\n   'sea_level': 1003,\n   'grnd_level': 1000},\n  'wind': {'speed': 4.68, 'deg': 8},\n  'clouds': {'all': 99},\n  'dt': 1583434952,\n  'sys': {'country': 'RU', 'sunrise': 1583454015, 'sunset': 1583490153},\n  'timezone': 25200,\n  'id': 2022572,\n  'name': 'Khatanga',\n  'cod': 200},\n {'coord': {'lon': 168.86, 'lat': -46.19},\n  'weather': [{'id': 801,\n    'main': 'Clouds',\n    'description': 'few clouds',\n    'icon': '02d'}],\n  'base': 'stations',\n  'main': {'temp': 279.26,\n   'feels_like': 277.69,\n   'temp_min': 279.26,\n   'temp_max': 279.26,\n   'pressure': 1026,\n   'humidity': 94},\n  'wind': {'speed': 0.7, 'deg': 35},\n  'clouds': {'all': 22},\n  'dt': 1583434952,\n  'sys': {'type': 3,\n   'id': 2008959,\n   'country': 'NZ',\n   'sunrise': 1583432844,\n   'sunset': 1583479476},\n  'timezone': 46800,\n  'id': 6201424,\n  'name': 'Mataura',\n  'cod': 200},\n {'coord': {'lon': 57.7, 'lat': -20.41},\n  'weather': [{'id': 521,\n    'main': 'Rain',\n    'description': 'shower rain',\n    'icon': '09n'}],\n  'base': 'stations',\n  'main': {'temp': 300.79,\n   'feels_like': 306.45,\n   'temp_min': 300.37,\n   'temp_max': 301.15,\n   'pressure': 1012,\n   'humidity': 88},\n  'visibility': 10000,\n  'wind': {'speed': 1.5, 'deg': 60},\n  'clouds': {'all': 40},\n  'dt': 1583434952,\n  'sys': {'type': 1,\n   'id': 2061,\n   'country': 'MU',\n   'sunrise': 1583374102,\n   'sunset': 1583418794},\n  'timezone': 14400,\n  'id': 934322,\n  'name': 'Mahébourg',\n  'cod': 200},\n {'cod': '404', 'message': 'city not found'},\n {'coord': {'lon': 98.78, 'lat': 1.74},\n  'weather': [{'id': 804,\n    'main': 'Clouds',\n    'description': 'overcast clouds',\n    'icon': '04n'}],\n  'base': 'stations',\n  'main': {'temp': 295.67,\n   'feels_like': 299.24,\n   'temp_min': 295.67,\n   'temp_max': 295.67,\n   'pressure': 1012,\n   'humidity': 94,\n   'sea_level': 1012,\n   'grnd_level': 981},\n  'wind': {'speed': 1.24, 'deg': 47},\n  'clouds': {'all': 100},\n  'dt': 1583434952,\n  'sys': {'country': 'ID', 'sunrise': 1583451217, 'sunset': 1583494736},\n  'timezone': 25200,\n  'id': 1213855,\n  'name': 'Sibolga',\n  'cod': 200},\n {'coord': {'lon': -70.92, 'lat': -53.15},\n  'weather': [{'id': 804,\n    'main': 'Clouds',\n    'description': 'overcast clouds',\n    'icon': '04d'}],\n  'base': 'stations',\n  'main': {'temp': 294.44,\n   'feels_like': 288.83,\n   'temp_min': 293.15,\n   'temp_max': 295.15,\n   'pressure': 1013,\n   'humidity': 37},\n  'visibility': 10000,\n  'wind': {'speed': 6.7, 'deg': 280},\n  'clouds': {'all': 93},\n  'dt': 1583434695,\n  'sys': {'type': 1,\n   'id': 8487,\n   'country': 'CL',\n   'sunrise': 1583403506,\n   'sunset': 1583451118},\n  'timezone': -10800,\n  'id': 3874787,\n  'name': 'Punta Arenas',\n  'cod': 200},\n {'coord': {'lon': -97.05, 'lat': 28.02},\n  'weather': [{'id': 800,\n    'main': 'Clear',\n    'description': 'clear sky',\n    'icon': '01d'}],\n  'base': 'stations',\n  'main': {'temp': 293.66,\n   'feels_like': 288.15,\n   'temp_min': 292.15,\n   'temp_max': 295.15,\n   'pressure': 1024,\n   'humidity': 40},\n  'visibility': 16093,\n  'wind': {'speed': 6.7, 'deg': 10, 'gust': 10.3},\n  'clouds': {'all': 1},\n  'dt': 1583434709,\n  'sys': {'type': 1,\n   'id': 6018,\n   'country': 'US',\n   'sunrise': 1583412495,\n   'sunset': 1583454670},\n  'timezone': -21600,\n  'id': 4723422,\n  'name': 'Rockport',\n  'cod': 200},\n {'cod': '404', 'message': 'city not found'},\n {'coord': {'lon': 115.33, 'lat': -33.65},\n  'weather': [{'id': 804,\n    'main': 'Clouds',\n    'description': 'overcast clouds',\n    'icon': '04n'}],\n  'base': 'stations',\n  'main': {'temp': 290.38,\n   'feels_like': 285.54,\n   'temp_min': 289.82,\n   'temp_max': 290.93,\n   'pressure': 1000,\n   'humidity': 57},\n  'wind': {'speed': 6.47, 'deg': 163},\n  'clouds': {'all': 99},\n  'dt': 1583434953,\n  'sys': {'type': 3,\n   'id': 2011706,\n   'country': 'AU',\n   'sunrise': 1583446264,\n   'sunset': 1583491746},\n  'timezone': 28800,\n  'id': 2075265,\n  'name': 'Busselton',\n  'cod': 200},\n {'coord': {'lon': -72.07, 'lat': -45.58},\n  'weather': [{'id': 802,\n    'main': 'Clouds',\n    'description': 'scattered clouds',\n    'icon': '03d'}],\n  'base': 'stations',\n  'main': {'temp': 296.15,\n   'feels_like': 292.98,\n   'temp_min': 296.15,\n   'temp_max': 296.15,\n   'pressure': 1017,\n   'humidity': 40},\n  'visibility': 10000,\n  'wind': {'speed': 4.1, 'deg': 190},\n  'clouds': {'all': 41},\n  'dt': 1583434953,\n  'sys': {'type': 1,\n   'id': 8491,\n   'country': 'CL',\n   'sunrise': 1583404273,\n   'sunset': 1583450903},\n  'timezone': -10800,\n  'id': 3894426,\n  'name': 'Coyhaique',\n  'cod': 200},\n {'coord': {'lon': 31.4, 'lat': -29.13},\n  'weather': [{'id': 800,\n    'main': 'Clear',\n    'description': 'clear sky',\n    'icon': '01n'}],\n  'base': 'stations',\n  'main': {'temp': 296.15,\n   'feels_like': 296.84,\n   'temp_min': 296.15,\n   'temp_max': 296.15,\n   'pressure': 1019,\n   'humidity': 78},\n  'visibility': 10000,\n  'wind': {'speed': 3.6, 'deg': 30},\n  'clouds': {'all': 0},\n  'dt': 1583434953,\n  'sys': {'type': 1,\n   'id': 1934,\n   'country': 'ZA',\n   'sunrise': 1583380136,\n   'sunset': 1583425382},\n  'timezone': 7200,\n  'id': 951441,\n  'name': 'Sundumbili',\n  'cod': 200},\n {'coord': {'lon': -66.67, 'lat': 48.01},\n  'weather': [{'id': 804,\n    'main': 'Clouds',\n    'description': 'overcast clouds',\n    'icon': '04d'}],\n  'base': 'stations',\n  'main': {'temp': 270.22,\n   'feels_like': 262.05,\n   'temp_min': 270.22,\n   'temp_max': 270.22,\n   'pressure': 1005,\n   'humidity': 81,\n   'sea_level': 1005,\n   'grnd_level': 990},\n  'wind': {'speed': 7.84, 'deg': 294},\n  'clouds': {'all': 100},\n  'dt': 1583434953,\n  'sys': {'country': 'CA', 'sunrise': 1583405947, 'sunset': 1583446638},\n  'timezone': -14400,\n  'id': 6696258,\n  'name': 'Campbellton',\n  'cod': 200},\n {'coord': {'lon': 170.31, 'lat': 69.7},\n  'weather': [{'id': 803,\n    'main': 'Clouds',\n    'description': 'broken clouds',\n    'icon': '04n'}],\n  'base': 'stations',\n  'main': {'temp': 250.01,\n   'feels_like': 242.93,\n   'temp_min': 250.01,\n   'temp_max': 250.01,\n   'pressure': 1012,\n   'humidity': 80,\n   'sea_level': 1012,\n   'grnd_level': 1011},\n  'wind': {'speed': 4.76, 'deg': 146},\n  'clouds': {'all': 75},\n  'dt': 1583434953,\n  'sys': {'country': 'RU', 'sunrise': 1583437352, 'sunset': 1583474272},\n  'timezone': 43200,\n  'id': 2122090,\n  'name': 'Pevek',\n  'cod': 200},\n {'coord': {'lon': -151.75, 'lat': -16.48},\n  'weather': [{'id': 802,\n    'main': 'Clouds',\n    'description': 'scattered clouds',\n    'icon': '03d'}],\n  'base': 'stations',\n  'main': {'temp': 300.91,\n   'feels_like': 303.49,\n   'temp_min': 300.91,\n   'temp_max': 300.91,\n   'pressure': 1013,\n   'humidity': 64,\n   'sea_level': 1013,\n   'grnd_level': 1012},\n  'wind': {'speed': 1.81, 'deg': 68},\n  'clouds': {'all': 43},\n  'dt': 1583434953,\n  'sys': {'country': 'PF', 'sunrise': 1583424492, 'sunset': 1583468924},\n  'timezone': -36000,\n  'id': 4034551,\n  'name': 'Faanui',\n  'cod': 200},\n {'coord': {'lon': 29.72, 'lat': 70.63},\n  'weather': [{'id': 803,\n    'main': 'Clouds',\n    'description': 'broken clouds',\n    'icon': '04n'}],\n  'base': 'stations',\n  'main': {'temp': 269.51,\n   'feels_like': 260.64,\n   'temp_min': 269.15,\n   'temp_max': 270.15,\n   'pressure': 999,\n   'humidity': 79},\n  'visibility': 10000,\n  'wind': {'speed': 8.7, 'deg': 170},\n  'clouds': {'all': 75},\n  'dt': 1583434953,\n  'sys': {'type': 1,\n   'id': 1666,\n   'country': 'NO',\n   'sunrise': 1583385041,\n   'sunset': 1583421284},\n  'timezone': 3600,\n  'id': 780717,\n  'name': 'Båtsfjord',\n  'cod': 200}]"
     },
     "execution_count": 21,
     "metadata": {},
     "output_type": "execute_result"
    }
   ],
   "source": [
    "responses"
   ]
  },
  {
   "cell_type": "code",
   "execution_count": null,
   "metadata": {},
   "outputs": [],
   "source": []
  }
 ]
}