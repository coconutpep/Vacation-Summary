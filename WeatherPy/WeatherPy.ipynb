{
 "nbformat": 4,
 "nbformat_minor": 2,
 "metadata": {
  "language_info": {
   "name": "python",
   "codemirror_mode": {
    "name": "ipython",
    "version": 3
   },
   "version": "3.7.4-final"
  },
  "orig_nbformat": 2,
  "file_extension": ".py",
  "mimetype": "text/x-python",
  "name": "python",
  "npconvert_exporter": "python",
  "pygments_lexer": "ipython3",
  "version": 3,
  "kernelspec": {
   "name": "python37664bitpythondataconda9adbda39bd454e7faf6cd0d67b7317a9",
   "display_name": "Python 3.7.6 64-bit ('PythonData': conda)"
  }
 },
 "cells": [
  {
   "cell_type": "code",
   "execution_count": 1,
   "metadata": {},
   "outputs": [],
   "source": [
    "# Dependencies and Setup\n",
    "import matplotlib.pyplot as plt\n",
    "import pandas as pd\n",
    "import numpy as np\n",
    "import requests\n",
    "import time\n",
    "from scipy.stats import linregress\n",
    "from pprint import pprint\n",
    "# Import API key\n",
    "from config import api_key\n",
    "\n",
    "# Incorporated citipy to determine city based on latitude and longitude\n",
    "from citipy import citipy\n",
    "\n",
    "# Output File (CSV)\n",
    "output_data_file = \"output_data/cities.csv\"\n",
    "\n",
    "# Range of latitudes and longitudes\n",
    "lat_range = (-90, 90)\n",
    "lng_range = (-180, 180)"
   ]
  },
  {
   "cell_type": "code",
   "execution_count": 2,
   "metadata": {},
   "outputs": [
    {
     "data": {
      "text/plain": "594"
     },
     "execution_count": 2,
     "metadata": {},
     "output_type": "execute_result"
    }
   ],
   "source": [
    "# List for holding lat_lngs and cities\n",
    "lat_lngs = []\n",
    "cities = []\n",
    "\n",
    "# Create a set of random lat and lng combinations\n",
    "lats = np.random.uniform(low=-90.000, high=90.000, size=1500)\n",
    "lngs = np.random.uniform(low=-180.000, high=180.000, size=1500)\n",
    "lat_lngs = zip(lats, lngs)\n",
    "\n",
    "# Identify nearest city for each lat, lng combination\n",
    "for lat_lng in lat_lngs:\n",
    "    city = citipy.nearest_city(lat_lng[0], lat_lng[1]).city_name\n",
    "    \n",
    "    # If the city is unique, then add it to a our cities list\n",
    "    if city not in cities:\n",
    "        cities.append(city)\n",
    "\n",
    "# Print the city count to confirm sufficient count\n",
    "len(cities)"
   ]
  },
  {
   "cell_type": "code",
   "execution_count": 80,
   "metadata": {},
   "outputs": [],
   "source": [
    "#URL for OpenWeather API\n",
    "url = \"http://api.openweathermap.org/data/2.5/weather?q=\"\n",
    "#List to hold API responses\n",
    "responses = []\n",
    "#For loop to pull data for each of the first 60 cities in the list\n",
    "#Put for loop into function for easy calling to not exceed call limit per minute\n",
    "def api_call(x, y):\n",
    "    for city in cities[x:y]:\n",
    "        city_url = url + f\"{city}&appid={api_key}\"\n",
    "        responses.append(requests.get(city_url).json())"
   ]
  },
  {
   "cell_type": "code",
   "execution_count": 81,
   "metadata": {},
   "outputs": [],
   "source": [
    "#Calling function to get the data over time (placed in different cells to avoid this problem)\n",
    "api_call(0,60)"
   ]
  },
  {
   "cell_type": "code",
   "execution_count": 84,
   "metadata": {},
   "outputs": [],
   "source": [
    "#Call for data to city index 120\n",
    "api_call(60,121)"
   ]
  },
  {
   "cell_type": "code",
   "execution_count": 86,
   "metadata": {},
   "outputs": [],
   "source": [
    "#to index 181\n",
    "api_call(121, 182)"
   ]
  },
  {
   "cell_type": "code",
   "execution_count": 88,
   "metadata": {},
   "outputs": [],
   "source": [
    "#to index 242\n",
    "api_call(182,243)"
   ]
  },
  {
   "cell_type": "code",
   "execution_count": 90,
   "metadata": {},
   "outputs": [],
   "source": [
    "#to index 302\n",
    "api_call(243,303)"
   ]
  },
  {
   "cell_type": "code",
   "execution_count": 92,
   "metadata": {},
   "outputs": [],
   "source": [
    "#to index 362\n",
    "api_call(303, 363)"
   ]
  },
  {
   "cell_type": "code",
   "execution_count": 94,
   "metadata": {},
   "outputs": [],
   "source": [
    "#to index 422\n",
    "api_call(363, 423)"
   ]
  },
  {
   "cell_type": "code",
   "execution_count": 96,
   "metadata": {},
   "outputs": [],
   "source": [
    "#to index 482\n",
    "api_call(423,483)"
   ]
  },
  {
   "cell_type": "code",
   "execution_count": 98,
   "metadata": {},
   "outputs": [],
   "source": [
    "#to index 542\n",
    "api_call(483,543)"
   ]
  },
  {
   "cell_type": "code",
   "execution_count": 100,
   "metadata": {},
   "outputs": [],
   "source": [
    "#to index 594(end)\n",
    "api_call(543,595)"
   ]
  },
  {
   "cell_type": "code",
   "execution_count": 101,
   "metadata": {},
   "outputs": [
    {
     "data": {
      "text/plain": "594"
     },
     "execution_count": 101,
     "metadata": {},
     "output_type": "execute_result"
    }
   ],
   "source": [
    "#check that data was pulled\n",
    "len(responses)"
   ]
  },
  {
   "cell_type": "code",
   "execution_count": 54,
   "metadata": {},
   "outputs": [
    {
     "data": {
      "text/html": "<div>\n<style scoped>\n    .dataframe tbody tr th:only-of-type {\n        vertical-align: middle;\n    }\n\n    .dataframe tbody tr th {\n        vertical-align: top;\n    }\n\n    .dataframe thead th {\n        text-align: right;\n    }\n</style>\n<table border=\"1\" class=\"dataframe\">\n  <thead>\n    <tr style=\"text-align: right;\">\n      <th></th>\n      <th>coord</th>\n      <th>weather</th>\n      <th>base</th>\n      <th>main</th>\n      <th>visibility</th>\n      <th>wind</th>\n      <th>clouds</th>\n      <th>dt</th>\n      <th>sys</th>\n      <th>timezone</th>\n      <th>id</th>\n      <th>name</th>\n      <th>cod</th>\n      <th>rain</th>\n      <th>message</th>\n      <th>snow</th>\n    </tr>\n  </thead>\n  <tbody>\n    <tr>\n      <th>0</th>\n      <td>{'lon': -121.42, 'lat': 38.42}</td>\n      <td>[{'id': 800, 'main': 'Clear', 'description': '...</td>\n      <td>stations</td>\n      <td>{'temp': 291.65, 'feels_like': 290.46, 'temp_m...</td>\n      <td>16093.0</td>\n      <td>{'speed': 1.5, 'deg': 270}</td>\n      <td>{'all': 1}</td>\n      <td>1.583435e+09</td>\n      <td>{'type': 1, 'id': 3933, 'country': 'US', 'sunr...</td>\n      <td>-28800.0</td>\n      <td>5364271.0</td>\n      <td>Laguna</td>\n      <td>200</td>\n      <td>NaN</td>\n      <td>NaN</td>\n      <td>NaN</td>\n    </tr>\n    <tr>\n      <th>1</th>\n      <td>{'lon': 127.47, 'lat': 63.92}</td>\n      <td>[{'id': 804, 'main': 'Clouds', 'description': ...</td>\n      <td>stations</td>\n      <td>{'temp': 258.11, 'feels_like': 251.28, 'temp_m...</td>\n      <td>NaN</td>\n      <td>{'speed': 4.84, 'deg': 102}</td>\n      <td>{'all': 100}</td>\n      <td>1.583435e+09</td>\n      <td>{'country': 'RU', 'sunrise': 1583446814, 'suns...</td>\n      <td>32400.0</td>\n      <td>2017215.0</td>\n      <td>Sangar</td>\n      <td>200</td>\n      <td>NaN</td>\n      <td>NaN</td>\n      <td>NaN</td>\n    </tr>\n    <tr>\n      <th>2</th>\n      <td>{'lon': 131.55, 'lat': 48.98}</td>\n      <td>[{'id': 803, 'main': 'Clouds', 'description': ...</td>\n      <td>stations</td>\n      <td>{'temp': 259.94, 'feels_like': 255.95, 'temp_m...</td>\n      <td>NaN</td>\n      <td>{'speed': 0.9, 'deg': 331}</td>\n      <td>{'all': 58}</td>\n      <td>1.583435e+09</td>\n      <td>{'country': 'RU', 'sunrise': 1583444767, 'suns...</td>\n      <td>36000.0</td>\n      <td>2023360.0</td>\n      <td>Izvestkovyy</td>\n      <td>200</td>\n      <td>NaN</td>\n      <td>NaN</td>\n      <td>NaN</td>\n    </tr>\n    <tr>\n      <th>3</th>\n      <td>{'lon': -134.97, 'lat': -23.12}</td>\n      <td>[{'id': 500, 'main': 'Rain', 'description': 'l...</td>\n      <td>stations</td>\n      <td>{'temp': 298.28, 'feels_like': 295.31, 'temp_m...</td>\n      <td>NaN</td>\n      <td>{'speed': 9.93, 'deg': 105}</td>\n      <td>{'all': 7}</td>\n      <td>1.583435e+09</td>\n      <td>{'country': 'PF', 'sunrise': 1583420274, 'suns...</td>\n      <td>-32400.0</td>\n      <td>4030556.0</td>\n      <td>Rikitea</td>\n      <td>200</td>\n      <td>{'3h': 0.63}</td>\n      <td>NaN</td>\n      <td>NaN</td>\n    </tr>\n    <tr>\n      <th>4</th>\n      <td>{'lon': -156.47, 'lat': 20.89}</td>\n      <td>[{'id': 803, 'main': 'Clouds', 'description': ...</td>\n      <td>stations</td>\n      <td>{'temp': 294.87, 'feels_like': 296.79, 'temp_m...</td>\n      <td>16093.0</td>\n      <td>{'speed': 0.95, 'deg': 48}</td>\n      <td>{'all': 75}</td>\n      <td>1.583435e+09</td>\n      <td>{'type': 1, 'id': 7875, 'country': 'US', 'sunr...</td>\n      <td>-36000.0</td>\n      <td>5847411.0</td>\n      <td>Kahului</td>\n      <td>200</td>\n      <td>NaN</td>\n      <td>NaN</td>\n      <td>NaN</td>\n    </tr>\n  </tbody>\n</table>\n</div>",
      "text/plain": "                             coord  \\\n0   {'lon': -121.42, 'lat': 38.42}   \n1    {'lon': 127.47, 'lat': 63.92}   \n2    {'lon': 131.55, 'lat': 48.98}   \n3  {'lon': -134.97, 'lat': -23.12}   \n4   {'lon': -156.47, 'lat': 20.89}   \n\n                                             weather      base  \\\n0  [{'id': 800, 'main': 'Clear', 'description': '...  stations   \n1  [{'id': 804, 'main': 'Clouds', 'description': ...  stations   \n2  [{'id': 803, 'main': 'Clouds', 'description': ...  stations   \n3  [{'id': 500, 'main': 'Rain', 'description': 'l...  stations   \n4  [{'id': 803, 'main': 'Clouds', 'description': ...  stations   \n\n                                                main  visibility  \\\n0  {'temp': 291.65, 'feels_like': 290.46, 'temp_m...     16093.0   \n1  {'temp': 258.11, 'feels_like': 251.28, 'temp_m...         NaN   \n2  {'temp': 259.94, 'feels_like': 255.95, 'temp_m...         NaN   \n3  {'temp': 298.28, 'feels_like': 295.31, 'temp_m...         NaN   \n4  {'temp': 294.87, 'feels_like': 296.79, 'temp_m...     16093.0   \n\n                          wind        clouds            dt  \\\n0   {'speed': 1.5, 'deg': 270}    {'all': 1}  1.583435e+09   \n1  {'speed': 4.84, 'deg': 102}  {'all': 100}  1.583435e+09   \n2   {'speed': 0.9, 'deg': 331}   {'all': 58}  1.583435e+09   \n3  {'speed': 9.93, 'deg': 105}    {'all': 7}  1.583435e+09   \n4   {'speed': 0.95, 'deg': 48}   {'all': 75}  1.583435e+09   \n\n                                                 sys  timezone         id  \\\n0  {'type': 1, 'id': 3933, 'country': 'US', 'sunr...  -28800.0  5364271.0   \n1  {'country': 'RU', 'sunrise': 1583446814, 'suns...   32400.0  2017215.0   \n2  {'country': 'RU', 'sunrise': 1583444767, 'suns...   36000.0  2023360.0   \n3  {'country': 'PF', 'sunrise': 1583420274, 'suns...  -32400.0  4030556.0   \n4  {'type': 1, 'id': 7875, 'country': 'US', 'sunr...  -36000.0  5847411.0   \n\n          name  cod          rain message snow  \n0       Laguna  200           NaN     NaN  NaN  \n1       Sangar  200           NaN     NaN  NaN  \n2  Izvestkovyy  200           NaN     NaN  NaN  \n3      Rikitea  200  {'3h': 0.63}     NaN  NaN  \n4      Kahului  200           NaN     NaN  NaN  "
     },
     "execution_count": 54,
     "metadata": {},
     "output_type": "execute_result"
    }
   ],
   "source": [
    "#Create a dataframe of the API data\n",
    "df = pd.DataFrame(responses)\n",
    "#drop rows with no data\n",
    "index_drop = df.loc[df['cod'] == '404'].index.to_list()\n",
    "df = df.drop(index_drop)\n",
    "df = df.reset_index(drop=True)\n",
    "df.head()"
   ]
  },
  {
   "cell_type": "code",
   "execution_count": 55,
   "metadata": {},
   "outputs": [
    {
     "data": {
      "text/plain": "['US',\n 'RU',\n 'RU',\n 'PF',\n 'US',\n 'AR',\n 'RU',\n 'US',\n 'US',\n 'MV',\n 'ZA',\n 'US',\n 'ZA',\n 'KZ',\n 'KI',\n 'CA',\n 'IS',\n 'NO',\n 'MM',\n 'US',\n 'CL',\n 'PE',\n 'BR',\n 'JP',\n 'ZA',\n 'FR',\n 'VE',\n 'GB',\n 'MU',\n 'ID',\n 'CK',\n 'BR',\n 'RE',\n 'ZM',\n 'MX',\n 'US',\n 'CV',\n 'ZA',\n 'CA',\n 'MG',\n 'NG',\n 'TO',\n 'RE',\n 'RU',\n 'NZ',\n 'MU',\n 'ID',\n 'CL',\n 'US',\n 'AU',\n 'CL',\n 'ZA',\n 'CA',\n 'RU',\n 'PF',\n 'NO']"
     },
     "execution_count": 55,
     "metadata": {},
     "output_type": "execute_result"
    }
   ],
   "source": [
    "#Create a list out of the countries for the cities\n",
    "countries = []\n",
    "sys_data = dict(df['sys'])\n",
    "city_count = 0\n",
    "for city in sys_data:\n",
    "    countries.append(sys_data[city_count]['country'])\n",
    "    city_count += 1\n",
    "countries"
   ]
  },
  {
   "cell_type": "code",
   "execution_count": 62,
   "metadata": {},
   "outputs": [
    {
     "data": {
      "text/plain": "array(['Laguna', 'Sangar', 'Izvestkovyy', 'Rikitea', 'Kahului', 'Ushuaia',\n       'Provideniya', 'North Bend', 'Albany', 'Hithadhoo',\n       'Port Elizabeth', '‘Āhuimanu', 'East London', 'Ordzhonīkīdze',\n       'Butaritari', 'Yellowknife', 'Grindavik', 'Vardø', 'Shwebo',\n       'Jamestown', 'Coquimbo', 'Paita', 'Itapeva', 'Shingū',\n       'Port Alfred', 'Tourlaville', 'San Cristobal', 'Brae',\n       'Quatre Cocos', 'Gorontalo', 'Avarua', 'Olinda', 'Saint-Philippe',\n       'Kalabo', 'Coahuayana Viejo', 'Nome', 'São Filipe', 'Saldanha',\n       'Norman Wells', 'Vangaindrano', 'Yenagoa', 'Vaini', 'Saint-Pierre',\n       'Khatanga', 'Mataura', 'Mahébourg', 'Sibolga', 'Punta Arenas',\n       'Rockport', 'Busselton', 'Coyhaique', 'Sundumbili', 'Campbellton',\n       'Pevek', 'Faanui', 'Båtsfjord'], dtype=object)"
     },
     "execution_count": 62,
     "metadata": {},
     "output_type": "execute_result"
    }
   ],
   "source": [
    "#Create a list of the city names\n",
    "names = df['name'].values\n",
    "names"
   ]
  },
  {
   "cell_type": "code",
   "execution_count": 65,
   "metadata": {},
   "outputs": [
    {
     "data": {
      "text/plain": "[1,\n 100,\n 58,\n 7,\n 75,\n 40,\n 100,\n 75,\n 20,\n 56,\n 20,\n 40,\n 75,\n 0,\n 100,\n 75,\n 40,\n 75,\n 0,\n 1,\n 90,\n 13,\n 4,\n 0,\n 50,\n 90,\n 20,\n 100,\n 40,\n 100,\n 6,\n 17,\n 17,\n 22,\n 75,\n 90,\n 0,\n 5,\n 20,\n 40,\n 92,\n 20,\n 100,\n 99,\n 22,\n 40,\n 100,\n 93,\n 1,\n 99,\n 41,\n 0,\n 100,\n 75,\n 43,\n 75]"
     },
     "execution_count": 65,
     "metadata": {},
     "output_type": "execute_result"
    }
   ],
   "source": [
    "#Create a list out of the cloudiness for the cities\n",
    "cloudiness = []\n",
    "cloud_data = dict(df['clouds'])\n",
    "city_count = 0\n",
    "for city in cloud_data:\n",
    "    cloudiness.append(cloud_data[city_count]['all'])\n",
    "    city_count += 1\n",
    "cloudiness"
   ]
  },
  {
   "cell_type": "code",
   "execution_count": 68,
   "metadata": {},
   "outputs": [
    {
     "data": {
      "text/plain": "array([1.58343495e+09, 1.58343495e+09, 1.58343495e+09, 1.58343495e+09,\n       1.58343495e+09, 1.58343495e+09, 1.58343495e+09, 1.58343495e+09,\n       1.58343448e+09, 1.58343495e+09, 1.58343495e+09, 1.58343495e+09,\n       1.58343495e+09, 1.58343495e+09, 1.58343495e+09, 1.58343495e+09,\n       1.58343495e+09, 1.58343495e+09, 1.58343495e+09, 1.58343480e+09,\n       1.58343495e+09, 1.58343495e+09, 1.58343482e+09, 1.58343495e+09,\n       1.58343495e+09, 1.58343495e+09, 1.58343495e+09, 1.58343495e+09,\n       1.58343495e+09, 1.58343495e+09, 1.58343495e+09, 1.58343485e+09,\n       1.58343495e+09, 1.58343495e+09, 1.58343495e+09, 1.58343495e+09,\n       1.58343495e+09, 1.58343495e+09, 1.58343495e+09, 1.58343495e+09,\n       1.58343495e+09, 1.58343495e+09, 1.58343495e+09, 1.58343495e+09,\n       1.58343495e+09, 1.58343495e+09, 1.58343495e+09, 1.58343470e+09,\n       1.58343471e+09, 1.58343495e+09, 1.58343495e+09, 1.58343495e+09,\n       1.58343495e+09, 1.58343495e+09, 1.58343495e+09, 1.58343495e+09])"
     },
     "execution_count": 68,
     "metadata": {},
     "output_type": "execute_result"
    }
   ],
   "source": [
    "#Create a list of the dates\n",
    "dates_unix = df['dt'].values\n",
    "dates_unix"
   ]
  },
  {
   "cell_type": "code",
   "execution_count": 71,
   "metadata": {},
   "outputs": [
    {
     "name": "stdout",
     "output_type": "stream",
     "text": "[55, 89, 88, 76, 77, 49, 98, 71, 42, 69, 83, 78, 88, 88, 80, 63, 86, 79, 43, 59, 82, 100, 74, 67, 93, 87, 43, 86, 88, 94, 78, 66, 88, 92, 50, 84, 54, 60, 74, 85, 72, 100, 88, 97, 94, 88, 94, 37, 40, 57, 40, 78, 81, 80, 64, 79]\n[294.82, 258.11, 259.94, 298.28, 295.37, 293.15, 258.98, 284.26, 282.04, 301.86, 295.15, 297.04, 297.15, 257.95, 301.43, 249.26, 274.15, 270.15, 296.1, 281.48, 290.15, 290.15, 296.67, 278.02, 295.37, 280.93, 306.15, 277.15, 301.15, 296.63, 301.15, 304.15, 300.15, 293.27, 299.15, 255.15, 297.79, 296.15, 243.15, 295.14, 302.18, 296.15, 300.15, 244.8, 279.26, 301.15, 295.67, 295.15, 295.15, 290.93, 296.15, 296.15, 270.22, 250.01, 300.91, 270.15]\n"
    }
   ],
   "source": [
    "#Create a lists for humidity and max temps\n",
    "humidity = []\n",
    "max_temps = []\n",
    "main_data = dict(df['main'])\n",
    "city_count = 0\n",
    "for city in main_data:\n",
    "    humidity.append(main_data[city_count]['humidity'])\n",
    "    max_temps.append(main_data[city_count]['temp_max'])\n",
    "    city_count += 1\n",
    "print(humidity)\n",
    "print(max_temps)"
   ]
  },
  {
   "cell_type": "code",
   "execution_count": 70,
   "metadata": {},
   "outputs": [
    {
     "name": "stdout",
     "output_type": "stream",
     "text": "[38.42, 63.92, 48.98, -23.12, 20.89, -54.8, 64.38, 43.41, 42.6, -0.6, -33.92, 21.44, -33.02, 52.44, 3.07, 62.46, 63.84, 70.37, 22.57, 42.1, -29.95, -5.09, -23.98, 33.73, -33.59, 49.64, 7.77, 60.4, -20.21, 0.54, -21.21, -8.01, -21.36, -14.97, 18.73, 64.5, 14.9, -33.01, 65.28, -23.35, 4.92, -21.2, -21.34, 71.97, -46.19, -20.41, 1.74, -53.15, 28.02, -33.65, -45.58, -29.13, 48.01, 69.7, -16.48, 70.63]\n[-121.42, 127.47, 131.55, -134.97, -156.47, -68.3, -173.3, -124.22, -73.97, 73.08, 25.57, -157.84, 27.91, 61.74, 172.79, -114.35, -22.43, 31.11, 95.7, -79.24, -71.34, -81.11, -48.88, 135.98, 26.89, -1.57, -72.22, -1.35, 57.76, 123.06, -159.78, -34.86, 55.77, 22.68, -103.68, -165.41, -24.5, 17.94, -126.83, 47.6, 6.26, -175.2, 55.48, 102.5, 168.86, 57.7, 98.78, -70.92, -97.05, 115.33, -72.07, 31.4, -66.67, 170.31, -151.75, 29.72]\n"
    }
   ],
   "source": [
    "#Create lists for latitude and logitude\n",
    "lats = []\n",
    "lons = []\n",
    "coord_data = dict(df['coord'])\n",
    "city_count = 0\n",
    "for city in coord_data:\n",
    "    lats.append(coord_data[city_count]['lat'])\n",
    "    lons.append(coord_data[city_count]['lon'])\n",
    "    city_count += 1\n",
    "print(lats)\n",
    "print(lons)"
   ]
  },
  {
   "cell_type": "code",
   "execution_count": 72,
   "metadata": {},
   "outputs": [
    {
     "data": {
      "text/plain": "[1.5,\n 4.84,\n 0.9,\n 9.93,\n 0.95,\n 5.1,\n 2.22,\n 4.6,\n 4.6,\n 3.34,\n 1.5,\n 0.29,\n 4.6,\n 3.55,\n 8.04,\n 3.1,\n 9.8,\n 8.7,\n 2.07,\n 2.6,\n 4.6,\n 6.7,\n 1.47,\n 6.78,\n 5.1,\n 8.7,\n 5.1,\n 4.1,\n 1.5,\n 1.92,\n 1,\n 4.6,\n 3.1,\n 2.4,\n 4.1,\n 6.2,\n 8.52,\n 3.6,\n 3.1,\n 2.12,\n 2.99,\n 2.1,\n 3.1,\n 4.68,\n 0.7,\n 1.5,\n 1.24,\n 6.7,\n 6.7,\n 6.47,\n 4.1,\n 3.6,\n 7.84,\n 4.76,\n 1.81,\n 8.7]"
     },
     "execution_count": 72,
     "metadata": {},
     "output_type": "execute_result"
    }
   ],
   "source": [
    "#Create a list for wind speed\n",
    "wind_speed = []\n",
    "wind_data = dict(df['wind'])\n",
    "city_count = 0\n",
    "for city in wind_data:\n",
    "    wind_speed.append(wind_data[city_count]['speed'])\n",
    "    city_count += 1\n",
    "wind_speed"
   ]
  },
  {
   "cell_type": "code",
   "execution_count": 77,
   "metadata": {},
   "outputs": [
    {
     "data": {
      "text/html": "<div>\n<style scoped>\n    .dataframe tbody tr th:only-of-type {\n        vertical-align: middle;\n    }\n\n    .dataframe tbody tr th {\n        vertical-align: top;\n    }\n\n    .dataframe thead th {\n        text-align: right;\n    }\n</style>\n<table border=\"1\" class=\"dataframe\">\n  <thead>\n    <tr style=\"text-align: right;\">\n      <th></th>\n      <th>Cloudiness</th>\n      <th>Country</th>\n      <th>Dates</th>\n      <th>Humidity</th>\n      <th>Lat</th>\n      <th>Lng</th>\n      <th>Max Temp</th>\n      <th>Wind Speed</th>\n    </tr>\n    <tr>\n      <th>City</th>\n      <th></th>\n      <th></th>\n      <th></th>\n      <th></th>\n      <th></th>\n      <th></th>\n      <th></th>\n      <th></th>\n    </tr>\n  </thead>\n  <tbody>\n    <tr>\n      <th>Laguna</th>\n      <td>1</td>\n      <td>US</td>\n      <td>1.583435e+09</td>\n      <td>55</td>\n      <td>38.42</td>\n      <td>-121.42</td>\n      <td>294.82</td>\n      <td>1.50</td>\n    </tr>\n    <tr>\n      <th>Sangar</th>\n      <td>100</td>\n      <td>RU</td>\n      <td>1.583435e+09</td>\n      <td>89</td>\n      <td>63.92</td>\n      <td>127.47</td>\n      <td>258.11</td>\n      <td>4.84</td>\n    </tr>\n    <tr>\n      <th>Izvestkovyy</th>\n      <td>58</td>\n      <td>RU</td>\n      <td>1.583435e+09</td>\n      <td>88</td>\n      <td>48.98</td>\n      <td>131.55</td>\n      <td>259.94</td>\n      <td>0.90</td>\n    </tr>\n    <tr>\n      <th>Rikitea</th>\n      <td>7</td>\n      <td>PF</td>\n      <td>1.583435e+09</td>\n      <td>76</td>\n      <td>-23.12</td>\n      <td>-134.97</td>\n      <td>298.28</td>\n      <td>9.93</td>\n    </tr>\n    <tr>\n      <th>Kahului</th>\n      <td>75</td>\n      <td>US</td>\n      <td>1.583435e+09</td>\n      <td>77</td>\n      <td>20.89</td>\n      <td>-156.47</td>\n      <td>295.37</td>\n      <td>0.95</td>\n    </tr>\n  </tbody>\n</table>\n</div>",
      "text/plain": "             Cloudiness Country         Dates  Humidity    Lat     Lng  \\\nCity                                                                     \nLaguna                1      US  1.583435e+09        55  38.42 -121.42   \nSangar              100      RU  1.583435e+09        89  63.92  127.47   \nIzvestkovyy          58      RU  1.583435e+09        88  48.98  131.55   \nRikitea               7      PF  1.583435e+09        76 -23.12 -134.97   \nKahului              75      US  1.583435e+09        77  20.89 -156.47   \n\n             Max Temp  Wind Speed  \nCity                               \nLaguna         294.82        1.50  \nSangar         258.11        4.84  \nIzvestkovyy    259.94        0.90  \nRikitea        298.28        9.93  \nKahului        295.37        0.95  "
     },
     "execution_count": 77,
     "metadata": {},
     "output_type": "execute_result"
    }
   ],
   "source": [
    "weather_df = pd.DataFrame({\"City\":names, \"Cloudiness\":cloudiness, \"Country\":countries, \"Dates\":dates_unix, \"Humidity\":humidity,\"Lat\":lats, \"Lng\":lons, \"Max Temp\":max_temps, \"Wind Speed\":wind_speed})\n",
    "weather_df = weather_df.set_index('City')\n",
    "weather_df.head()"
   ]
  },
  {
   "cell_type": "code",
   "execution_count": 78,
   "metadata": {},
   "outputs": [],
   "source": [
    "#Convert dataframe to csv\n",
    "weather_df.to_csv(output_data_file, sep=',')"
   ]
  },
  {
   "cell_type": "code",
   "execution_count": 87,
   "metadata": {},
   "outputs": [
    {
     "data": {
      "text/plain": "182"
     },
     "execution_count": 87,
     "metadata": {},
     "output_type": "execute_result"
    }
   ],
   "source": [
    "len(responses)"
   ]
  },
  {
   "cell_type": "code",
   "execution_count": null,
   "metadata": {},
   "outputs": [],
   "source": []
  }
 ]
}