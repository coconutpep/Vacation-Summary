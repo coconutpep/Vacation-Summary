{
 "cells": [
  {
   "cell_type": "code",
   "execution_count": 1,
   "metadata": {},
   "outputs": [],
   "source": [
    "# Dependencies and Setup\n",
    "import matplotlib.pyplot as plt\n",
    "import pandas as pd\n",
    "import numpy as np\n",
    "import requests\n",
    "import time\n",
    "from scipy.stats import linregress\n",
    "from pprint import pprint\n",
    "# Import API key\n",
    "from config import api_key\n",
    "\n",
    "# Incorporated citipy to determine city based on latitude and longitude\n",
    "from citipy import citipy\n",
    "\n",
    "# Output File (CSV)\n",
    "output_data_file = \"output_data/cities.csv\"\n",
    "\n",
    "# Range of latitudes and longitudes\n",
    "lat_range = (-90, 90)\n",
    "lng_range = (-180, 180)"
   ]
  },
  {
   "cell_type": "code",
   "execution_count": 2,
   "metadata": {},
   "outputs": [
    {
     "data": {
      "text/plain": "605"
     },
     "execution_count": 2,
     "metadata": {},
     "output_type": "execute_result"
    }
   ],
   "source": [
    "# List for holding lat_lngs and cities\n",
    "lat_lngs = []\n",
    "cities = []\n",
    "\n",
    "# Create a set of random lat and lng combinations\n",
    "lats = np.random.uniform(low=-90.000, high=90.000, size=1500)\n",
    "lngs = np.random.uniform(low=-180.000, high=180.000, size=1500)\n",
    "lat_lngs = zip(lats, lngs)\n",
    "\n",
    "# Identify nearest city for each lat, lng combination\n",
    "for lat_lng in lat_lngs:\n",
    "    city = citipy.nearest_city(lat_lng[0], lat_lng[1]).city_name\n",
    "    \n",
    "    # If the city is unique, then add it to a our cities list\n",
    "    if city not in cities:\n",
    "        cities.append(city)\n",
    "\n",
    "# Print the city count to confirm sufficient count\n",
    "len(cities)"
   ]
  },
  {
   "cell_type": "code",
   "execution_count": 7,
   "metadata": {},
   "outputs": [],
   "source": [
    "#URL for OpenWeather API\n",
    "url = \"http://api.openweathermap.org/data/2.5/weather?q=\"\n",
    "#List to hold API responses\n",
    "responses = []\n",
    "#For loop to pull data for each of the first 60 cities in the list\n",
    "#Put for loop into function for easy calling to not exceed call limit per minute\n",
    "def api_call(x, y, set):\n",
    "    count = 1\n",
    "    for city in cities[x:y]:\n",
    "        city_url = url + f\"{city}&units=imperial&appid={api_key}\"\n",
    "        response = requests.get(city_url).json()\n",
    "        responses.append(response)\n",
    "        if response['cod'] == '404':\n",
    "            print('City not found. Skipping...')\n",
    "        else:\n",
    "            print(f\"Processing Record {count} of Set {set} | {city}\")\n",
    "            count += 1"
   ]
  },
  {
   "cell_type": "code",
   "execution_count": 8,
   "metadata": {},
   "outputs": [
    {
     "name": "stdout",
     "output_type": "stream",
     "text": "City not found. Skipping...\nProcessing Record 1 of Set 1 | barrow\nProcessing Record 2 of Set 1 | intampilan\nProcessing Record 3 of Set 1 | jamestown\nProcessing Record 4 of Set 1 | hobart\nProcessing Record 5 of Set 1 | vezirkopru\nCity not found. Skipping...\nProcessing Record 6 of Set 1 | thompson\nProcessing Record 7 of Set 1 | provideniya\nProcessing Record 8 of Set 1 | puerto ayora\nProcessing Record 9 of Set 1 | abnub\nProcessing Record 10 of Set 1 | rikitea\nProcessing Record 11 of Set 1 | daru\nProcessing Record 12 of Set 1 | atuona\nProcessing Record 13 of Set 1 | sita road\nProcessing Record 14 of Set 1 | necochea\nCity not found. Skipping...\nProcessing Record 15 of Set 1 | ambon\nProcessing Record 16 of Set 1 | avarua\nProcessing Record 17 of Set 1 | paris\nCity not found. Skipping...\nProcessing Record 18 of Set 1 | odessa\nProcessing Record 19 of Set 1 | sisophon\nProcessing Record 20 of Set 1 | half moon bay\nProcessing Record 21 of Set 1 | vaini\nCity not found. Skipping...\nProcessing Record 22 of Set 1 | tiksi\nProcessing Record 23 of Set 1 | port alfred\nProcessing Record 24 of Set 1 | hermanus\nProcessing Record 25 of Set 1 | chuy\nProcessing Record 26 of Set 1 | leningradskiy\nProcessing Record 27 of Set 1 | mar del plata\nProcessing Record 28 of Set 1 | mataura\nProcessing Record 29 of Set 1 | luau\nProcessing Record 30 of Set 1 | palana\nProcessing Record 31 of Set 1 | ushuaia\nProcessing Record 32 of Set 1 | innisfail\nProcessing Record 33 of Set 1 | itaituba\nProcessing Record 34 of Set 1 | karasjok\nProcessing Record 35 of Set 1 | cherskiy\nProcessing Record 36 of Set 1 | burnie\nProcessing Record 37 of Set 1 | xiaoweizhai\nProcessing Record 38 of Set 1 | ribeira grande\nProcessing Record 39 of Set 1 | port keats\nProcessing Record 40 of Set 1 | qaanaaq\nProcessing Record 41 of Set 1 | kapaa\nProcessing Record 42 of Set 1 | iskateley\nProcessing Record 43 of Set 1 | polyarnyy\nProcessing Record 44 of Set 1 | bluff\nProcessing Record 45 of Set 1 | busselton\nProcessing Record 46 of Set 1 | ilulissat\nProcessing Record 47 of Set 1 | jiayuguan\nProcessing Record 48 of Set 1 | avera\nProcessing Record 49 of Set 1 | alyangula\nCity not found. Skipping...\nProcessing Record 50 of Set 1 | new norfolk\nProcessing Record 51 of Set 1 | nikolskoye\nProcessing Record 52 of Set 1 | hithadhoo\nProcessing Record 53 of Set 1 | itarema\nProcessing Record 54 of Set 1 | hangu\n"
    }
   ],
   "source": [
    "#Calling function to get the data over time (placed in different cells to avoid this problem)\n",
    "api_call(0,60,1)"
   ]
  },
  {
   "cell_type": "code",
   "execution_count": 9,
   "metadata": {},
   "outputs": [
    {
     "name": "stdout",
     "output_type": "stream",
     "text": "Processing Record 1 of Set 2 | manbij\nProcessing Record 2 of Set 2 | novosheshminsk\nProcessing Record 3 of Set 2 | bambous virieux\nProcessing Record 4 of Set 2 | ancud\nProcessing Record 5 of Set 2 | dingle\nProcessing Record 6 of Set 2 | eureka\nProcessing Record 7 of Set 2 | arraial do cabo\nProcessing Record 8 of Set 2 | padang\nProcessing Record 9 of Set 2 | lebu\nProcessing Record 10 of Set 2 | codrington\nProcessing Record 11 of Set 2 | yellowknife\nProcessing Record 12 of Set 2 | ipixuna\nProcessing Record 13 of Set 2 | pevek\nProcessing Record 14 of Set 2 | vila franca do campo\nCity not found. Skipping...\nProcessing Record 15 of Set 2 | albany\nProcessing Record 16 of Set 2 | rio branco\nProcessing Record 17 of Set 2 | cape town\nProcessing Record 18 of Set 2 | okhotsk\nProcessing Record 19 of Set 2 | lavrentiya\nProcessing Record 20 of Set 2 | tasiilaq\nProcessing Record 21 of Set 2 | punta arenas\nProcessing Record 22 of Set 2 | tutoia\nProcessing Record 23 of Set 2 | castro\nCity not found. Skipping...\nProcessing Record 24 of Set 2 | caravelas\nProcessing Record 25 of Set 2 | kahului\nCity not found. Skipping...\nProcessing Record 26 of Set 2 | san cristobal\nProcessing Record 27 of Set 2 | tuatapere\nProcessing Record 28 of Set 2 | penarroya-pueblonuevo\nProcessing Record 29 of Set 2 | tete\nProcessing Record 30 of Set 2 | tsumeb\nProcessing Record 31 of Set 2 | chokurdakh\nProcessing Record 32 of Set 2 | hamilton\nProcessing Record 33 of Set 2 | bredasdorp\nProcessing Record 34 of Set 2 | port hardy\nProcessing Record 35 of Set 2 | naigarhi\nProcessing Record 36 of Set 2 | victoria point\nProcessing Record 37 of Set 2 | georgetown\nProcessing Record 38 of Set 2 | hasaki\nProcessing Record 39 of Set 2 | saint-georges\nProcessing Record 40 of Set 2 | kodiak\nProcessing Record 41 of Set 2 | ostrovnoy\nCity not found. Skipping...\nProcessing Record 42 of Set 2 | westport\nProcessing Record 43 of Set 2 | altay\nProcessing Record 44 of Set 2 | isfana\nProcessing Record 45 of Set 2 | todos santos\nProcessing Record 46 of Set 2 | alghero\nProcessing Record 47 of Set 2 | longyearbyen\nProcessing Record 48 of Set 2 | huangmei\nProcessing Record 49 of Set 2 | puerto escondido\nProcessing Record 50 of Set 2 | kisangani\nProcessing Record 51 of Set 2 | port elizabeth\nProcessing Record 52 of Set 2 | salalah\nProcessing Record 53 of Set 2 | honiara\nProcessing Record 54 of Set 2 | hyderabad\nProcessing Record 55 of Set 2 | aktau\nProcessing Record 56 of Set 2 | lexington\nProcessing Record 57 of Set 2 | tongzi\n"
    }
   ],
   "source": [
    "#Call for data to city index 120\n",
    "api_call(60,121,2)"
   ]
  },
  {
   "cell_type": "code",
   "execution_count": 10,
   "metadata": {},
   "outputs": [
    {
     "name": "stdout",
     "output_type": "stream",
     "text": "Processing Record 1 of Set 3 | maltahohe\nProcessing Record 2 of Set 3 | porto novo\nProcessing Record 3 of Set 3 | sao filipe\nProcessing Record 4 of Set 3 | dembi dolo\nProcessing Record 5 of Set 3 | san juan\nProcessing Record 6 of Set 3 | luderitz\nProcessing Record 7 of Set 3 | hilo\nProcessing Record 8 of Set 3 | qeshm\nProcessing Record 9 of Set 3 | ketchikan\nCity not found. Skipping...\nProcessing Record 10 of Set 3 | san rafael\nProcessing Record 11 of Set 3 | macklin\nProcessing Record 12 of Set 3 | vallenar\nProcessing Record 13 of Set 3 | koumac\nProcessing Record 14 of Set 3 | saint george\nProcessing Record 15 of Set 3 | east london\nProcessing Record 16 of Set 3 | klyuchi\nCity not found. Skipping...\nProcessing Record 17 of Set 3 | butaritari\nProcessing Record 18 of Set 3 | torbay\nProcessing Record 19 of Set 3 | shivrajpur\nProcessing Record 20 of Set 3 | mocuba\nProcessing Record 21 of Set 3 | tuktoyaktuk\nProcessing Record 22 of Set 3 | cidreira\nProcessing Record 23 of Set 3 | severo-kurilsk\nProcessing Record 24 of Set 3 | khatanga\nProcessing Record 25 of Set 3 | mount gambier\nProcessing Record 26 of Set 3 | ponta do sol\nProcessing Record 27 of Set 3 | nanortalik\nProcessing Record 28 of Set 3 | kankan\nProcessing Record 29 of Set 3 | nabire\nProcessing Record 30 of Set 3 | sorland\nProcessing Record 31 of Set 3 | geraldton\nProcessing Record 32 of Set 3 | namatanai\nProcessing Record 33 of Set 3 | port blair\nProcessing Record 34 of Set 3 | lorengau\nCity not found. Skipping...\nProcessing Record 35 of Set 3 | luganville\nProcessing Record 36 of Set 3 | karratha\nCity not found. Skipping...\nProcessing Record 37 of Set 3 | sindor\nProcessing Record 38 of Set 3 | dongsheng\nProcessing Record 39 of Set 3 | carnarvon\nProcessing Record 40 of Set 3 | balabac\nProcessing Record 41 of Set 3 | lahij\nProcessing Record 42 of Set 3 | rabaul\nProcessing Record 43 of Set 3 | makakilo city\nProcessing Record 44 of Set 3 | katsuura\nProcessing Record 45 of Set 3 | esperance\nCity not found. Skipping...\nProcessing Record 46 of Set 3 | pallasovka\nProcessing Record 47 of Set 3 | dedovichi\nProcessing Record 48 of Set 3 | fortuna\nProcessing Record 49 of Set 3 | coihaique\nProcessing Record 50 of Set 3 | raudeberg\nProcessing Record 51 of Set 3 | san quintin\nProcessing Record 52 of Set 3 | awjilah\nProcessing Record 53 of Set 3 | chapais\nCity not found. Skipping...\nProcessing Record 54 of Set 3 | norman wells\nProcessing Record 55 of Set 3 | faya\n"
    }
   ],
   "source": [
    "#to index 181\n",
    "api_call(121, 182,3)"
   ]
  },
  {
   "cell_type": "code",
   "execution_count": 11,
   "metadata": {},
   "outputs": [
    {
     "name": "stdout",
     "output_type": "stream",
     "text": "Processing Record 1 of Set 4 | kita\nProcessing Record 2 of Set 4 | dvinskoy\nProcessing Record 3 of Set 4 | weligama\nProcessing Record 4 of Set 4 | kupang\nProcessing Record 5 of Set 4 | bonthe\nProcessing Record 6 of Set 4 | odienne\nProcessing Record 7 of Set 4 | gudari\nProcessing Record 8 of Set 4 | walvis bay\nProcessing Record 9 of Set 4 | khash\nProcessing Record 10 of Set 4 | ahipara\nCity not found. Skipping...\nProcessing Record 11 of Set 4 | mareeba\nCity not found. Skipping...\nProcessing Record 12 of Set 4 | cap malheureux\nProcessing Record 13 of Set 4 | manta\nProcessing Record 14 of Set 4 | maceio\nProcessing Record 15 of Set 4 | lagoa\nProcessing Record 16 of Set 4 | aksu\nCity not found. Skipping...\nProcessing Record 17 of Set 4 | alto piquiri\nProcessing Record 18 of Set 4 | yatou\nProcessing Record 19 of Set 4 | port macquarie\nProcessing Record 20 of Set 4 | lucapa\nProcessing Record 21 of Set 4 | beringovskiy\nProcessing Record 22 of Set 4 | neftcala\nProcessing Record 23 of Set 4 | te anau\nProcessing Record 24 of Set 4 | porto de moz\nProcessing Record 25 of Set 4 | manzanillo\nProcessing Record 26 of Set 4 | taltal\nProcessing Record 27 of Set 4 | amarillo\nProcessing Record 28 of Set 4 | gardendale\nProcessing Record 29 of Set 4 | bethel\nProcessing Record 30 of Set 4 | carberry\nProcessing Record 31 of Set 4 | coahuayana\nProcessing Record 32 of Set 4 | gueugnon\nProcessing Record 33 of Set 4 | japura\nProcessing Record 34 of Set 4 | yarensk\nProcessing Record 35 of Set 4 | yar-sale\nProcessing Record 36 of Set 4 | luang prabang\nProcessing Record 37 of Set 4 | port lincoln\nProcessing Record 38 of Set 4 | hualmay\nProcessing Record 39 of Set 4 | mazyr\nProcessing Record 40 of Set 4 | bengkulu\nProcessing Record 41 of Set 4 | high rock\nProcessing Record 42 of Set 4 | arbagar\nProcessing Record 43 of Set 4 | hay river\nProcessing Record 44 of Set 4 | adrar\nProcessing Record 45 of Set 4 | upernavik\nProcessing Record 46 of Set 4 | nieuw nickerie\nProcessing Record 47 of Set 4 | zhanaozen\nProcessing Record 48 of Set 4 | biltine\nProcessing Record 49 of Set 4 | elizabeth city\nProcessing Record 50 of Set 4 | panzhihua\nProcessing Record 51 of Set 4 | pronsk\nProcessing Record 52 of Set 4 | buala\nProcessing Record 53 of Set 4 | tabuk\nProcessing Record 54 of Set 4 | cabo san lucas\nProcessing Record 55 of Set 4 | changji\nProcessing Record 56 of Set 4 | luanda\nProcessing Record 57 of Set 4 | mackay\nProcessing Record 58 of Set 4 | vao\n"
    }
   ],
   "source": [
    "#to index 242\n",
    "api_call(182,243,4)"
   ]
  },
  {
   "cell_type": "code",
   "execution_count": 12,
   "metadata": {},
   "outputs": [
    {
     "name": "stdout",
     "output_type": "stream",
     "text": "Processing Record 1 of Set 5 | nemuro\nProcessing Record 2 of Set 5 | haines junction\nProcessing Record 3 of Set 5 | sambava\nProcessing Record 4 of Set 5 | komsomolskiy\nProcessing Record 5 of Set 5 | tabou\nProcessing Record 6 of Set 5 | ambilobe\nProcessing Record 7 of Set 5 | san patricio\nProcessing Record 8 of Set 5 | nirasaki\nProcessing Record 9 of Set 5 | san pedro\nProcessing Record 10 of Set 5 | seddon\nProcessing Record 11 of Set 5 | gat\nCity not found. Skipping...\nCity not found. Skipping...\nProcessing Record 12 of Set 5 | were ilu\nProcessing Record 13 of Set 5 | lons-le-saunier\nProcessing Record 14 of Set 5 | saint-philippe\nProcessing Record 15 of Set 5 | samana\nProcessing Record 16 of Set 5 | ratnagiri\nProcessing Record 17 of Set 5 | oranjestad\nProcessing Record 18 of Set 5 | kaitangata\nProcessing Record 19 of Set 5 | deming\nProcessing Record 20 of Set 5 | atherton\nProcessing Record 21 of Set 5 | paamiut\nProcessing Record 22 of Set 5 | vestmannaeyjar\nProcessing Record 23 of Set 5 | saint-francois\nProcessing Record 24 of Set 5 | souillac\nProcessing Record 25 of Set 5 | luwingu\nProcessing Record 26 of Set 5 | iqaluit\nProcessing Record 27 of Set 5 | guarapuava\nProcessing Record 28 of Set 5 | inhambane\nProcessing Record 29 of Set 5 | morgan city\nProcessing Record 30 of Set 5 | bismarck\nProcessing Record 31 of Set 5 | airai\nProcessing Record 32 of Set 5 | labuhan\nProcessing Record 33 of Set 5 | sherpur\nProcessing Record 34 of Set 5 | rapid valley\nProcessing Record 35 of Set 5 | evans\nProcessing Record 36 of Set 5 | faanui\nCity not found. Skipping...\nProcessing Record 37 of Set 5 | shache\nProcessing Record 38 of Set 5 | polczyn-zdroj\nProcessing Record 39 of Set 5 | revda\nCity not found. Skipping...\nProcessing Record 40 of Set 5 | havelock\nCity not found. Skipping...\nProcessing Record 41 of Set 5 | maraba\nProcessing Record 42 of Set 5 | portland\nProcessing Record 43 of Set 5 | melfort\nProcessing Record 44 of Set 5 | hailar\nProcessing Record 45 of Set 5 | horodyshche\nProcessing Record 46 of Set 5 | bathsheba\nProcessing Record 47 of Set 5 | micheweni\nProcessing Record 48 of Set 5 | santa cruz de tenerife\nProcessing Record 49 of Set 5 | basavakalyan\nProcessing Record 50 of Set 5 | biak\nProcessing Record 51 of Set 5 | korla\nProcessing Record 52 of Set 5 | pochutla\nProcessing Record 53 of Set 5 | halifax\nProcessing Record 54 of Set 5 | toora-khem\nProcessing Record 55 of Set 5 | hofn\n"
    }
   ],
   "source": [
    "#to index 302\n",
    "api_call(243,303,5)"
   ]
  },
  {
   "cell_type": "code",
   "execution_count": 13,
   "metadata": {},
   "outputs": [
    {
     "name": "stdout",
     "output_type": "stream",
     "text": "Processing Record 1 of Set 6 | lagunas\nProcessing Record 2 of Set 6 | izhma\nProcessing Record 3 of Set 6 | antofagasta\nProcessing Record 4 of Set 6 | saskylakh\nProcessing Record 5 of Set 6 | merritt island\nProcessing Record 6 of Set 6 | zeya\nProcessing Record 7 of Set 6 | loudeac\nProcessing Record 8 of Set 6 | gravdal\nProcessing Record 9 of Set 6 | yola\nProcessing Record 10 of Set 6 | zachary\nProcessing Record 11 of Set 6 | mweka\nProcessing Record 12 of Set 6 | victoria\nProcessing Record 13 of Set 6 | zaozerne\nProcessing Record 14 of Set 6 | kharsia\nProcessing Record 15 of Set 6 | rawson\nProcessing Record 16 of Set 6 | kununurra\nProcessing Record 17 of Set 6 | svobodnyy\nProcessing Record 18 of Set 6 | dikson\nProcessing Record 19 of Set 6 | kingisepp\nProcessing Record 20 of Set 6 | constantine\nProcessing Record 21 of Set 6 | carutapera\nProcessing Record 22 of Set 6 | severo-yeniseyskiy\nProcessing Record 23 of Set 6 | akcaabat\nProcessing Record 24 of Set 6 | andenes\nProcessing Record 25 of Set 6 | kargasok\nProcessing Record 26 of Set 6 | svetlogorsk\nProcessing Record 27 of Set 6 | martapura\nProcessing Record 28 of Set 6 | sembakung\nProcessing Record 29 of Set 6 | mahebourg\nProcessing Record 30 of Set 6 | osoyoos\nProcessing Record 31 of Set 6 | christchurch\nProcessing Record 32 of Set 6 | douglas\nProcessing Record 33 of Set 6 | rodrigues alves\nProcessing Record 34 of Set 6 | ternate\nProcessing Record 35 of Set 6 | aswan\nProcessing Record 36 of Set 6 | hami\nCity not found. Skipping...\nCity not found. Skipping...\nProcessing Record 37 of Set 6 | livingston\nProcessing Record 38 of Set 6 | lyubech\nProcessing Record 39 of Set 6 | chicama\nProcessing Record 40 of Set 6 | dahod\nProcessing Record 41 of Set 6 | mae hong son\nProcessing Record 42 of Set 6 | port lavaca\nProcessing Record 43 of Set 6 | honningsvag\nProcessing Record 44 of Set 6 | tadine\nCity not found. Skipping...\nProcessing Record 45 of Set 6 | yerofey pavlovich\nProcessing Record 46 of Set 6 | saint anthony\nProcessing Record 47 of Set 6 | coquimbo\nCity not found. Skipping...\nProcessing Record 48 of Set 6 | chinsali\nProcessing Record 49 of Set 6 | korcula\nProcessing Record 50 of Set 6 | lardos\nProcessing Record 51 of Set 6 | south venice\nProcessing Record 52 of Set 6 | narsaq\nProcessing Record 53 of Set 6 | sibolga\nProcessing Record 54 of Set 6 | zhaotong\nProcessing Record 55 of Set 6 | pipar\nProcessing Record 56 of Set 6 | nova vicosa\n"
    }
   ],
   "source": [
    "#to index 362\n",
    "api_call(303, 363,6)"
   ]
  },
  {
   "cell_type": "code",
   "execution_count": 14,
   "metadata": {},
   "outputs": [
    {
     "name": "stdout",
     "output_type": "stream",
     "text": "Processing Record 1 of Set 7 | szczytno\nProcessing Record 2 of Set 7 | trelew\nProcessing Record 3 of Set 7 | alice springs\nProcessing Record 4 of Set 7 | matara\nProcessing Record 5 of Set 7 | gay\nProcessing Record 6 of Set 7 | santa catarina\nProcessing Record 7 of Set 7 | salym\nProcessing Record 8 of Set 7 | karaman\nProcessing Record 9 of Set 7 | camana\nProcessing Record 10 of Set 7 | naze\nProcessing Record 11 of Set 7 | poum\nProcessing Record 12 of Set 7 | alta floresta\nProcessing Record 13 of Set 7 | la union\nProcessing Record 14 of Set 7 | galesong\nProcessing Record 15 of Set 7 | ixtapa\nCity not found. Skipping...\nProcessing Record 16 of Set 7 | acapulco\nProcessing Record 17 of Set 7 | gbarnga\nProcessing Record 18 of Set 7 | anadyr\nCity not found. Skipping...\nProcessing Record 19 of Set 7 | comodoro rivadavia\nProcessing Record 20 of Set 7 | paragominas\nProcessing Record 21 of Set 7 | umm lajj\nProcessing Record 22 of Set 7 | mauguio\nCity not found. Skipping...\nProcessing Record 23 of Set 7 | zaoyang\nProcessing Record 24 of Set 7 | suez\nProcessing Record 25 of Set 7 | great falls\nCity not found. Skipping...\nProcessing Record 26 of Set 7 | along\nProcessing Record 27 of Set 7 | sainte-rose\nProcessing Record 28 of Set 7 | valparaiso\nProcessing Record 29 of Set 7 | pisco\nProcessing Record 30 of Set 7 | esmeraldas\nProcessing Record 31 of Set 7 | clyde river\nProcessing Record 32 of Set 7 | tromso\nProcessing Record 33 of Set 7 | mogadishu\nProcessing Record 34 of Set 7 | alnashi\nProcessing Record 35 of Set 7 | lano\nProcessing Record 36 of Set 7 | fort-shevchenko\nProcessing Record 37 of Set 7 | dunedin\nProcessing Record 38 of Set 7 | monrovia\nProcessing Record 39 of Set 7 | grants pass\nProcessing Record 40 of Set 7 | ponta delgada\nProcessing Record 41 of Set 7 | payakumbuh\nProcessing Record 42 of Set 7 | kavieng\nProcessing Record 43 of Set 7 | rivadavia\nProcessing Record 44 of Set 7 | oranjemund\nProcessing Record 45 of Set 7 | bongouanou\nProcessing Record 46 of Set 7 | teguldet\nProcessing Record 47 of Set 7 | port hedland\nProcessing Record 48 of Set 7 | tiznit\nProcessing Record 49 of Set 7 | santa cruz\nProcessing Record 50 of Set 7 | storforshei\nProcessing Record 51 of Set 7 | astara\nCity not found. Skipping...\nProcessing Record 52 of Set 7 | bonavista\nProcessing Record 53 of Set 7 | doaba\nProcessing Record 54 of Set 7 | bezhetsk\nProcessing Record 55 of Set 7 | morehead\n"
    }
   ],
   "source": [
    "#to index 422\n",
    "api_call(363, 423,7)"
   ]
  },
  {
   "cell_type": "code",
   "execution_count": 15,
   "metadata": {},
   "outputs": [
    {
     "name": "stdout",
     "output_type": "stream",
     "text": "Processing Record 1 of Set 8 | vanimo\nProcessing Record 2 of Set 8 | klaksvik\nProcessing Record 3 of Set 8 | isangel\nProcessing Record 4 of Set 8 | champerico\nProcessing Record 5 of Set 8 | bafoulabe\nProcessing Record 6 of Set 8 | colon\nProcessing Record 7 of Set 8 | bodden town\nProcessing Record 8 of Set 8 | saldanha\nCity not found. Skipping...\nCity not found. Skipping...\nProcessing Record 9 of Set 8 | mulanur\nProcessing Record 10 of Set 8 | tabas\nProcessing Record 11 of Set 8 | pozo colorado\nProcessing Record 12 of Set 8 | victor harbor\nProcessing Record 13 of Set 8 | kieta\nProcessing Record 14 of Set 8 | parabel\nProcessing Record 15 of Set 8 | umm kaddadah\nProcessing Record 16 of Set 8 | mbini\nProcessing Record 17 of Set 8 | bankura\nProcessing Record 18 of Set 8 | abu dhabi\nProcessing Record 19 of Set 8 | maua\nProcessing Record 20 of Set 8 | khandbari\nProcessing Record 21 of Set 8 | beyneu\nProcessing Record 22 of Set 8 | sitka\nProcessing Record 23 of Set 8 | zverinogolovskoye\nProcessing Record 24 of Set 8 | amapa\nCity not found. Skipping...\nProcessing Record 25 of Set 8 | kargat\nProcessing Record 26 of Set 8 | jacareacanga\nProcessing Record 27 of Set 8 | quelimane\nProcessing Record 28 of Set 8 | dom pedrito\nProcessing Record 29 of Set 8 | rosiesti\nProcessing Record 30 of Set 8 | huanren\nProcessing Record 31 of Set 8 | havre-saint-pierre\nProcessing Record 32 of Set 8 | alenquer\nProcessing Record 33 of Set 8 | straumen\nProcessing Record 34 of Set 8 | la libertad\nProcessing Record 35 of Set 8 | udachnyy\nProcessing Record 36 of Set 8 | nikolayevka\nProcessing Record 37 of Set 8 | acarau\nProcessing Record 38 of Set 8 | durham\nProcessing Record 39 of Set 8 | zhuhai\nCity not found. Skipping...\nProcessing Record 40 of Set 8 | amlagora\nProcessing Record 41 of Set 8 | evensk\nProcessing Record 42 of Set 8 | srednekolymsk\nProcessing Record 43 of Set 8 | tommot\nCity not found. Skipping...\nProcessing Record 44 of Set 8 | atessa\nProcessing Record 45 of Set 8 | umm bab\nProcessing Record 46 of Set 8 | parrita\nProcessing Record 47 of Set 8 | margate\nProcessing Record 48 of Set 8 | mykolayiv\nProcessing Record 49 of Set 8 | zyryanka\nProcessing Record 50 of Set 8 | kimbe\nProcessing Record 51 of Set 8 | maridi\nProcessing Record 52 of Set 8 | machali\nCity not found. Skipping...\nProcessing Record 53 of Set 8 | guerrero negro\nProcessing Record 54 of Set 8 | mount isa\n"
    }
   ],
   "source": [
    "#to index 482\n",
    "api_call(423,483,8)"
   ]
  },
  {
   "cell_type": "code",
   "execution_count": 16,
   "metadata": {},
   "outputs": [
    {
     "name": "stdout",
     "output_type": "stream",
     "text": "Processing Record 1 of Set 9 | atambua\nProcessing Record 2 of Set 9 | barpathar\nProcessing Record 3 of Set 9 | alcaudete\nProcessing Record 4 of Set 9 | sao joao da barra\nProcessing Record 5 of Set 9 | eyl\nProcessing Record 6 of Set 9 | vostok\nCity not found. Skipping...\nProcessing Record 7 of Set 9 | chilliwack\nProcessing Record 8 of Set 9 | nioro\nProcessing Record 9 of Set 9 | kon tum\nProcessing Record 10 of Set 9 | hinton\nProcessing Record 11 of Set 9 | prince rupert\nProcessing Record 12 of Set 9 | jalu\nProcessing Record 13 of Set 9 | morondava\nCity not found. Skipping...\nProcessing Record 14 of Set 9 | pemangkat\nProcessing Record 15 of Set 9 | bela vista de goias\nProcessing Record 16 of Set 9 | cabedelo\nProcessing Record 17 of Set 9 | praia da vitoria\nProcessing Record 18 of Set 9 | la rioja\nCity not found. Skipping...\nProcessing Record 19 of Set 9 | poronaysk\nProcessing Record 20 of Set 9 | grindavik\nProcessing Record 21 of Set 9 | grand-santi\nCity not found. Skipping...\nProcessing Record 22 of Set 9 | noumea\nProcessing Record 23 of Set 9 | kungurtug\nProcessing Record 24 of Set 9 | kasongo\nProcessing Record 25 of Set 9 | cap-aux-meules\nProcessing Record 26 of Set 9 | ca mau\nProcessing Record 27 of Set 9 | rio cuarto\nProcessing Record 28 of Set 9 | talnakh\nProcessing Record 29 of Set 9 | byron bay\nProcessing Record 30 of Set 9 | lodja\nCity not found. Skipping...\nProcessing Record 31 of Set 9 | san juan del sur\nProcessing Record 32 of Set 9 | griffith\nProcessing Record 33 of Set 9 | kodinsk\nProcessing Record 34 of Set 9 | russkiy\nProcessing Record 35 of Set 9 | iwanai\nProcessing Record 36 of Set 9 | saint john\nProcessing Record 37 of Set 9 | zhigansk\nProcessing Record 38 of Set 9 | fare\nProcessing Record 39 of Set 9 | shimoda\nProcessing Record 40 of Set 9 | guilin\nProcessing Record 41 of Set 9 | mnogovershinnyy\nProcessing Record 42 of Set 9 | nishihara\nProcessing Record 43 of Set 9 | bucerias\nProcessing Record 44 of Set 9 | road town\nProcessing Record 45 of Set 9 | waw\nProcessing Record 46 of Set 9 | goya\nProcessing Record 47 of Set 9 | berlevag\nProcessing Record 48 of Set 9 | manono\nProcessing Record 49 of Set 9 | bozeman\nProcessing Record 50 of Set 9 | kavaratti\nProcessing Record 51 of Set 9 | ngunguru\nProcessing Record 52 of Set 9 | yining\nProcessing Record 53 of Set 9 | jutai\nProcessing Record 54 of Set 9 | banff\nProcessing Record 55 of Set 9 | am timan\n"
    }
   ],
   "source": [
    "#to index 542\n",
    "api_call(483,543,9)"
   ]
  },
  {
   "cell_type": "code",
   "execution_count": 17,
   "metadata": {},
   "outputs": [
    {
     "name": "stdout",
     "output_type": "stream",
     "text": "Processing Record 1 of Set 10 | fredericksburg\nCity not found. Skipping...\nProcessing Record 2 of Set 10 | nome\nProcessing Record 3 of Set 10 | goderich\nProcessing Record 4 of Set 10 | leshukonskoye\nProcessing Record 5 of Set 10 | saint-augustin\nProcessing Record 6 of Set 10 | kaya\nProcessing Record 7 of Set 10 | bure\nProcessing Record 8 of Set 10 | namibe\nCity not found. Skipping...\nProcessing Record 9 of Set 10 | tahoua\nProcessing Record 10 of Set 10 | emba\nProcessing Record 11 of Set 10 | olafsvik\nProcessing Record 12 of Set 10 | yulara\nProcessing Record 13 of Set 10 | svetlyy\nCity not found. Skipping...\nProcessing Record 14 of Set 10 | potosi\nProcessing Record 15 of Set 10 | san policarpo\nProcessing Record 16 of Set 10 | kruisfontein\nProcessing Record 17 of Set 10 | esfarayen\nProcessing Record 18 of Set 10 | maguling\nProcessing Record 19 of Set 10 | agadir\nProcessing Record 20 of Set 10 | kuruman\nProcessing Record 21 of Set 10 | elko\nProcessing Record 22 of Set 10 | bontang\nProcessing Record 23 of Set 10 | limay\nProcessing Record 24 of Set 10 | pemba\nProcessing Record 25 of Set 10 | conceicao do araguaia\nProcessing Record 26 of Set 10 | vardo\nCity not found. Skipping...\nProcessing Record 27 of Set 10 | tornio\nProcessing Record 28 of Set 10 | dumas\nProcessing Record 29 of Set 10 | husavik\nProcessing Record 30 of Set 10 | kasongo-lunda\nProcessing Record 31 of Set 10 | vila velha\nProcessing Record 32 of Set 10 | tilichiki\nProcessing Record 33 of Set 10 | whitehaven\nProcessing Record 34 of Set 10 | tura\nProcessing Record 35 of Set 10 | petropavlovsk-kamchatskiy\nProcessing Record 36 of Set 10 | guaruja\nProcessing Record 37 of Set 10 | lompoc\nProcessing Record 38 of Set 10 | odweyne\nProcessing Record 39 of Set 10 | payo\nProcessing Record 40 of Set 10 | the valley\nCity not found. Skipping...\nProcessing Record 41 of Set 10 | manokwari\nProcessing Record 42 of Set 10 | vitim\nProcessing Record 43 of Set 10 | chateauroux\nProcessing Record 44 of Set 10 | lannion\nProcessing Record 45 of Set 10 | tulum\nProcessing Record 46 of Set 10 | samdrup jongkhar\nProcessing Record 47 of Set 10 | vestmanna\nProcessing Record 48 of Set 10 | fukue\nProcessing Record 49 of Set 10 | meybod\nProcessing Record 50 of Set 10 | viedma\nProcessing Record 51 of Set 10 | college\nProcessing Record 52 of Set 10 | tucurui\nProcessing Record 53 of Set 10 | visby\nCity not found. Skipping...\nProcessing Record 54 of Set 10 | soubre\n"
    }
   ],
   "source": [
    "#to index 602\n",
    "api_call(543,603,10)"
   ]
  },
  {
   "cell_type": "code",
   "execution_count": 18,
   "metadata": {},
   "outputs": [
    {
     "name": "stdout",
     "output_type": "stream",
     "text": "Processing Record 1 of Set 11 | mount pleasant\nProcessing Record 2 of Set 11 | brae\n"
    }
   ],
   "source": [
    "#to index 605(end)\n",
    "api_call(603,606,11)"
   ]
  },
  {
   "cell_type": "code",
   "execution_count": 19,
   "metadata": {},
   "outputs": [
    {
     "data": {
      "text/plain": "605"
     },
     "execution_count": 19,
     "metadata": {},
     "output_type": "execute_result"
    }
   ],
   "source": [
    "#check that data was pulled\n",
    "len(responses)"
   ]
  },
  {
   "cell_type": "code",
   "execution_count": 20,
   "metadata": {},
   "outputs": [
    {
     "data": {
      "text/html": "<div>\n<style scoped>\n    .dataframe tbody tr th:only-of-type {\n        vertical-align: middle;\n    }\n\n    .dataframe tbody tr th {\n        vertical-align: top;\n    }\n\n    .dataframe thead th {\n        text-align: right;\n    }\n</style>\n<table border=\"1\" class=\"dataframe\">\n  <thead>\n    <tr style=\"text-align: right;\">\n      <th></th>\n      <th>cod</th>\n      <th>message</th>\n      <th>coord</th>\n      <th>weather</th>\n      <th>base</th>\n      <th>main</th>\n      <th>visibility</th>\n      <th>wind</th>\n      <th>clouds</th>\n      <th>dt</th>\n      <th>sys</th>\n      <th>timezone</th>\n      <th>id</th>\n      <th>name</th>\n      <th>rain</th>\n      <th>snow</th>\n    </tr>\n  </thead>\n  <tbody>\n    <tr>\n      <th>0</th>\n      <td>200</td>\n      <td>NaN</td>\n      <td>{'lon': -156.79, 'lat': 71.29}</td>\n      <td>[{'id': 701, 'main': 'Mist', 'description': 'm...</td>\n      <td>stations</td>\n      <td>{'temp': -14.8, 'feels_like': -26.18, 'temp_mi...</td>\n      <td>9656.0</td>\n      <td>{'speed': 8.05, 'deg': 250}</td>\n      <td>{'all': 90}</td>\n      <td>1.583694e+09</td>\n      <td>{'type': 1, 'id': 7649, 'country': 'US', 'sunr...</td>\n      <td>-28800.0</td>\n      <td>5880054.0</td>\n      <td>Barrow</td>\n      <td>NaN</td>\n      <td>NaN</td>\n    </tr>\n    <tr>\n      <th>1</th>\n      <td>200</td>\n      <td>NaN</td>\n      <td>{'lon': 122.74, 'lat': 11.48}</td>\n      <td>[{'id': 802, 'main': 'Clouds', 'description': ...</td>\n      <td>stations</td>\n      <td>{'temp': 74.1, 'feels_like': 81.82, 'temp_min'...</td>\n      <td>NaN</td>\n      <td>{'speed': 1.63, 'deg': 141}</td>\n      <td>{'all': 29}</td>\n      <td>1.583694e+09</td>\n      <td>{'country': 'PH', 'sunrise': 1583704795, 'suns...</td>\n      <td>28800.0</td>\n      <td>1710655.0</td>\n      <td>Intampilan</td>\n      <td>NaN</td>\n      <td>NaN</td>\n    </tr>\n    <tr>\n      <th>2</th>\n      <td>200</td>\n      <td>NaN</td>\n      <td>{'lon': -79.24, 'lat': 42.1}</td>\n      <td>[{'id': 800, 'main': 'Clear', 'description': '...</td>\n      <td>stations</td>\n      <td>{'temp': 51.89, 'feels_like': 42.58, 'temp_min...</td>\n      <td>16093.0</td>\n      <td>{'speed': 8.05, 'deg': 210}</td>\n      <td>{'all': 1}</td>\n      <td>1.583694e+09</td>\n      <td>{'type': 1, 'id': 4588, 'country': 'US', 'sunr...</td>\n      <td>-14400.0</td>\n      <td>5122534.0</td>\n      <td>Jamestown</td>\n      <td>NaN</td>\n      <td>NaN</td>\n    </tr>\n    <tr>\n      <th>3</th>\n      <td>200</td>\n      <td>NaN</td>\n      <td>{'lon': 147.33, 'lat': -42.88}</td>\n      <td>[{'id': 804, 'main': 'Clouds', 'description': ...</td>\n      <td>stations</td>\n      <td>{'temp': 49.95, 'feels_like': 45.63, 'temp_min...</td>\n      <td>10000.0</td>\n      <td>{'speed': 4.7, 'deg': 270}</td>\n      <td>{'all': 90}</td>\n      <td>1.583694e+09</td>\n      <td>{'type': 1, 'id': 9545, 'country': 'AU', 'sunr...</td>\n      <td>39600.0</td>\n      <td>2163355.0</td>\n      <td>Hobart</td>\n      <td>NaN</td>\n      <td>NaN</td>\n    </tr>\n    <tr>\n      <th>4</th>\n      <td>200</td>\n      <td>NaN</td>\n      <td>{'lon': 35.45, 'lat': 41.14}</td>\n      <td>[{'id': 804, 'main': 'Clouds', 'description': ...</td>\n      <td>stations</td>\n      <td>{'temp': 55.4, 'feels_like': 50.92, 'temp_min'...</td>\n      <td>10000.0</td>\n      <td>{'speed': 2.57, 'deg': 206}</td>\n      <td>{'all': 100}</td>\n      <td>1.583694e+09</td>\n      <td>{'type': 1, 'id': 6960, 'country': 'TR', 'sunr...</td>\n      <td>10800.0</td>\n      <td>738167.0</td>\n      <td>Vezirköprü</td>\n      <td>NaN</td>\n      <td>NaN</td>\n    </tr>\n  </tbody>\n</table>\n</div>",
      "text/plain": "   cod message                           coord  \\\n0  200     NaN  {'lon': -156.79, 'lat': 71.29}   \n1  200     NaN   {'lon': 122.74, 'lat': 11.48}   \n2  200     NaN    {'lon': -79.24, 'lat': 42.1}   \n3  200     NaN  {'lon': 147.33, 'lat': -42.88}   \n4  200     NaN    {'lon': 35.45, 'lat': 41.14}   \n\n                                             weather      base  \\\n0  [{'id': 701, 'main': 'Mist', 'description': 'm...  stations   \n1  [{'id': 802, 'main': 'Clouds', 'description': ...  stations   \n2  [{'id': 800, 'main': 'Clear', 'description': '...  stations   \n3  [{'id': 804, 'main': 'Clouds', 'description': ...  stations   \n4  [{'id': 804, 'main': 'Clouds', 'description': ...  stations   \n\n                                                main  visibility  \\\n0  {'temp': -14.8, 'feels_like': -26.18, 'temp_mi...      9656.0   \n1  {'temp': 74.1, 'feels_like': 81.82, 'temp_min'...         NaN   \n2  {'temp': 51.89, 'feels_like': 42.58, 'temp_min...     16093.0   \n3  {'temp': 49.95, 'feels_like': 45.63, 'temp_min...     10000.0   \n4  {'temp': 55.4, 'feels_like': 50.92, 'temp_min'...     10000.0   \n\n                          wind        clouds            dt  \\\n0  {'speed': 8.05, 'deg': 250}   {'all': 90}  1.583694e+09   \n1  {'speed': 1.63, 'deg': 141}   {'all': 29}  1.583694e+09   \n2  {'speed': 8.05, 'deg': 210}    {'all': 1}  1.583694e+09   \n3   {'speed': 4.7, 'deg': 270}   {'all': 90}  1.583694e+09   \n4  {'speed': 2.57, 'deg': 206}  {'all': 100}  1.583694e+09   \n\n                                                 sys  timezone         id  \\\n0  {'type': 1, 'id': 7649, 'country': 'US', 'sunr...  -28800.0  5880054.0   \n1  {'country': 'PH', 'sunrise': 1583704795, 'suns...   28800.0  1710655.0   \n2  {'type': 1, 'id': 4588, 'country': 'US', 'sunr...  -14400.0  5122534.0   \n3  {'type': 1, 'id': 9545, 'country': 'AU', 'sunr...   39600.0  2163355.0   \n4  {'type': 1, 'id': 6960, 'country': 'TR', 'sunr...   10800.0   738167.0   \n\n         name rain snow  \n0      Barrow  NaN  NaN  \n1  Intampilan  NaN  NaN  \n2   Jamestown  NaN  NaN  \n3      Hobart  NaN  NaN  \n4  Vezirköprü  NaN  NaN  "
     },
     "execution_count": 20,
     "metadata": {},
     "output_type": "execute_result"
    }
   ],
   "source": [
    "#Create a dataframe of the API data\n",
    "df = pd.DataFrame(responses)\n",
    "#drop rows with no data\n",
    "index_drop = df.loc[df['cod'] == '404'].index.to_list()\n",
    "df = df.drop(index_drop)\n",
    "df = df.reset_index(drop=True)\n",
    "df.head()"
   ]
  },
  {
   "cell_type": "code",
   "execution_count": 21,
   "metadata": {},
   "outputs": [
    {
     "data": {
      "text/plain": "['US',\n 'PH',\n 'US',\n 'AU',\n 'TR',\n 'CA',\n 'RU',\n 'EC',\n 'EG',\n 'PF',\n 'PG',\n 'PF',\n 'PK',\n 'AR',\n 'ID',\n 'CK',\n 'FR',\n 'UA',\n 'KH',\n 'US',\n 'TO',\n 'RU',\n 'ZA',\n 'ZA',\n 'UY',\n 'RU',\n 'AR',\n 'NZ',\n 'AO',\n 'RU',\n 'AR',\n 'AU',\n 'BR',\n 'NO',\n 'RU',\n 'AU',\n 'CN',\n 'PT',\n 'AU',\n 'GL',\n 'US',\n 'RU',\n 'RU',\n 'NZ',\n 'AU',\n 'GL',\n 'CN',\n 'US',\n 'AU',\n 'AU',\n 'RU',\n 'MV',\n 'BR',\n 'CN',\n 'SY',\n 'RU',\n 'MU',\n 'CL',\n 'PH',\n 'US',\n 'BR',\n 'ID',\n 'CL',\n 'AU',\n 'CA',\n 'BR',\n 'RU',\n 'PT',\n 'US',\n 'BR',\n 'ZA',\n 'RU',\n 'RU',\n 'GL',\n 'CL',\n 'BR',\n 'BR',\n 'BR',\n 'US',\n 'VE',\n 'NZ',\n 'ES',\n 'MZ',\n 'NA',\n 'RU',\n 'US',\n 'ZA',\n 'CA',\n 'IN',\n 'AU',\n 'MY',\n 'JP',\n 'GD',\n 'US',\n 'RU',\n 'US',\n 'CN',\n 'KG',\n 'MX',\n 'IT',\n 'SJ',\n 'CN',\n 'MX',\n 'CD',\n 'ZA',\n 'OM',\n 'SB',\n 'IN',\n 'KZ',\n 'US',\n 'CN',\n 'NA',\n 'BJ',\n 'CV',\n 'ET',\n 'AR',\n 'NA',\n 'US',\n 'IR',\n 'US',\n 'AR',\n 'CA',\n 'CL',\n 'NC',\n 'US',\n 'ZA',\n 'RU',\n 'KI',\n 'CA',\n 'IN',\n 'MZ',\n 'CA',\n 'BR',\n 'RU',\n 'RU',\n 'AU',\n 'PT',\n 'GL',\n 'GN',\n 'ID',\n 'NO',\n 'AU',\n 'PG',\n 'IN',\n 'PG',\n 'VU',\n 'AU',\n 'RU',\n 'CN',\n 'AU',\n 'PH',\n 'YE',\n 'PG',\n 'US',\n 'JP',\n 'AU',\n 'RU',\n 'RU',\n 'US',\n 'CL',\n 'NO',\n 'MX',\n 'LY',\n 'CA',\n 'CA',\n 'SA',\n 'ML',\n 'RU',\n 'LK',\n 'ID',\n 'SL',\n 'CI',\n 'IN',\n 'NA',\n 'IR',\n 'NZ',\n 'AU',\n 'MU',\n 'EC',\n 'BR',\n 'PT',\n 'CN',\n 'BR',\n 'CN',\n 'AU',\n 'AO',\n 'RU',\n 'AZ',\n 'NZ',\n 'BR',\n 'CU',\n 'CL',\n 'US',\n 'US',\n 'US',\n 'CA',\n 'MX',\n 'FR',\n 'ID',\n 'RU',\n 'RU',\n 'LA',\n 'AU',\n 'PE',\n 'BY',\n 'ID',\n 'BS',\n 'RU',\n 'CA',\n 'MR',\n 'GL',\n 'SR',\n 'KZ',\n 'TD',\n 'US',\n 'CN',\n 'RU',\n 'SB',\n 'PH',\n 'MX',\n 'CN',\n 'AO',\n 'AU',\n 'NC',\n 'JP',\n 'CA',\n 'MG',\n 'UZ',\n 'CI',\n 'MG',\n 'MX',\n 'JP',\n 'PH',\n 'AU',\n 'IL',\n 'ET',\n 'FR',\n 'RE',\n 'DO',\n 'IN',\n 'AW',\n 'NZ',\n 'US',\n 'GB',\n 'GL',\n 'IS',\n 'FR',\n 'MU',\n 'ZM',\n 'CA',\n 'BR',\n 'MZ',\n 'US',\n 'US',\n 'TL',\n 'ID',\n 'BD',\n 'US',\n 'US',\n 'PF',\n 'CN',\n 'PL',\n 'RU',\n 'US',\n 'BR',\n 'US',\n 'CA',\n 'CN',\n 'UA',\n 'BB',\n 'TZ',\n 'ES',\n 'IN',\n 'ID',\n 'CN',\n 'MX',\n 'CA',\n 'RU',\n 'IS',\n 'PE',\n 'RU',\n 'CL',\n 'RU',\n 'US',\n 'RU',\n 'FR',\n 'NO',\n 'NG',\n 'US',\n 'CD',\n 'HK',\n 'UA',\n 'IN',\n 'AR',\n 'AU',\n 'RU',\n 'RU',\n 'RU',\n 'DZ',\n 'BR',\n 'RU',\n 'TR',\n 'NO',\n 'RU',\n 'BY',\n 'ID',\n 'ID',\n 'MU',\n 'CA',\n 'NZ',\n 'US',\n 'BR',\n 'ID',\n 'EG',\n 'CN',\n 'GB',\n 'UA',\n 'PE',\n 'IN',\n 'TH',\n 'US',\n 'NO',\n 'NC',\n 'RU',\n 'US',\n 'CL',\n 'ZM',\n 'HR',\n 'GR',\n 'US',\n 'GL',\n 'ID',\n 'CN',\n 'IN',\n 'BR',\n 'PL',\n 'AR',\n 'AU',\n 'LK',\n 'RU',\n 'BR',\n 'RU',\n 'TR',\n 'PE',\n 'JP',\n 'NC',\n 'BR',\n 'PE',\n 'ID',\n 'MX',\n 'MX',\n 'LR',\n 'RU',\n 'AR',\n 'BR',\n 'SA',\n 'FR',\n 'CN',\n 'EG',\n 'US',\n 'IN',\n 'GP',\n 'CL',\n 'PE',\n 'BR',\n 'CA',\n 'NO',\n 'SO',\n 'RU',\n 'NG',\n 'KZ',\n 'NZ',\n 'LR',\n 'US',\n 'PT',\n 'ID',\n 'PG',\n 'AR',\n 'NA',\n 'CI',\n 'RU',\n 'AU',\n 'MA',\n 'BO',\n 'NO',\n 'AZ',\n 'CA',\n 'PK',\n 'RU',\n 'US',\n 'PG',\n 'FO',\n 'VU',\n 'GT',\n 'ML',\n 'PA',\n 'KY',\n 'ZA',\n 'IN',\n 'IR',\n 'PY',\n 'AU',\n 'PG',\n 'RU',\n 'SD',\n 'GQ',\n 'IN',\n 'AE',\n 'BR',\n 'NP',\n 'KZ',\n 'US',\n 'RU',\n 'BR',\n 'RU',\n 'BR',\n 'MZ',\n 'BR',\n 'RO',\n 'CN',\n 'CA',\n 'BR',\n 'NO',\n 'EC',\n 'RU',\n 'RU',\n 'BR',\n 'US',\n 'CN',\n 'IN',\n 'RU',\n 'RU',\n 'RU',\n 'IT',\n 'QA',\n 'CR',\n 'GB',\n 'UA',\n 'RU',\n 'PG',\n 'SS',\n 'CL',\n 'MX',\n 'AU',\n 'ID',\n 'IN',\n 'ES',\n 'BR',\n 'SO',\n 'RU',\n 'CA',\n 'GM',\n 'VN',\n 'CA',\n 'CA',\n 'LY',\n 'MG',\n 'ID',\n 'BR',\n 'BR',\n 'PT',\n 'ES',\n 'RU',\n 'IS',\n 'GF',\n 'NC',\n 'RU',\n 'CD',\n 'CA',\n 'VN',\n 'AR',\n 'RU',\n 'AU',\n 'CD',\n 'NI',\n 'US',\n 'RU',\n 'RU',\n 'JP',\n 'CA',\n 'RU',\n 'PF',\n 'JP',\n 'CN',\n 'RU',\n 'JP',\n 'MX',\n 'VG',\n 'SS',\n 'AR',\n 'NO',\n 'CD',\n 'US',\n 'IN',\n 'NZ',\n 'CN',\n 'BR',\n 'CA',\n 'TD',\n 'US',\n 'US',\n 'CA',\n 'RU',\n 'CA',\n 'BF',\n 'ET',\n 'AO',\n 'NE',\n 'KZ',\n 'IS',\n 'AU',\n 'RU',\n 'BO',\n 'PH',\n 'ZA',\n 'IR',\n 'PH',\n 'MA',\n 'ZA',\n 'US',\n 'ID',\n 'PH',\n 'MZ',\n 'BR',\n 'NO',\n 'FI',\n 'US',\n 'IS',\n 'CD',\n 'BR',\n 'RU',\n 'GB',\n 'IN',\n 'RU',\n 'BR',\n 'US',\n 'SO',\n 'ID',\n 'AI',\n 'ID',\n 'RU',\n 'FR',\n 'FR',\n 'MX',\n 'BT',\n 'FO',\n 'JP',\n 'IR',\n 'AR',\n 'US',\n 'BR',\n 'SE',\n 'CI',\n 'US',\n 'GB']"
     },
     "execution_count": 21,
     "metadata": {},
     "output_type": "execute_result"
    }
   ],
   "source": [
    "#Create a list out of the countries for the cities\n",
    "countries = []\n",
    "sys_data = dict(df['sys'])\n",
    "city_count = 0\n",
    "for city in sys_data:\n",
    "    countries.append(sys_data[city_count]['country'])\n",
    "    city_count += 1\n",
    "countries"
   ]
  },
  {
   "cell_type": "code",
   "execution_count": 22,
   "metadata": {},
   "outputs": [
    {
     "data": {
      "text/plain": "array(['Barrow', 'Intampilan', 'Jamestown', 'Hobart', 'Vezirköprü',\n       'Thompson', 'Provideniya', 'Puerto Ayora', 'Abnūb', 'Rikitea',\n       'Daru', 'Atuona', 'Sīta Road', 'Necochea', 'Ambon City', 'Avarua',\n       'Paris', 'Odesa', 'Sisophon', 'Half Moon Bay', 'Vaini', 'Tiksi',\n       'Port Alfred', 'Hermanus', 'Chui', 'Leningradskiy',\n       'Mar del Plata', 'Mataura', 'Luau', 'Palana', 'Ushuaia',\n       'Innisfail', 'Itaituba', 'Karasjok', 'Cherskiy', 'Burnie',\n       'Xiaoweizhai', 'Ribeira Grande', 'Port Keats', 'Qaanaaq', 'Kapaa',\n       'Iskateley', 'Polyarny', 'Bluff', 'Busselton', 'Ilulissat',\n       'Jiayuguan City', 'Avera', 'Alyangula', 'New Norfolk',\n       'Nikolskoye', 'Hithadhoo', 'Itarema', 'Hangu', 'Manbij',\n       'Novosheshminsk', 'Bambous Virieux', 'Ancud', 'Dingle', 'Eureka',\n       'Arraial do Cabo', 'Padang', 'Lebu', 'Codrington', 'Yellowknife',\n       'Ipixuna', 'Pevek', 'Vila Franca do Campo', 'Albany', 'Rio Branco',\n       'Cape Town', 'Okhotsk', 'Lavrentiya', 'Tasiilaq', 'Punta Arenas',\n       'Tutóia', 'Castro', 'Caravelas', 'Kahului', 'San Cristobal',\n       'Tuatapere', 'Peñarroya-Pueblonuevo', 'Tete', 'Tsumeb',\n       'Chokurdakh', 'Hamilton', 'Bredasdorp', 'Port Hardy', 'Naīgarhi',\n       'Victoria Point', 'George Town', 'Hasaki', \"St. George's\",\n       'Saint Paul Harbor', 'Ostrovnoy', 'Westport', 'Altay', 'Isfana',\n       'Todos Santos', 'Alghero', 'Longyearbyen', 'Huangmei',\n       'Puerto Escondido', 'Kisangani', 'Port Elizabeth', 'Salalah',\n       'Honiara', 'Hyderabad', 'Aktau', 'Lexington', 'Tongzi',\n       'Maltahöhe', 'Porto-Novo', 'São Filipe', 'Dembī Dolo', 'San Juan',\n       'Lüderitz', 'Hilo', 'Qeshm', 'Ketchikan', 'San Rafael', 'Macklin',\n       'Vallenar', 'Koumac', 'Saint George', 'East London', 'Klyuchi',\n       'Butaritari', 'Torbay', 'Shivrājpur', 'Mocuba', 'Tuktoyaktuk',\n       'Cidreira', \"Severo-Kuril'sk\", 'Khatanga', 'Mount Gambier',\n       'Ponta do Sol', 'Nanortalik', 'Kankan', 'Nabire', 'Sørland',\n       'Geraldton', 'Namatanai', 'Port Blair', 'Lorengau', 'Luganville',\n       'Karratha', 'Sindor', 'Dongsheng', 'Carnarvon', 'Balabac',\n       'Muhafazat Lahij', 'Rabaul', 'Makakilo City', 'Katsuura',\n       'Esperance', 'Pallasovka', 'Dedovichi', 'Fortuna', 'Coyhaique',\n       'Raudeberg', 'San Quintín', 'Awjilah', 'Chapais', 'Norman Wells',\n       'Faya', 'Kita', 'Dvinskoy', 'Weligama', 'Kupang', 'Bonthe',\n       'Odienné', 'Gudāri', 'Walvis Bay', 'Khāsh', 'Ahipara', 'Mareeba',\n       'Cap Malheureux', 'Manta', 'Maceió', 'Lagoa', 'Aksu',\n       'Alto Piquiri', 'Yatou', 'Port Macquarie', 'Lucapa',\n       'Beringovskiy', 'Neftçala', 'Te Anau', 'Porto de Moz',\n       'Manzanillo', 'Taltal', 'Amarillo', 'Gardendale', 'Bethel',\n       'Carberry', 'Coahuayana Viejo', 'Gueugnon', 'Japura', 'Yarensk',\n       'Yar-Sale', 'Luang Prabang', 'Port Lincoln', 'Hualmay', 'Mazyr',\n       'Bengkulu', 'High Rock', 'Arbagar', 'Hay River', 'Adrar',\n       'Upernavik', 'Nieuw Nickerie', 'Zhangaözen', 'Biltine',\n       'Elizabeth City', 'Panzhihua', 'Pronsk', 'Buala', 'Tabuk',\n       'Cabo San Lucas', 'Changji', 'Luanda', 'Mackay', 'Vao', 'Nemuro',\n       'Haines Junction', 'Sambava', 'Yangi Marg`ilon', 'Tabou',\n       'Ambilobe', 'San Patricio', 'Nirasaki', 'City of San Pedro',\n       'Seddon', 'Kiryat Gat', 'Were Īlu',\n       'Arrondissement de Lons-le-Saunier', 'Saint-Philippe', 'Samaná',\n       'Ratnagiri', 'Oranjestad', 'Kaitangata', 'Deming', 'Atherton',\n       'Paamiut', 'Vestmannaeyjar', 'Saint-François', 'Souillac',\n       'Luwingu', 'Iqaluit', 'Guarapuava', 'Inhambane', 'Morgan City',\n       'Bismarck', 'Airai', 'Labuhan', 'Sherpur', 'Rapid Valley', 'Evans',\n       'Faanui', 'Shache', 'Połczyn-Zdrój', 'Revda', 'Havelock', 'Marabá',\n       'Portland', 'Melfort', 'Hailar', 'Horodyshche', 'Bathsheba',\n       'Micheweni', 'Santa Cruz de Tenerife', 'Basavakalyan', 'Biak',\n       'Korla', 'Pochutla', 'Halifax', 'Toora-Khem', 'Hofn', 'Lagunas',\n       'Izhma', 'Antofagasta', 'Saskylakh', 'Merritt Island', 'Zeya',\n       'Loudéac', 'Gravdal', 'Yola', 'Zachary', 'Mweka', 'Hong Kong',\n       'Zaozyornoye', 'Kharsia', 'Rawson', 'Kununurra', 'Svobodnyy',\n       'Dikson', 'Kingisepp', 'Constantine', 'Carutapera',\n       'Severo-Yeniseyskiy', 'Akçaabat', 'Andenes', 'Kargasok',\n       'Forsytheganj', 'Martapura', 'Sembakung', 'Mahébourg', 'Osoyoos',\n       'Christchurch', 'Douglas', 'Rodrigues Alves', 'Ternate', 'Aswān',\n       'Kumul', 'Livingston', 'Lyubech', 'Chicama', 'Dohad',\n       'Mae Hong Son', 'Lavaca', 'Honningsvåg', 'Tadine',\n       'Yerofey Pavlovich', 'Saint Anthony', 'Coquimbo', 'Chinsali',\n       'Korčula', 'Lárdos', 'South Venice', 'Narsaq', 'Sibolga',\n       'Zhaotong', 'Pīpār', 'Nova Viçosa', 'Szczytno', 'Trelew',\n       'Alice Springs', 'Matara', 'Gay', 'Santa Catarina', 'Salym',\n       'Karaman Province', 'Camaná', 'Naze', 'Poum', 'Alta Floresta',\n       'La Unión', 'Galesong', 'Ixtapa', 'Acapulco de Juárez', 'Gbarnga',\n       'Anadyr', 'Comodoro Rivadavia', 'Paragominas', 'Umluj', 'Mauguio',\n       'Zaoyang', 'Suez', 'Great Falls', 'Along', 'Sainte-Rose',\n       'Valparaíso', 'Pisco', 'Esmeraldas', 'Clyde River', 'Tromsø',\n       'Mogadishu', 'Alnashi', 'Lano', 'Fort-Shevchenko', 'Dunedin',\n       'Monrovia', 'Grants Pass', 'Ponta Delgada', 'Payakumbuh',\n       'Kavieng', 'Rivadavia', 'Oranjemund', 'Bongouanou', \"Tegul'det\",\n       'Port Hedland', 'Tiznit Province', 'Santa Cruz de la Sierra',\n       'Storforshei', 'Astara', 'Bonavista', 'Doaba', 'Bezhetsk',\n       'Morehead', 'Vanimo', 'Klaksvík', 'Isangel', 'Champerico',\n       'Bafoulabé', 'Colón', 'Bodden Town', 'Saldanha', 'Mūlanūr',\n       'Tabas', 'Pozo Colorado', 'Victor Harbor', 'Kieta', \"Parabel'\",\n       'Umm Kaddadah', 'Mbini', 'Bānkura', 'Abu Dhabi', 'Mauá',\n       'Khanbari', 'Beyneu', 'Sitka', 'Zverinogolovskoye', 'Amapá',\n       'Kargat', 'Jacareacanga', 'Quelimane', 'Dom Pedrito', 'Roşieşti',\n       'Huanren', 'Havre-St-Pierre', 'Alenquer', 'Straumen',\n       'La Libertad', 'Udachny', 'Nikolayevka', 'Acaraú', 'Durham',\n       'Zhuhai', 'Āmlāgora', 'Evensk', 'Srednekolymsk', 'Tommot',\n       'Atessa', 'Umm Bāb', 'Parrita', 'Margate', 'Mykolayiv', 'Zyryanka',\n       'Kimbe', 'Maridi', 'Machalí', 'Guerrero Negro', 'Mount Isa',\n       'Atambua', 'Barpathār', 'Alcaudete', 'São João da Barra', 'Eyl',\n       'Vostok', 'Chilliwack', 'Nioro', 'Kon Tum', 'Hinton',\n       'Prince Rupert', 'Jalu', 'Morondava', 'Pemangkat',\n       'Bela Vista de Goiás', 'Cabedelo', 'Praia da Vitória', 'La Rioja',\n       'Poronaysk', 'Grindavik', 'Grand-Santi', 'Noumea', 'Kungurtug',\n       'Kasongo', 'Cap-aux-Meules', 'Ca Mau', 'Río Cuarto', 'Talnakh',\n       'Byron Bay', 'Lodja', 'San Juan del Sur', 'Griffith', 'Kodinsk',\n       'Russkiy', 'Iwanai', 'Saint John', 'Zhigansk', 'Fare', 'Shimoda',\n       'Guilin', 'Mnogovershinnyy', 'Nishihara', 'Bucerías', 'Road Town',\n       'Wau', 'Goya', 'Berlevåg', 'Manono', 'Bozeman', 'Kavaratti',\n       'Ngunguru', 'Yining', 'Jutaí', 'Banff', 'Am Timan',\n       'Fredericksburg', 'Nome', 'Goderich', 'Leshukonskoye',\n       'Saint-Augustin', 'Kaya', 'Burē', 'Mossamedes', 'Tahoua', 'Emba',\n       'Olafsvik', 'Yulara', 'Tsimmerbude', 'Potosí', 'San Policarpo',\n       'Kruisfontein', 'Esfarāyen', 'Maguling', 'Santa Cruz', 'Kuruman',\n       'Elko', 'Bontang', 'Limay', 'Pemba', 'Conceição do Araguaia',\n       'Vardø', 'Tornio', 'Dumas', 'Husavik', 'Kasongo-Lunda',\n       'Vila Velha', 'Tilichiki', 'Whitehaven', 'Tura',\n       'Petropavlovsk-Kamchatskiy', 'Guarujá', 'Lompoc', 'Oodweyne',\n       'Payo', 'The Valley', 'Manokwari', 'Vitim', 'Châteauroux',\n       'Arrondissement de Lannion', 'Tulum', 'Samdrup Jongkhar District',\n       'Vestmanna', 'Fukuechō', 'Meybod', 'Viedma', 'College', 'Tucuruí',\n       'Visby', 'Soubre', 'Mt. Pleasant', 'Brae'], dtype=object)"
     },
     "execution_count": 22,
     "metadata": {},
     "output_type": "execute_result"
    }
   ],
   "source": [
    "#Create a list of the city names\n",
    "names = df['name'].values\n",
    "names"
   ]
  },
  {
   "cell_type": "code",
   "execution_count": 23,
   "metadata": {},
   "outputs": [
    {
     "data": {
      "text/plain": "[90,\n 29,\n 1,\n 90,\n 100,\n 75,\n 47,\n 40,\n 0,\n 95,\n 95,\n 48,\n 0,\n 100,\n 100,\n 100,\n 97,\n 89,\n 0,\n 1,\n 75,\n 100,\n 80,\n 98,\n 0,\n 0,\n 86,\n 24,\n 81,\n 100,\n 40,\n 63,\n 90,\n 75,\n 88,\n 78,\n 82,\n 75,\n 100,\n 100,\n 75,\n 18,\n 75,\n 20,\n 1,\n 75,\n 100,\n 1,\n 90,\n 90,\n 6,\n 100,\n 100,\n 90,\n 0,\n 72,\n 75,\n 75,\n 58,\n 20,\n 20,\n 100,\n 12,\n 27,\n 90,\n 75,\n 0,\n 75,\n 1,\n 40,\n 20,\n 90,\n 0,\n 100,\n 20,\n 40,\n 22,\n 100,\n 40,\n 40,\n 81,\n 62,\n 0,\n 69,\n 100,\n 40,\n 99,\n 40,\n 0,\n 90,\n 20,\n 75,\n 20,\n 90,\n 100,\n 1,\n 21,\n 32,\n 90,\n 37,\n 75,\n 100,\n 5,\n 100,\n 20,\n 6,\n 75,\n 40,\n 0,\n 1,\n 84,\n 91,\n 20,\n 84,\n 85,\n 0,\n 29,\n 90,\n 0,\n 40,\n 0,\n 83,\n 0,\n 60,\n 90,\n 75,\n 100,\n 99,\n 90,\n 0,\n 17,\n 75,\n 0,\n 100,\n 38,\n 48,\n 40,\n 95,\n 76,\n 100,\n 90,\n 75,\n 100,\n 0,\n 100,\n 20,\n 0,\n 100,\n 100,\n 40,\n 4,\n 58,\n 95,\n 20,\n 75,\n 90,\n 6,\n 57,\n 1,\n 20,\n 75,\n 40,\n 81,\n 90,\n 20,\n 19,\n 31,\n 100,\n 89,\n 99,\n 15,\n 61,\n 16,\n 0,\n 0,\n 100,\n 76,\n 75,\n 40,\n 20,\n 45,\n 76,\n 0,\n 65,\n 90,\n 100,\n 0,\n 0,\n 82,\n 100,\n 90,\n 13,\n 90,\n 1,\n 1,\n 90,\n 75,\n 68,\n 85,\n 100,\n 99,\n 0,\n 98,\n 47,\n 94,\n 94,\n 75,\n 37,\n 75,\n 100,\n 100,\n 10,\n 0,\n 67,\n 1,\n 0,\n 100,\n 98,\n 1,\n 90,\n 0,\n 75,\n 90,\n 4,\n 85,\n 100,\n 100,\n 90,\n 52,\n 100,\n 75,\n 47,\n 20,\n 20,\n 0,\n 72,\n 20,\n 20,\n 90,\n 0,\n 40,\n 0,\n 90,\n 20,\n 0,\n 33,\n 68,\n 75,\n 19,\n 90,\n 9,\n 0,\n 40,\n 90,\n 100,\n 94,\n 7,\n 75,\n 1,\n 78,\n 100,\n 54,\n 90,\n 1,\n 75,\n 75,\n 90,\n 31,\n 100,\n 20,\n 78,\n 70,\n 39,\n 58,\n 0,\n 40,\n 40,\n 100,\n 76,\n 2,\n 75,\n 22,\n 89,\n 75,\n 0,\n 63,\n 75,\n 22,\n 40,\n 69,\n 40,\n 98,\n 0,\n 0,\n 50,\n 69,\n 78,\n 0,\n 75,\n 60,\n 100,\n 0,\n 96,\n 99,\n 76,\n 77,\n 0,\n 75,\n 75,\n 81,\n 20,\n 75,\n 100,\n 0,\n 16,\n 21,\n 100,\n 20,\n 0,\n 0,\n 90,\n 40,\n 28,\n 2,\n 1,\n 0,\n 50,\n 40,\n 20,\n 40,\n 100,\n 77,\n 71,\n 0,\n 100,\n 75,\n 0,\n 0,\n 89,\n 100,\n 17,\n 100,\n 48,\n 16,\n 20,\n 77,\n 75,\n 64,\n 20,\n 75,\n 5,\n 77,\n 20,\n 0,\n 72,\n 0,\n 78,\n 100,\n 0,\n 40,\n 100,\n 20,\n 0,\n 40,\n 40,\n 90,\n 100,\n 0,\n 100,\n 18,\n 0,\n 0,\n 64,\n 20,\n 75,\n 100,\n 94,\n 17,\n 11,\n 96,\n 100,\n 41,\n 3,\n 40,\n 75,\n 54,\n 100,\n 70,\n 99,\n 1,\n 100,\n 100,\n 20,\n 20,\n 61,\n 40,\n 75,\n 50,\n 5,\n 82,\n 48,\n 20,\n 100,\n 99,\n 100,\n 0,\n 20,\n 0,\n 75,\n 32,\n 0,\n 90,\n 95,\n 94,\n 100,\n 100,\n 75,\n 0,\n 100,\n 100,\n 90,\n 40,\n 100,\n 40,\n 0,\n 69,\n 100,\n 1,\n 75,\n 0,\n 100,\n 100,\n 86,\n 20,\n 1,\n 20,\n 98,\n 98,\n 100,\n 100,\n 76,\n 0,\n 100,\n 0,\n 100,\n 59,\n 20,\n 20,\n 1,\n 100,\n 75,\n 69,\n 13,\n 9,\n 1,\n 81,\n 96,\n 79,\n 40,\n 38,\n 40,\n 75,\n 100,\n 22,\n 47,\n 0,\n 92,\n 94,\n 75,\n 88,\n 2,\n 0,\n 90,\n 100,\n 20,\n 1,\n 100,\n 90,\n 43,\n 75,\n 96,\n 86,\n 68,\n 90,\n 100,\n 20,\n 75,\n 40,\n 100,\n 0,\n 0,\n 95,\n 90,\n 57,\n 95,\n 100,\n 96,\n 21,\n 17,\n 1,\n 75,\n 0,\n 92,\n 25,\n 0,\n 91,\n 90,\n 0,\n 98,\n 100,\n 7,\n 0,\n 0,\n 39,\n 100,\n 0,\n 53,\n 76,\n 1,\n 75,\n 100,\n 20,\n 40,\n 94,\n 75,\n 90,\n 40,\n 90,\n 34,\n 75,\n 0,\n 47,\n 7,\n 82,\n 75,\n 0,\n 10,\n 97,\n 20,\n 100,\n 100,\n 100,\n 18,\n 40,\n 98,\n 100,\n 75,\n 75,\n 25,\n 90,\n 98,\n 81,\n 68,\n 1,\n 62]"
     },
     "execution_count": 23,
     "metadata": {},
     "output_type": "execute_result"
    }
   ],
   "source": [
    "#Create a list out of the cloudiness for the cities\n",
    "cloudiness = []\n",
    "cloud_data = dict(df['clouds'])\n",
    "city_count = 0\n",
    "for city in cloud_data:\n",
    "    cloudiness.append(cloud_data[city_count]['all'])\n",
    "    city_count += 1\n",
    "cloudiness"
   ]
  },
  {
   "cell_type": "code",
   "execution_count": 24,
   "metadata": {},
   "outputs": [
    {
     "data": {
      "text/plain": "array([1.58369450e+09, 1.58369450e+09, 1.58369450e+09, 1.58369450e+09,\n       1.58369450e+09, 1.58369450e+09, 1.58369450e+09, 1.58369450e+09,\n       1.58369450e+09, 1.58369450e+09, 1.58369450e+09, 1.58369450e+09,\n       1.58369448e+09, 1.58369450e+09, 1.58369450e+09, 1.58369450e+09,\n       1.58369427e+09, 1.58369430e+09, 1.58369442e+09, 1.58369450e+09,\n       1.58369450e+09, 1.58369450e+09, 1.58369450e+09, 1.58369450e+09,\n       1.58369450e+09, 1.58369450e+09, 1.58369450e+09, 1.58369450e+09,\n       1.58369425e+09, 1.58369450e+09, 1.58369450e+09, 1.58369450e+09,\n       1.58369450e+09, 1.58369450e+09, 1.58369450e+09, 1.58369450e+09,\n       1.58369450e+09, 1.58369450e+09, 1.58369450e+09, 1.58369450e+09,\n       1.58369450e+09, 1.58369450e+09, 1.58369450e+09, 1.58369450e+09,\n       1.58369450e+09, 1.58369450e+09, 1.58369450e+09, 1.58369450e+09,\n       1.58369450e+09, 1.58369450e+09, 1.58369450e+09, 1.58369450e+09,\n       1.58369450e+09, 1.58369450e+09, 1.58369467e+09, 1.58369467e+09,\n       1.58369467e+09, 1.58369467e+09, 1.58369467e+09, 1.58369446e+09,\n       1.58369456e+09, 1.58369438e+09, 1.58369467e+09, 1.58369467e+09,\n       1.58369467e+09, 1.58369467e+09, 1.58369467e+09, 1.58369467e+09,\n       1.58369454e+09, 1.58369459e+09, 1.58369453e+09, 1.58369467e+09,\n       1.58369467e+09, 1.58369467e+09, 1.58369467e+09, 1.58369466e+09,\n       1.58369467e+09, 1.58369467e+09, 1.58369453e+09, 1.58369467e+09,\n       1.58369467e+09, 1.58369467e+09, 1.58369467e+09, 1.58369467e+09,\n       1.58369467e+09, 1.58369467e+09, 1.58369467e+09, 1.58369467e+09,\n       1.58369467e+09, 1.58369467e+09, 1.58369441e+09, 1.58369467e+09,\n       1.58369452e+09, 1.58369467e+09, 1.58369467e+09, 1.58369445e+09,\n       1.58369468e+09, 1.58369468e+09, 1.58369468e+09, 1.58369468e+09,\n       1.58369468e+09, 1.58369468e+09, 1.58369468e+09, 1.58369468e+09,\n       1.58369454e+09, 1.58369468e+09, 1.58369462e+09, 1.58369460e+09,\n       1.58369468e+09, 1.58369468e+09, 1.58369468e+09, 1.58369474e+09,\n       1.58369474e+09, 1.58369474e+09, 1.58369474e+09, 1.58369474e+09,\n       1.58369474e+09, 1.58369474e+09, 1.58369469e+09, 1.58369474e+09,\n       1.58369474e+09, 1.58369474e+09, 1.58369474e+09, 1.58369474e+09,\n       1.58369474e+09, 1.58369474e+09, 1.58369474e+09, 1.58369474e+09,\n       1.58369474e+09, 1.58369474e+09, 1.58369474e+09, 1.58369474e+09,\n       1.58369474e+09, 1.58369474e+09, 1.58369474e+09, 1.58369474e+09,\n       1.58369474e+09, 1.58369474e+09, 1.58369474e+09, 1.58369474e+09,\n       1.58369474e+09, 1.58369474e+09, 1.58369474e+09, 1.58369474e+09,\n       1.58369474e+09, 1.58369474e+09, 1.58369474e+09, 1.58369474e+09,\n       1.58369474e+09, 1.58369474e+09, 1.58369474e+09, 1.58369474e+09,\n       1.58369474e+09, 1.58369474e+09, 1.58369474e+09, 1.58369474e+09,\n       1.58369474e+09, 1.58369474e+09, 1.58369474e+09, 1.58369474e+09,\n       1.58369474e+09, 1.58369474e+09, 1.58369474e+09, 1.58369474e+09,\n       1.58369474e+09, 1.58369474e+09, 1.58369480e+09, 1.58369480e+09,\n       1.58369480e+09, 1.58369480e+09, 1.58369480e+09, 1.58369480e+09,\n       1.58369480e+09, 1.58369480e+09, 1.58369480e+09, 1.58369480e+09,\n       1.58369480e+09, 1.58369480e+09, 1.58369480e+09, 1.58369480e+09,\n       1.58369480e+09, 1.58369480e+09, 1.58369480e+09, 1.58369480e+09,\n       1.58369480e+09, 1.58369480e+09, 1.58369480e+09, 1.58369480e+09,\n       1.58369480e+09, 1.58369480e+09, 1.58369480e+09, 1.58369480e+09,\n       1.58369481e+09, 1.58369481e+09, 1.58369459e+09, 1.58369481e+09,\n       1.58369481e+09, 1.58369481e+09, 1.58369481e+09, 1.58369481e+09,\n       1.58369481e+09, 1.58369481e+09, 1.58369481e+09, 1.58369481e+09,\n       1.58369481e+09, 1.58369481e+09, 1.58369481e+09, 1.58369481e+09,\n       1.58369481e+09, 1.58369481e+09, 1.58369481e+09, 1.58369481e+09,\n       1.58369481e+09, 1.58369481e+09, 1.58369479e+09, 1.58369481e+09,\n       1.58369481e+09, 1.58369481e+09, 1.58369481e+09, 1.58369481e+09,\n       1.58369481e+09, 1.58369470e+09, 1.58369481e+09, 1.58369481e+09,\n       1.58369485e+09, 1.58369485e+09, 1.58369485e+09, 1.58369485e+09,\n       1.58369485e+09, 1.58369485e+09, 1.58369485e+09, 1.58369485e+09,\n       1.58369485e+09, 1.58369485e+09, 1.58369485e+09, 1.58369485e+09,\n       1.58369485e+09, 1.58369485e+09, 1.58369485e+09, 1.58369485e+09,\n       1.58369485e+09, 1.58369485e+09, 1.58369485e+09, 1.58369485e+09,\n       1.58369485e+09, 1.58369485e+09, 1.58369485e+09, 1.58369485e+09,\n       1.58369485e+09, 1.58369485e+09, 1.58369485e+09, 1.58369485e+09,\n       1.58369485e+09, 1.58369468e+09, 1.58369485e+09, 1.58369485e+09,\n       1.58369485e+09, 1.58369485e+09, 1.58369485e+09, 1.58369485e+09,\n       1.58369485e+09, 1.58369485e+09, 1.58369485e+09, 1.58369485e+09,\n       1.58369485e+09, 1.58369465e+09, 1.58369485e+09, 1.58369485e+09,\n       1.58369485e+09, 1.58369485e+09, 1.58369485e+09, 1.58369485e+09,\n       1.58369485e+09, 1.58369485e+09, 1.58369486e+09, 1.58369486e+09,\n       1.58369486e+09, 1.58369486e+09, 1.58369486e+09, 1.58369491e+09,\n       1.58369491e+09, 1.58369490e+09, 1.58369491e+09, 1.58369491e+09,\n       1.58369491e+09, 1.58369491e+09, 1.58369491e+09, 1.58369491e+09,\n       1.58369491e+09, 1.58369491e+09, 1.58369467e+09, 1.58369487e+09,\n       1.58369491e+09, 1.58369491e+09, 1.58369491e+09, 1.58369491e+09,\n       1.58369491e+09, 1.58369491e+09, 1.58369491e+09, 1.58369491e+09,\n       1.58369491e+09, 1.58369491e+09, 1.58369491e+09, 1.58369491e+09,\n       1.58369491e+09, 1.58369491e+09, 1.58369491e+09, 1.58369491e+09,\n       1.58369492e+09, 1.58369486e+09, 1.58369477e+09, 1.58369492e+09,\n       1.58369492e+09, 1.58369492e+09, 1.58369492e+09, 1.58369492e+09,\n       1.58369492e+09, 1.58369492e+09, 1.58369492e+09, 1.58369492e+09,\n       1.58369483e+09, 1.58369492e+09, 1.58369492e+09, 1.58369492e+09,\n       1.58369468e+09, 1.58369473e+09, 1.58369492e+09, 1.58369492e+09,\n       1.58369492e+09, 1.58369492e+09, 1.58369492e+09, 1.58369492e+09,\n       1.58369492e+09, 1.58369492e+09, 1.58369491e+09, 1.58369496e+09,\n       1.58369492e+09, 1.58369475e+09, 1.58369496e+09, 1.58369496e+09,\n       1.58369496e+09, 1.58369497e+09, 1.58369497e+09, 1.58369497e+09,\n       1.58369497e+09, 1.58369497e+09, 1.58369497e+09, 1.58369497e+09,\n       1.58369497e+09, 1.58369497e+09, 1.58369497e+09, 1.58369497e+09,\n       1.58369497e+09, 1.58369492e+09, 1.58369497e+09, 1.58369497e+09,\n       1.58369497e+09, 1.58369497e+09, 1.58369497e+09, 1.58369496e+09,\n       1.58369497e+09, 1.58369483e+09, 1.58369472e+09, 1.58369497e+09,\n       1.58369497e+09, 1.58369497e+09, 1.58369489e+09, 1.58369473e+09,\n       1.58369497e+09, 1.58369497e+09, 1.58369497e+09, 1.58369494e+09,\n       1.58369497e+09, 1.58369497e+09, 1.58369497e+09, 1.58369497e+09,\n       1.58369497e+09, 1.58369497e+09, 1.58369497e+09, 1.58369497e+09,\n       1.58369497e+09, 1.58369497e+09, 1.58369497e+09, 1.58369478e+09,\n       1.58369497e+09, 1.58369497e+09, 1.58369497e+09, 1.58369497e+09,\n       1.58369497e+09, 1.58369497e+09, 1.58369505e+09, 1.58369505e+09,\n       1.58369505e+09, 1.58369505e+09, 1.58369505e+09, 1.58369505e+09,\n       1.58369505e+09, 1.58369500e+09, 1.58369505e+09, 1.58369505e+09,\n       1.58369505e+09, 1.58369505e+09, 1.58369505e+09, 1.58369505e+09,\n       1.58369505e+09, 1.58369505e+09, 1.58369505e+09, 1.58369491e+09,\n       1.58369505e+09, 1.58369505e+09, 1.58369505e+09, 1.58369505e+09,\n       1.58369505e+09, 1.58369505e+09, 1.58369505e+09, 1.58369505e+09,\n       1.58369505e+09, 1.58369492e+09, 1.58369505e+09, 1.58369505e+09,\n       1.58369505e+09, 1.58369505e+09, 1.58369505e+09, 1.58369505e+09,\n       1.58369505e+09, 1.58369505e+09, 1.58369505e+09, 1.58369504e+09,\n       1.58369505e+09, 1.58369505e+09, 1.58369505e+09, 1.58369505e+09,\n       1.58369505e+09, 1.58369505e+09, 1.58369505e+09, 1.58369505e+09,\n       1.58369505e+09, 1.58369505e+09, 1.58369505e+09, 1.58369505e+09,\n       1.58369505e+09, 1.58369505e+09, 1.58369505e+09, 1.58369506e+09,\n       1.58369509e+09, 1.58369509e+09, 1.58369509e+09, 1.58369509e+09,\n       1.58369509e+09, 1.58369509e+09, 1.58369494e+09, 1.58369509e+09,\n       1.58369509e+09, 1.58369509e+09, 1.58369509e+09, 1.58369509e+09,\n       1.58369509e+09, 1.58369509e+09, 1.58369509e+09, 1.58369509e+09,\n       1.58369509e+09, 1.58369509e+09, 1.58369509e+09, 1.58369509e+09,\n       1.58369509e+09, 1.58369491e+09, 1.58369509e+09, 1.58369509e+09,\n       1.58369509e+09, 1.58369509e+09, 1.58369509e+09, 1.58369509e+09,\n       1.58369509e+09, 1.58369509e+09, 1.58369509e+09, 1.58369509e+09,\n       1.58369509e+09, 1.58369509e+09, 1.58369509e+09, 1.58369509e+09,\n       1.58369509e+09, 1.58369509e+09, 1.58369509e+09, 1.58369509e+09,\n       1.58369509e+09, 1.58369509e+09, 1.58369509e+09, 1.58369479e+09,\n       1.58369509e+09, 1.58369509e+09, 1.58369509e+09, 1.58369509e+09,\n       1.58369509e+09, 1.58369509e+09, 1.58369509e+09, 1.58369509e+09,\n       1.58369509e+09, 1.58369509e+09, 1.58369509e+09, 1.58369511e+09,\n       1.58369515e+09, 1.58369515e+09, 1.58369515e+09, 1.58369515e+09,\n       1.58369515e+09, 1.58369515e+09, 1.58369515e+09, 1.58369515e+09,\n       1.58369515e+09, 1.58369515e+09, 1.58369515e+09, 1.58369515e+09,\n       1.58369515e+09, 1.58369515e+09, 1.58369515e+09, 1.58369515e+09,\n       1.58369515e+09, 1.58369514e+09, 1.58369515e+09, 1.58369515e+09,\n       1.58369515e+09, 1.58369515e+09, 1.58369515e+09, 1.58369515e+09,\n       1.58369515e+09, 1.58369515e+09, 1.58369515e+09, 1.58369515e+09,\n       1.58369515e+09, 1.58369496e+09, 1.58369515e+09, 1.58369499e+09,\n       1.58369515e+09, 1.58369515e+09, 1.58369515e+09, 1.58369515e+09,\n       1.58369515e+09, 1.58369515e+09, 1.58369515e+09, 1.58369515e+09,\n       1.58369515e+09, 1.58369515e+09, 1.58369515e+09, 1.58369515e+09,\n       1.58369515e+09, 1.58369515e+09, 1.58369515e+09, 1.58369515e+09,\n       1.58369515e+09, 1.58369515e+09, 1.58369515e+09, 1.58369491e+09,\n       1.58369515e+09, 1.58369489e+09, 1.58369517e+09])"
     },
     "execution_count": 24,
     "metadata": {},
     "output_type": "execute_result"
    }
   ],
   "source": [
    "#Create a list of the dates\n",
    "dates_unix = df['dt'].values\n",
    "dates_unix"
   ]
  },
  {
   "cell_type": "code",
   "execution_count": 25,
   "metadata": {},
   "outputs": [
    {
     "name": "stdout",
     "output_type": "stream",
     "text": "[83, 93, 31, 76, 47, 43, 97, 70, 46, 85, 95, 66, 16, 56, 75, 100, 87, 93, 63, 62, 100, 96, 91, 91, 42, 79, 54, 98, 94, 93, 81, 94, 100, 97, 76, 88, 97, 88, 79, 98, 73, 95, 80, 98, 43, 42, 35, 29, 100, 76, 80, 65, 70, 100, 71, 84, 94, 67, 90, 76, 69, 95, 38, 75, 70, 94, 92, 93, 29, 59, 72, 91, 91, 67, 47, 70, 57, 80, 53, 48, 98, 42, 82, 48, 98, 21, 82, 93, 41, 78, 83, 87, 65, 86, 80, 17, 55, 80, 36, 76, 77, 96, 84, 98, 88, 57, 100, 88, 31, 31, 39, 22, 74, 78, 41, 22, 73, 60, 56, 92, 16, 90, 37, 91, 50, 94, 88, 75, 86, 23, 94, 75, 83, 84, 88, 100, 68, 84, 18, 92, 81, 88, 80, 76, 78, 100, 64, 95, 62, 88, 84, 67, 75, 47, 81, 87, 62, 84, 71, 45, 75, 67, 58, 43, 70, 77, 5, 95, 82, 75, 71, 23, 75, 68, 27, 100, 100, 94, 79, 66, 90, 60, 58, 84, 100, 94, 95, 73, 86, 94, 48, 73, 87, 29, 17, 66, 57, 76, 96, 96, 88, 43, 81, 51, 76, 91, 46, 83, 71, 7, 97, 69, 27, 13, 26, 54, 100, 84, 90, 47, 62, 83, 94, 79, 90, 95, 97, 61, 76, 91, 74, 96, 83, 87, 77, 63, 43, 78, 100, 89, 58, 91, 87, 87, 65, 67, 76, 94, 96, 75, 87, 76, 49, 100, 93, 92, 55, 69, 29, 74, 76, 10, 74, 22, 55, 70, 70, 88, 96, 54, 73, 42, 55, 74, 57, 52, 64, 92, 62, 42, 94, 57, 97, 35, 83, 81, 97, 10, 49, 82, 78, 61, 30, 61, 88, 82, 55, 90, 87, 83, 94, 93, 69, 96, 77, 87, 90, 94, 74, 82, 32, 70, 92, 21, 55, 86, 79, 78, 23, 42, 64, 74, 85, 88, 50, 68, 96, 46, 82, 43, 73, 89, 81, 28, 84, 80, 24, 77, 82, 63, 47, 93, 61, 62, 93, 80, 94, 47, 100, 65, 55, 82, 74, 38, 57, 40, 87, 93, 29, 85, 90, 48, 68, 30, 65, 74, 74, 80, 86, 11, 30, 97, 76, 75, 93, 97, 75, 27, 73, 59, 93, 74, 25, 49, 74, 100, 87, 77, 93, 14, 78, 87, 94, 46, 3, 41, 65, 63, 74, 11, 16, 63, 89, 95, 9, 76, 82, 83, 82, 54, 61, 80, 77, 61, 94, 92, 74, 23, 90, 95, 68, 66, 61, 79, 67, 82, 70, 22, 100, 41, 93, 89, 99, 66, 46, 50, 81, 87, 84, 97, 45, 35, 59, 53, 88, 80, 27, 74, 78, 97, 86, 7, 75, 80, 64, 58, 90, 89, 51, 58, 88, 67, 88, 68, 34, 88, 83, 96, 68, 85, 34, 52, 83, 98, 55, 41, 93, 94, 87, 40, 98, 72, 86, 100, 95, 88, 65, 88, 14, 13, 77, 93, 86, 68, 78, 98, 47, 78, 12, 15, 91, 57, 92, 75, 7, 34, 88, 14, 61, 77, 31, 77, 38, 83, 82, 69, 84, 11, 25, 57, 84, 88, 83, 83, 74, 96, 87, 79, 88, 78, 91, 92, 61, 66, 69, 54, 40, 90, 54, 89, 93, 87, 81, 47, 80, 92, 81, 20, 33, 78, 67, 70, 81, 38, 93]\n[-14.8, 74.1, 55.4, 52, 55.4, -7.6, -9.24, 86, 71.6, 77.88, 76.44, 81.3, 68.7, 75.99, 82.02, 75.2, 46.99, 46.4, 82.02, 57.99, 69.8, -21.12, 69.01, 64.99, 86.7, -16.44, 78.8, 52, 70.32, 6.96, 48.2, 74.64, 77, 32, -7.44, 57.99, 59.52, 64.4, 80.94, -20.04, 71.6, 17.04, 30.2, 52, 66.99, 8.6, 20.28, 62.01, 78.8, 52, 30.2, 83.46, 85.44, 41, 51.8, 32.52, 77, 60.8, 75, 54, 84.2, 68.88, 69.24, 60.42, -5.01, 77, -13.38, 66, 55.99, 89.6, 64.99, 0.3, -12.3, 17.6, 59, 89.6, 74.64, 79.86, 75.2, 87.8, 52, 66.2, 73.38, 73.56, -5.64, 62.6, 66.2, 37.4, 67.08, 73.99, 86, 48.2, 82.4, 30.2, 24.6, 57.99, -3.48, 33.8, 82, 53.6, 5, 58.98, 86, 70.14, 68, 75.2, 77, 75.99, 33.8, 63, 61.32, 80.94, 86, 71.94, 78.24, 95.16, 69.8, 73.4, 71.6, 33.8, 84.9, 3, 77.88, 73.92, 57.2, 71.6, 17.58, 84.36, 30.2, 69.24, 73.56, -20.2, 75, 17.58, -31.74, 46.4, 64.99, 24.42, 95.34, 70.86, 42.8, 71.6, 82.38, 80.04, 83.28, 75.2, 87.42, 28.74, 28.92, 73.4, 78.42, 74.46, 82.74, 75.2, 51.8, 59, 41.88, 31.62, 54, 62.6, 44.6, 61.14, 64.74, 12.2, -5.8, 62.6, 98.04, 28.38, 76.62, 81.3, 84.36, 93.54, 71.76, 71.6, 58.8, 64.99, 77, 75.2, 84.2, 86, 63.12, 38.64, 83.46, 42.42, 64.99, 69.78, -13.92, 48.72, 55.74, 79.86, 78.06, 68.7, 57.2, 63, 57.99, 15.8, 78.8, 50, 75.18, 30, 8.4, 67.44, 61.5, 82.38, 45.84, 74.28, 71.6, -3.3, 3.2, 87.24, -6.36, 81.12, 36.66, 85.26, 60.01, 48.18, 44.01, 81.48, 72.66, 82, 19.4, 82.4, 77, 80.04, 36.48, 12.54, 74.64, 42.8, 83.1, 77.34, 84.2, 41, 82.4, 57.99, 64.4, 59.16, 51.01, 78.8, 75.2, 63.84, 87.8, 55.38, 50, 45, 12.36, 32, 50, 75.2, 67.08, -14.01, 68.88, 78.24, 72, 28.4, 66.9, 75.18, 70.5, 46.4, 61, 82.92, 41.88, 46.99, 33.8, 59, 91.4, 46, -2.2, -4.38, 47.64, 84.2, 85.26, 72, 78.96, 81.66, 20.64, 95, 39.99, 2.1, 32.34, 96.78, 20.1, 75.2, -27.06, 73.99, -1.86, 51.01, 35.6, 89.58, 72, 77.7, 75.99, 56.1, 75.72, 63.3, 77, 3.9, -17.52, 30.72, 44.6, 81.48, 21.36, 51.8, 35.6, 30, 44.22, 73.74, 76.98, 75.2, 39.2, 64, 68, 89.6, 73.74, 78.8, 19.92, 42.01, 48.72, 77, 71.22, 63.84, 75.2, 32, 76.08, -8.16, 57, 69.8, 67.26, 50, 59, 75.99, 24.8, 73.38, 44.58, 69.78, 78.6, 39.2, 73.92, 66.2, 76.62, 26.6, 88, 30.9, 48.72, 75.36, 57.2, 81.66, 78.8, 90.3, 75.2, 82, 87.8, 78.96, -22, 75.2, 90.3, 69.78, 57, 54.3, 67.62, 28.99, 56.28, 86, 69.8, 75.99, 78.8, -22, 30.2, 81.12, 32.88, 87.42, 41.7, 55.99, 83.64, 43, 66, 68.34, 82.74, 89.6, 65.82, 87.42, 27.84, 82.4, 68.7, 93.2, 37.4, 42.8, 26.04, 48.9, 33.96, 66.2, 82.56, 37.4, 73.4, 91.4, 102, 91.4, 78.8, 66.2, 78.96, 60.8, 105.6, 63, 79.5, 30, 87.6, 83.82, 68, 75, 79, 38.46, 36.12, 35.6, 25.5, 84.36, 23.16, 80.04, 82.4, 93.54, 46.74, 30, 28.4, 87.8, 46.4, 84.2, -27.4, 36.66, 85.44, 62.01, 75.2, 74.46, -8.34, -8.34, -6.18, 51.01, 71.01, 80.6, 48.2, 51.01, -4.56, 75.9, 81.84, 86, 61.32, 73.4, 74.28, 67.26, 62.6, 80.6, 78.24, 25.32, 42.01, 103.8, 67.62, 18.12, 39.2, 64.74, 77.16, 76.98, 84.2, 87.8, 64.4, 57.2, 26.76, 30.2, 94.26, 73.4, -3.12, 72.48, 28.4, 75.18, 93.2, -9.4, 70, 68.34, 87.8, 62.6, 15.42, 33.8, 29.1, 39.99, -28.86, 82.74, 46, 64.4, 13.08, 68, 82, 80.6, 88.5, 100.2, 34.5, 73.56, 39.2, 82.74, 69.01, 60.24, 93.72, 16.5, 90.48, 62.6, -9.4, 45.66, 28.2, 19.2, 93.36, 71.94, 75.2, 93.2, 18.3, 27.84, 75.2, 37.4, 62.94, 77.88, 65.82, 39.2, 77.88, 78.8, 71.94, 45, 80.94, 82.4, 82.4, 78.8, 33.8, 33.8, 55.99, 23, 72.48, 78.8, -9.96, 45, 66.36, 10.4, 79, 61, 72.3, 66.36, 84.2, 71.76, 5.16, 48.2, 50, 80.6, 52.5, 37.4, 51.8, 57.2, 71.58, 12.99, 84.18, 44.01, 81.48, 63, 44.6]\n"
    }
   ],
   "source": [
    "#Create a lists for humidity and max temps\n",
    "humidity = []\n",
    "max_temps = []\n",
    "main_data = dict(df['main'])\n",
    "city_count = 0\n",
    "for city in main_data:\n",
    "    humidity.append(main_data[city_count]['humidity'])\n",
    "    max_temps.append(main_data[city_count]['temp_max'])\n",
    "    city_count += 1\n",
    "print(humidity)\n",
    "print(max_temps)"
   ]
  },
  {
   "cell_type": "code",
   "execution_count": 26,
   "metadata": {},
   "outputs": [
    {
     "name": "stdout",
     "output_type": "stream",
     "text": "[71.29, 11.48, 42.1, -42.88, 41.14, 55.74, 64.38, -0.74, 27.27, -23.12, -9.08, -9.8, 27.03, -38.55, -3.7, -21.21, 48.85, 46.48, 13.59, 37.46, -21.2, 71.69, -33.59, -34.42, -33.7, 69.38, -38, -46.19, -10.71, 59.12, -54.8, -17.53, -4.28, 69.47, 68.75, -41.07, 26.19, 38.52, -14.25, 77.48, 22.08, 67.68, 69.2, -46.6, -33.65, 69.22, 39.82, 33.19, -13.85, -42.78, 59.7, -0.6, -2.92, 39.25, 36.53, 55.07, -20.34, -41.87, 11, 40.8, -22.97, -0.95, -37.62, -38.27, 62.46, -1.76, 69.7, 37.72, 42.6, -9.97, -33.93, 59.38, 65.58, 65.61, -53.15, -2.76, -24.79, -17.71, 20.89, 7.77, -46.13, 38.3, -16.16, -19.23, 70.63, 39.18, -34.53, 50.7, 24.78, -27.58, 5.41, 35.73, 12.06, 57.79, 68.05, 41.14, 47.87, 39.84, 23.45, 40.56, 78.22, 30.19, 15.85, 0.52, -33.92, 17.02, -9.43, 17.38, 43.65, 37.99, 28.78, -24.83, 6.5, 14.9, 8.53, -31.54, -26.65, 19.73, 26.96, 55.34, -34.62, 52.33, -28.57, -20.57, 37.1, -33.02, 52.27, 3.07, 47.67, 22.42, -16.84, 69.45, -30.18, 50.68, 71.97, -37.83, 32.67, 60.14, 10.39, -3.37, 67.67, -28.77, -3.67, 11.67, -2.02, -15.53, -20.74, 62.86, 39.82, -24.87, 7.99, 13.17, -4.2, 21.35, 35.13, -33.87, 50.05, 57.55, 40.6, -45.58, 61.99, 30.48, 29.11, 49.78, 65.28, 18.39, 13.03, 62.15, 5.97, -10.17, 7.53, 9.51, 19.35, -22.96, 28.22, -35.17, -17, -19.98, -0.95, -9.67, 39.05, 41.12, -24.03, 37.15, -31.43, -8.42, 63.05, 39.37, -45.42, -1.75, 20.34, -25.4, 35.22, 33.66, 41.37, 49.87, 18.73, 46.6, -0.32, 62.17, 66.83, 19.89, -34.73, -11.1, 52.05, -3.8, 26.62, 51.94, 60.82, 20.5, 72.79, 5.95, 43.3, 14.53, 36.29, 26.59, 54.1, -8.14, 17.42, 22.89, 44.02, -8.84, -21.15, -22.67, 43.32, 60.75, -14.27, 40.43, 4.42, -13.2, 19.22, 35.7, 14.35, -37.81, 31.61, 10.6, 46.75, -21.36, 19.21, 16.98, 12.52, -46.28, 32.27, 53.52, 61.99, 63.44, 46.42, -20.52, -10.26, 63.75, -25.4, -23.86, 29.7, 46.81, -8.93, -6.88, 25.02, 44.06, 33.53, -16.48, 38.42, 53.76, 56.8, 34.88, -5.37, 45.52, 52.87, 49.2, 49.28, 13.22, -4.97, 28.47, 17.87, -0.91, 41.76, 15.74, 44.65, 52.47, 64.25, -5.23, 65.01, -23.65, 71.92, 28.54, 53.75, 48.18, 68.12, 9.2, 30.65, -4.85, 22.29, 45.16, 21.97, -43.3, -15.77, 51.4, 73.51, 59.37, 36.37, -1.2, 60.37, 41.02, 69.31, 59.06, 52.63, -3.42, 3.82, -20.41, 49.03, -43.53, 41.3, -7.74, 0.8, 24.09, 42.8, 55.9, 51.7, -7.84, 22.83, 19.3, 28.61, 70.98, -21.55, 53.97, 45.02, -29.95, -10.54, 42.96, 36.09, 27.05, 60.92, 1.74, 27.32, 26.39, -17.89, 53.56, -43.25, -23.7, 5.95, 51.47, -27, 60.06, 37.08, -16.62, 28.37, -20.23, -9.88, -5.4, -5.32, 20.7, 16.86, 7, 64.75, -45.87, -2.97, 25.02, 43.62, 32.13, 29.97, 47.5, 28.17, 16.33, -33.04, -13.7, -19.76, 70.47, 69.65, 2.04, 56.19, 10.17, 44.51, -45.87, 6.3, 42.44, 37.73, -0.22, -2.57, -33.19, -28.55, 6.65, 57.31, -20.32, 29.58, -17.8, 66.4, 38.5, 48.65, 33.42, 57.79, 37.27, -2.67, 62.23, -19.55, 14.3, 13.81, 9.36, 19.28, -33.01, 10.77, 33.6, -23.49, -35.57, -6.22, 58.7, 13.6, 1.57, 23.25, 24.47, -23.67, 27.37, 45.32, 57.05, 54.46, 1, 55.2, -6.22, -17.88, -30.98, 46.43, 41.26, 50.23, -1.94, 63.87, -2.23, 66.42, 53.13, -2.89, 36.03, 22.28, 22.83, 61.95, 67.45, 58.96, 42.07, 25.21, 9.52, 51.38, 46.97, 65.75, -5.55, 4.92, -34.18, 27.98, -20.73, -9.11, 26.3, 37.59, -21.64, 7.98, 46.49, 49.17, 13.35, 14.35, 53.4, 54.32, 29.03, -20.28, 1.17, -16.97, -6.98, 38.73, 42.25, 49.22, 63.84, 4.25, -22.28, 50.6, -4.45, 47.38, 9.18, -33.13, 69.49, -28.65, -3.48, 11.25, 41.53, 58.69, 43.01, 42.97, 45.27, 66.77, -16.7, 34.67, 25.28, 53.94, 26.18, 20.75, 18.42, 7.7, -29.14, 70.86, -7.3, 45.68, 10.57, -35.62, 29.04, -5.18, 51.18, 11.03, 38.3, 64.5, 43.75, 64.9, 51.23, 13.09, 10.7, -15.2, 14.89, 48.83, 64.89, -25.24, 54.67, -19.58, 12.18, -34, 37.08, 6.09, 30.42, -27.45, 41, 0.13, 14.53, -12.97, -8.26, 70.37, 65.85, 35.87, 66.04, -6.47, -20.33, 60.47, 54.55, 25.52, 53.05, -23.99, 34.64, 9.41, -3.75, 18.22, -0.87, 59.45, 46.82, 48.75, 20.22, 26.92, 62.16, 32.69, 32.25, -40.81, 64.86, -3.77, 57.64, 5.79, 32.79, 60.4]\n[-156.79, 122.74, -79.24, 147.33, 35.45, -97.86, -173.3, -90.35, 31.15, -134.97, 143.21, -139.03, 67.85, -58.74, 128.18, -159.78, 2.35, 30.73, 102.97, -122.43, -175.2, 128.87, 26.89, 19.23, -53.46, 178.42, -57.56, 168.86, 22.22, 159.97, -68.3, 146.03, -55.98, 25.51, 161.3, 145.92, 107.51, -28.7, 129.55, -69.36, -159.32, 53.15, 33.45, 168.33, 115.33, -51.1, 98.3, -82.53, 136.42, 147.06, 30.79, 73.08, -39.92, 117.79, 37.95, 51.23, 57.76, -73.82, 122.67, -124.16, -42.03, 100.35, -73.65, 141.97, -114.35, -48.8, 170.31, -25.43, -73.97, -67.81, 18.42, 143.3, -171, -37.64, -70.92, -42.27, -50.01, -39.25, -156.47, -72.22, 167.68, -5.27, 33.59, 17.72, 147.92, -84.53, 20.04, -127.42, 81.78, 153.3, 100.34, 140.83, -61.75, -152.41, 39.51, -73.36, 88.12, 69.53, -110.22, 8.32, 15.64, 116.03, -97.07, 25.2, 25.57, 54.09, 159.95, 78.47, 51.2, -84.48, 105.09, 16.98, 2.6, -24.5, 34.8, -68.54, 15.16, -155.09, 56.27, -131.65, -68.33, -109.93, -70.76, 164.28, -113.58, 27.91, 79.17, 172.79, -52.73, 73.65, 36.99, -133.04, -50.21, 156.12, 102.5, 140.77, -17.1, -45.24, -9.31, 135.48, 12.69, 114.6, 152.43, 92.75, 147.27, 167.17, 116.85, 51.89, 109.98, 113.63, 117.06, 44.58, 152.17, -158.09, 140.3, 121.9, 46.88, 29.95, -124.16, -72.07, 5.14, -115.95, 21.29, -74.85, -126.83, 42.45, -9.49, 45.12, 80.42, 123.58, -12.51, -7.57, 83.78, 14.51, 61.22, 173.17, 145.43, 57.61, -80.73, -35.74, -27.98, 80.26, -53.44, 122.38, 152.92, 20.74, 179.32, 49.25, 167.72, -52.24, -77.12, -70.48, -101.83, -86.81, -73.41, -99.36, -103.68, 4.06, 102.35, 49.09, 70.83, 102.13, 135.87, -77.61, 29.25, 102.27, -78.28, 116.28, -115.8, -10.07, -56.15, -56.98, 52.8, 20.92, -76.25, 101.71, 39.61, 159.59, 121.44, -109.91, 87.32, 13.23, 149.2, 167.48, 145.57, -137.51, 50.17, 71.72, -7.35, 49.05, -104.7, 138.45, 121.02, 144.89, 34.76, 39.43, 5.75, 55.77, -69.34, 73.3, -70.03, 169.85, -107.76, -2.49, -49.67, -20.27, 3.91, 57.52, 29.93, -68.51, -51.46, 35.38, -91.21, -100.78, 125.41, 112.21, 90.02, -103.15, -82.13, -151.75, 77.24, 16.1, 59.93, -76.9, -49.12, -122.68, -104.62, 119.7, 31.45, -59.52, 39.83, -16.25, 76.95, 122.88, 86.15, -96.47, -63.57, 96.11, -15.21, -75.68, 53.91, -70.4, 114.08, -80.67, 127.27, -2.75, 13.5, 12.48, -91.16, 21.57, 114.16, 33.28, 83.12, -65.1, 128.73, 128.13, 80.55, 28.61, 6.61, -46.02, 93.04, 39.57, 16.12, 80.86, 29.73, 114.85, 117.25, 57.7, -119.45, 172.63, -96.17, -72.65, 127.4, 32.91, 93.45, -3.52, 30.66, -79.15, 74.27, 97.97, -96.63, 25.97, 167.88, 121.97, -93.22, -71.34, 32.08, 17.14, 28.02, -82.42, -46.05, 98.78, 103.72, 73.54, -39.37, 20.99, -65.31, 133.88, 80.54, 58.46, -50, 71.48, 33.25, -72.71, 129.48, 164.02, -56.09, -80.75, 119.37, -105.2, -99.89, -9.47, 177.48, -67.5, -47.48, 37.27, 4.01, 112.75, 32.53, -111.3, 94.77, -61.7, -71.63, -76.22, -44.31, -68.59, 18.96, 45.34, 52.48, 11.47, 50.26, 170.5, -10.8, -123.33, -25.67, 100.63, 150.8, -68.46, 16.43, -4.2, 88.17, 118.57, -9.5, -63.17, 14.52, 48.67, -53.11, 70.74, 36.7, -87.18, 141.3, -6.59, 169.27, -91.92, -10.83, -79.9, -81.25, 17.94, 77.72, 56.92, -58.8, 138.62, 155.63, 81.48, 26.69, 9.61, 87.07, 54.37, -46.46, 87.2, 55.2, -135.33, 64.85, -52, 80.28, -57.75, 36.89, -54.67, 27.88, 125.37, -63.6, -54.74, 11.3, -80.9, 112.4, 47.2, -40.12, -78.87, 113.57, 87.33, 159.23, 153.68, 126.29, 14.45, 50.81, -84.32, 1.39, 32, 150.85, 150.14, 29.47, -70.67, -114.06, 139.5, 124.89, 93.87, -4.08, -41.05, 49.82, 135.88, -121.94, -15.75, 108, -117.59, -130.32, 21.55, 44.28, 108.97, -48.95, -34.83, -27.07, -2.5, 143.12, -22.43, -54.38, 166.46, 97.52, 26.67, -61.86, 105.15, -64.35, 88.4, 153.62, 23.43, -85.87, -87.42, 99.18, 131.86, 140.51, -66.07, 123.37, -151.02, 138.95, 110.29, 139.92, 127.76, -105.33, -64.62, 28, -59.26, 29.09, 27.42, -111.04, 72.64, 174.5, 114.56, -68.9, -115.57, 20.28, -77.46, -165.41, -81.72, 45.76, -58.65, -1.08, 37.07, 12.15, 5.27, 58.14, -23.71, 130.99, 20.13, -65.75, 125.51, 24.73, 57.51, 124.4, -9.6, 23.43, -115.5, 117.5, 120.55, 40.52, -49.26, 31.11, 24.15, -101.97, -17.34, 16.82, -40.29, 166.1, -3.58, 90.22, 158.65, -46.26, -120.46, 45.06, 103.64, -63.06, 134.08, 112.56, 1.7, -3.42, -87.47, 91.62, -7.17, 128.84, 54.02, -63, -147.8, -49.67, 18.3, -6.61, -79.86, -1.35]\n"
    }
   ],
   "source": [
    "#Create lists for latitude and logitude\n",
    "lats = []\n",
    "lons = []\n",
    "coord_data = dict(df['coord'])\n",
    "city_count = 0\n",
    "for city in coord_data:\n",
    "    lats.append(coord_data[city_count]['lat'])\n",
    "    lons.append(coord_data[city_count]['lon'])\n",
    "    city_count += 1\n",
    "print(lats)\n",
    "print(lons)"
   ]
  },
  {
   "cell_type": "code",
   "execution_count": 27,
   "metadata": {},
   "outputs": [
    {
     "data": {
      "text/plain": "[8.05,\n 1.63,\n 8.05,\n 4.7,\n 2.57,\n 14.99,\n 2.44,\n 10.29,\n 11.41,\n 19.82,\n 5.03,\n 10.98,\n 7.9,\n 7,\n 6.04,\n 4.7,\n 5.82,\n 8.23,\n 4.05,\n 9.17,\n 3.36,\n 2.91,\n 4,\n 20.22,\n 7.27,\n 1.74,\n 9.17,\n 1.7,\n 3.29,\n 6.96,\n 23.04,\n 3.89,\n 1.45,\n 25.28,\n 10.76,\n 5.01,\n 4.68,\n 2.24,\n 2.62,\n 1.39,\n 20.8,\n 8.37,\n 13.42,\n 4.25,\n 15.17,\n 5.82,\n 7.67,\n 5.82,\n 4.23,\n 4.7,\n 2.24,\n 7.38,\n 9.6,\n 8.95,\n 1.83,\n 17.31,\n 26.4,\n 5.82,\n 3.78,\n 0.89,\n 12.75,\n 1.97,\n 9.51,\n 14.9,\n 13.87,\n 9.17,\n 5.5,\n 6.93,\n 10.29,\n 6.93,\n 21.92,\n 5.68,\n 2.53,\n 17.22,\n 26.4,\n 8.05,\n 3.87,\n 14.34,\n 18.34,\n 13.87,\n 2.71,\n 6.93,\n 3,\n 7,\n 4,\n 12.75,\n 6.93,\n 3.36,\n 3.33,\n 10.29,\n 1.88,\n 18.34,\n 20.8,\n 5.82,\n 24.16,\n 8.05,\n 2.64,\n 2.24,\n 6.93,\n 2.24,\n 8.05,\n 5.39,\n 8.05,\n 1.16,\n 14.99,\n 3.36,\n 2.24,\n 5.82,\n 11.18,\n 11.41,\n 19.91,\n 11.16,\n 10.29,\n 14.76,\n 2.13,\n 17.49,\n 18.34,\n 5.82,\n 6.93,\n 5.82,\n 12.44,\n 5.99,\n 11.7,\n 3.65,\n 10.29,\n 12.75,\n 13.38,\n 15.43,\n 25.28,\n 2.44,\n 3.94,\n 8.05,\n 15.82,\n 2.42,\n 0.4,\n 8.05,\n 14.99,\n 15.14,\n 5.3,\n 1.81,\n 29.97,\n 9.17,\n 10.83,\n 11.52,\n 16.2,\n 2.24,\n 12.84,\n 3.53,\n 9.95,\n 16.11,\n 1.79,\n 9.6,\n 8.46,\n 13.87,\n 20.8,\n 8.05,\n 11.16,\n 0.58,\n 3.33,\n 9.17,\n 4.7,\n 6.55,\n 26.51,\n 3.36,\n 6.93,\n 3.04,\n 2.24,\n 4.83,\n 5.7,\n 5.53,\n 12.3,\n 2.06,\n 1.48,\n 11.41,\n 9.62,\n 13.38,\n 1.34,\n 18.34,\n 8.05,\n 14.99,\n 7.11,\n 11.27,\n 5.37,\n 5.39,\n 5.82,\n 8.63,\n 6.98,\n 12.48,\n 1.88,\n 3.31,\n 20.33,\n 9.42,\n 11.41,\n 6.93,\n 8.05,\n 9.17,\n 5.53,\n 9.17,\n 1.21,\n 5.57,\n 14.76,\n 1.63,\n 14.97,\n 11.39,\n 4.83,\n 2.62,\n 19.46,\n 6.49,\n 20.8,\n 4.5,\n 7.96,\n 14.38,\n 13.47,\n 3.27,\n 4.7,\n 1.92,\n 1.01,\n 11.48,\n 1.03,\n 3.36,\n 2.24,\n 8.05,\n 10.29,\n 10.8,\n 13.15,\n 9.37,\n 1.25,\n 2.24,\n 4.34,\n 3.62,\n 9.17,\n 2.53,\n 2.24,\n 4.7,\n 6.93,\n 10.16,\n 4.7,\n 26.4,\n 4.7,\n 2.26,\n 20.8,\n 5.61,\n 6.93,\n 9.17,\n 6.46,\n 4.7,\n 9.17,\n 18.34,\n 4.41,\n 44.96,\n 2.57,\n 14.67,\n 10.29,\n 20.8,\n 2.89,\n 5.48,\n 3.67,\n 35.57,\n 5.82,\n 9.15,\n 14.14,\n 10.07,\n 17.9,\n 4.7,\n 4.7,\n 8.05,\n 8.05,\n 7.29,\n 4.41,\n 16.11,\n 10.78,\n 6.93,\n 10.63,\n 3.98,\n 8.16,\n 9.17,\n 13.87,\n 1.52,\n 22.35,\n 2.46,\n 2.15,\n 12.75,\n 4.59,\n 16.11,\n 10.98,\n 10.29,\n 23.04,\n 4.29,\n 10.29,\n 1.97,\n 8.05,\n 3.91,\n 5.59,\n 21.72,\n 1.52,\n 12.84,\n 1.72,\n 4,\n 3.36,\n 14.18,\n 9.78,\n 4.83,\n 17.22,\n 11.92,\n 3.02,\n 1.36,\n 0.43,\n 18.34,\n 3.36,\n 10.29,\n 20.8,\n 8.05,\n 2.21,\n 9.17,\n 7.4,\n 12.75,\n 2.62,\n 10.29,\n 11.56,\n 1.28,\n 19.46,\n 16.11,\n 8.32,\n 2.82,\n 14.99,\n 14.99,\n 6.53,\n 1.12,\n 6.93,\n 19.46,\n 3.33,\n 2.28,\n 4.79,\n 12.44,\n 10.29,\n 6.93,\n 12.1,\n 4.7,\n 5.7,\n 17.9,\n 3,\n 9.93,\n 8.66,\n 11.59,\n 3.36,\n 18.01,\n 4.7,\n 8.75,\n 1.12,\n 5.82,\n 3.36,\n 5.26,\n 8.95,\n 8.05,\n 2.62,\n 2.68,\n 11.41,\n 11.25,\n 4.03,\n 3.36,\n 2.19,\n 9.17,\n 10.29,\n 10.29,\n 11.41,\n 24.16,\n 26.4,\n 19.17,\n 16.8,\n 4.43,\n 18.92,\n 5.41,\n 10.87,\n 1.68,\n 6.93,\n 4.23,\n 6.13,\n 12.75,\n 19.28,\n 2.8,\n 10.94,\n 6.93,\n 7.05,\n 14.99,\n 12.75,\n 2.24,\n 29.73,\n 0.74,\n 5.97,\n 11.41,\n 18.16,\n 27.51,\n 12.17,\n 6.93,\n 5.99,\n 16.11,\n 28.86,\n 12.75,\n 12.15,\n 11.41,\n 5.66,\n 8.05,\n 6.2,\n 9.35,\n 12.68,\n 5.75,\n 4.43,\n 4.7,\n 5.82,\n 4.41,\n 13.02,\n 11.41,\n 18.37,\n 5.35,\n 13.13,\n 4.54,\n 6.93,\n 5.08,\n 6.64,\n 0.49,\n 20.8,\n 5.82,\n 26.4,\n 6.93,\n 2.24,\n 12.03,\n 9.6,\n 6.93,\n 3.36,\n 2.86,\n 7.23,\n 5.79,\n 1.41,\n 2.24,\n 5.82,\n 23.04,\n 12.75,\n 4.47,\n 6.51,\n 3.94,\n 5.28,\n 8.05,\n 4.92,\n 10.29,\n 2.28,\n 4.45,\n 1.12,\n 8.05,\n 17.63,\n 4.32,\n 2.86,\n 2.68,\n 2.42,\n 5.19,\n 3.36,\n 26.51,\n 2.86,\n 3.24,\n 6.93,\n 11.41,\n 10.27,\n 4.7,\n 6.46,\n 3.36,\n 6.53,\n 2.24,\n 2.98,\n 5.1,\n 17.22,\n 3.91,\n 12.75,\n 6.71,\n 6.93,\n 3.36,\n 13.87,\n 19.46,\n 12.73,\n 4.03,\n 4.72,\n 19.46,\n 6.64,\n 9.15,\n 33.51,\n 1.41,\n 2.73,\n 9.17,\n 5.06,\n 11.41,\n 1.43,\n 4.14,\n 21.85,\n 3.04,\n 4.7,\n 5.97,\n 5.99,\n 0.78,\n 3.15,\n 4.12,\n 3.15,\n 5.82,\n 3.8,\n 15.57,\n 3.44,\n 14,\n 7.92,\n 3.94,\n 13.87,\n 2.24,\n 7.81,\n 21.36,\n 6.93,\n 6.71,\n 10.98,\n 7.85,\n 5.19,\n 9.17,\n 1.81,\n 11.41,\n 7.61,\n 6.93,\n 4.25,\n 3.36,\n 5.82,\n 2.24,\n 28.86,\n 21.92,\n 8.05,\n 17.22,\n 0.36,\n 13.87,\n 4.32,\n 8.01,\n 2.33,\n 11.18,\n 5.82,\n 8.05,\n 8.16,\n 4.59,\n 10.29,\n 3.6,\n 10.92,\n 17.22,\n 19.46,\n 14.99,\n 2.53,\n 27.51,\n 4.7,\n 6.93,\n 14.67,\n 2.91,\n 3.33,\n 24.16,\n 4.99,\n 5.97,\n 13.87]"
     },
     "execution_count": 27,
     "metadata": {},
     "output_type": "execute_result"
    }
   ],
   "source": [
    "#Create a list for wind speed\n",
    "wind_speed = []\n",
    "wind_data = dict(df['wind'])\n",
    "city_count = 0\n",
    "for city in wind_data:\n",
    "    wind_speed.append(wind_data[city_count]['speed'])\n",
    "    city_count += 1\n",
    "wind_speed"
   ]
  },
  {
   "cell_type": "code",
   "execution_count": 28,
   "metadata": {},
   "outputs": [
    {
     "data": {
      "text/html": "<div>\n<style scoped>\n    .dataframe tbody tr th:only-of-type {\n        vertical-align: middle;\n    }\n\n    .dataframe tbody tr th {\n        vertical-align: top;\n    }\n\n    .dataframe thead th {\n        text-align: right;\n    }\n</style>\n<table border=\"1\" class=\"dataframe\">\n  <thead>\n    <tr style=\"text-align: right;\">\n      <th></th>\n      <th>Cloudiness</th>\n      <th>Country</th>\n      <th>Dates</th>\n      <th>Humidity</th>\n      <th>Lat</th>\n      <th>Lng</th>\n      <th>Max Temp</th>\n      <th>Wind Speed</th>\n    </tr>\n    <tr>\n      <th>City</th>\n      <th></th>\n      <th></th>\n      <th></th>\n      <th></th>\n      <th></th>\n      <th></th>\n      <th></th>\n      <th></th>\n    </tr>\n  </thead>\n  <tbody>\n    <tr>\n      <th>Barrow</th>\n      <td>90</td>\n      <td>US</td>\n      <td>1.583694e+09</td>\n      <td>83</td>\n      <td>71.29</td>\n      <td>-156.79</td>\n      <td>-14.8</td>\n      <td>8.05</td>\n    </tr>\n    <tr>\n      <th>Intampilan</th>\n      <td>29</td>\n      <td>PH</td>\n      <td>1.583694e+09</td>\n      <td>93</td>\n      <td>11.48</td>\n      <td>122.74</td>\n      <td>74.1</td>\n      <td>1.63</td>\n    </tr>\n    <tr>\n      <th>Jamestown</th>\n      <td>1</td>\n      <td>US</td>\n      <td>1.583694e+09</td>\n      <td>31</td>\n      <td>42.10</td>\n      <td>-79.24</td>\n      <td>55.4</td>\n      <td>8.05</td>\n    </tr>\n    <tr>\n      <th>Hobart</th>\n      <td>90</td>\n      <td>AU</td>\n      <td>1.583694e+09</td>\n      <td>76</td>\n      <td>-42.88</td>\n      <td>147.33</td>\n      <td>52.0</td>\n      <td>4.70</td>\n    </tr>\n    <tr>\n      <th>Vezirköprü</th>\n      <td>100</td>\n      <td>TR</td>\n      <td>1.583694e+09</td>\n      <td>47</td>\n      <td>41.14</td>\n      <td>35.45</td>\n      <td>55.4</td>\n      <td>2.57</td>\n    </tr>\n  </tbody>\n</table>\n</div>",
      "text/plain": "            Cloudiness Country         Dates  Humidity    Lat     Lng  \\\nCity                                                                    \nBarrow              90      US  1.583694e+09        83  71.29 -156.79   \nIntampilan          29      PH  1.583694e+09        93  11.48  122.74   \nJamestown            1      US  1.583694e+09        31  42.10  -79.24   \nHobart              90      AU  1.583694e+09        76 -42.88  147.33   \nVezirköprü         100      TR  1.583694e+09        47  41.14   35.45   \n\n            Max Temp  Wind Speed  \nCity                              \nBarrow         -14.8        8.05  \nIntampilan      74.1        1.63  \nJamestown       55.4        8.05  \nHobart          52.0        4.70  \nVezirköprü      55.4        2.57  "
     },
     "execution_count": 28,
     "metadata": {},
     "output_type": "execute_result"
    }
   ],
   "source": [
    "weather_df = pd.DataFrame({\"City\":names, \"Cloudiness\":cloudiness, \"Country\":countries, \"Dates\":dates_unix, \"Humidity\":humidity,\"Lat\":lats, \"Lng\":lons, \"Max Temp\":max_temps, \"Wind Speed\":wind_speed})\n",
    "weather_df = weather_df.set_index('City')\n",
    "weather_df.head()"
   ]
  },
  {
   "cell_type": "code",
   "execution_count": 29,
   "metadata": {},
   "outputs": [],
   "source": [
    "#Convert dataframe to csv\n",
    "weather_df.to_csv(output_data_file, sep=',')"
   ]
  },
  {
   "cell_type": "code",
   "execution_count": 30,
   "metadata": {},
   "outputs": [
    {
     "data": {
      "text/html": "<div>\n<style scoped>\n    .dataframe tbody tr th:only-of-type {\n        vertical-align: middle;\n    }\n\n    .dataframe tbody tr th {\n        vertical-align: top;\n    }\n\n    .dataframe thead th {\n        text-align: right;\n    }\n</style>\n<table border=\"1\" class=\"dataframe\">\n  <thead>\n    <tr style=\"text-align: right;\">\n      <th></th>\n      <th>City</th>\n      <th>Cloudiness</th>\n      <th>Country</th>\n      <th>Dates</th>\n      <th>Humidity</th>\n      <th>Lat</th>\n      <th>Lng</th>\n      <th>Max Temp</th>\n      <th>Wind Speed</th>\n    </tr>\n  </thead>\n  <tbody>\n    <tr>\n      <th>0</th>\n      <td>Barrow</td>\n      <td>90</td>\n      <td>US</td>\n      <td>1.583694e+09</td>\n      <td>83</td>\n      <td>71.29</td>\n      <td>-156.79</td>\n      <td>-14.8</td>\n      <td>8.05</td>\n    </tr>\n    <tr>\n      <th>1</th>\n      <td>Intampilan</td>\n      <td>29</td>\n      <td>PH</td>\n      <td>1.583694e+09</td>\n      <td>93</td>\n      <td>11.48</td>\n      <td>122.74</td>\n      <td>74.1</td>\n      <td>1.63</td>\n    </tr>\n    <tr>\n      <th>2</th>\n      <td>Jamestown</td>\n      <td>1</td>\n      <td>US</td>\n      <td>1.583694e+09</td>\n      <td>31</td>\n      <td>42.10</td>\n      <td>-79.24</td>\n      <td>55.4</td>\n      <td>8.05</td>\n    </tr>\n    <tr>\n      <th>3</th>\n      <td>Hobart</td>\n      <td>90</td>\n      <td>AU</td>\n      <td>1.583694e+09</td>\n      <td>76</td>\n      <td>-42.88</td>\n      <td>147.33</td>\n      <td>52.0</td>\n      <td>4.70</td>\n    </tr>\n    <tr>\n      <th>4</th>\n      <td>Vezirköprü</td>\n      <td>100</td>\n      <td>TR</td>\n      <td>1.583694e+09</td>\n      <td>47</td>\n      <td>41.14</td>\n      <td>35.45</td>\n      <td>55.4</td>\n      <td>2.57</td>\n    </tr>\n  </tbody>\n</table>\n</div>",
      "text/plain": "         City  Cloudiness Country         Dates  Humidity    Lat     Lng  \\\n0      Barrow          90      US  1.583694e+09        83  71.29 -156.79   \n1  Intampilan          29      PH  1.583694e+09        93  11.48  122.74   \n2   Jamestown           1      US  1.583694e+09        31  42.10  -79.24   \n3      Hobart          90      AU  1.583694e+09        76 -42.88  147.33   \n4  Vezirköprü         100      TR  1.583694e+09        47  41.14   35.45   \n\n   Max Temp  Wind Speed  \n0     -14.8        8.05  \n1      74.1        1.63  \n2      55.4        8.05  \n3      52.0        4.70  \n4      55.4        2.57  "
     },
     "execution_count": 30,
     "metadata": {},
     "output_type": "execute_result"
    }
   ],
   "source": [
    "#Read back in csv so you don't have to recall API\n",
    "weather_data = pd.read_csv(output_data_file)\n",
    "weather_data.head()"
   ]
  },
  {
   "cell_type": "code",
   "execution_count": null,
   "metadata": {},
   "outputs": [],
   "source": []
  }
 ],
 "metadata": {
  "file_extension": ".py",
  "kernelspec": {
   "display_name": "Python 3.7.6 64-bit ('PythonData': conda)",
   "language": "python",
   "name": "python37664bitpythondataconda9adbda39bd454e7faf6cd0d67b7317a9"
  },
  "language_info": {
   "codemirror_mode": {
    "name": "ipython",
    "version": 3
   },
   "file_extension": ".py",
   "mimetype": "text/x-python",
   "name": "python",
   "nbconvert_exporter": "python",
   "pygments_lexer": "ipython3",
   "version": "3.7.4-final"
  },
  "mimetype": "text/x-python",
  "name": "python",
  "npconvert_exporter": "python",
  "pygments_lexer": "ipython3",
  "version": 3
 },
 "nbformat": 4,
 "nbformat_minor": 2
}