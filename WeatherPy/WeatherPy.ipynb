{
 "nbformat": 4,
 "nbformat_minor": 2,
 "metadata": {
  "language_info": {
   "name": "python",
   "codemirror_mode": {
    "name": "ipython",
    "version": 3
   },
   "version": "3.7.4-final"
  },
  "orig_nbformat": 2,
  "file_extension": ".py",
  "mimetype": "text/x-python",
  "name": "python",
  "npconvert_exporter": "python",
  "pygments_lexer": "ipython3",
  "version": 3,
  "kernelspec": {
   "name": "python37664bitpythondataconda9adbda39bd454e7faf6cd0d67b7317a9",
   "display_name": "Python 3.7.6 64-bit ('PythonData': conda)"
  }
 },
 "cells": [
  {
   "cell_type": "code",
   "execution_count": 5,
   "metadata": {},
   "outputs": [
    {
     "name": "stdout",
     "output_type": "stream",
     "text": "c757952582c88fb0a7dc7031a0578358\n"
    }
   ],
   "source": [
    "# Dependencies and Setup\n",
    "import matplotlib.pyplot as plt\n",
    "import pandas as pd\n",
    "import numpy as np\n",
    "import requests\n",
    "import time\n",
    "from scipy.stats import linregress\n",
    "from pprint import pprint\n",
    "# Import API key\n",
    "from config import api_key\n",
    "\n",
    "# Incorporated citipy to determine city based on latitude and longitude\n",
    "from citipy import citipy\n",
    "\n",
    "# Output File (CSV)\n",
    "output_data_file = \"output_data/cities.csv\"\n",
    "\n",
    "# Range of latitudes and longitudes\n",
    "lat_range = (-90, 90)\n",
    "lng_range = (-180, 180)"
   ]
  },
  {
   "cell_type": "code",
   "execution_count": 3,
   "metadata": {},
   "outputs": [
    {
     "data": {
      "text/plain": "601"
     },
     "execution_count": 3,
     "metadata": {},
     "output_type": "execute_result"
    }
   ],
   "source": [
    "# List for holding lat_lngs and cities\n",
    "lat_lngs = []\n",
    "cities = []\n",
    "\n",
    "# Create a set of random lat and lng combinations\n",
    "lats = np.random.uniform(low=-90.000, high=90.000, size=1500)\n",
    "lngs = np.random.uniform(low=-180.000, high=180.000, size=1500)\n",
    "lat_lngs = zip(lats, lngs)\n",
    "\n",
    "# Identify nearest city for each lat, lng combination\n",
    "for lat_lng in lat_lngs:\n",
    "    city = citipy.nearest_city(lat_lng[0], lat_lng[1]).city_name\n",
    "    \n",
    "    # If the city is unique, then add it to a our cities list\n",
    "    if city not in cities:\n",
    "        cities.append(city)\n",
    "\n",
    "# Print the city count to confirm sufficient count\n",
    "len(cities)"
   ]
  },
  {
   "cell_type": "code",
   "execution_count": 11,
   "metadata": {},
   "outputs": [
    {
     "name": "stdout",
     "output_type": "stream",
     "text": "http://api.openweathermap.org/data/2.5/weather?q=jamestown&appid=c757952582c88fb0a7dc7031a0578358\n{'base': 'stations',\n 'clouds': {'all': 90},\n 'cod': 200,\n 'coord': {'lat': 42.1, 'lon': -79.24},\n 'dt': 1583351790,\n 'id': 5122534,\n 'main': {'feels_like': 268.94,\n          'humidity': 86,\n          'pressure': 1008,\n          'temp': 274.59,\n          'temp_max': 275.93,\n          'temp_min': 273.15},\n 'name': 'Jamestown',\n 'rain': {'1h': 0.38},\n 'sys': {'country': 'US',\n         'id': 4588,\n         'sunrise': 1583322398,\n         'sunset': 1583363447,\n         'type': 1},\n 'timezone': -18000,\n 'visibility': 4828,\n 'weather': [{'description': 'light rain',\n              'icon': '10d',\n              'id': 500,\n              'main': 'Rain'},\n             {'description': 'light snow',\n              'icon': '13d',\n              'id': 600,\n              'main': 'Snow'},\n             {'description': 'mist', 'icon': '50d', 'id': 701, 'main': 'Mist'}],\n 'wind': {'deg': 260, 'speed': 5.1}}\n"
    }
   ],
   "source": [
    "#Perform call to api to get weather data for each city\n",
    "url = \"http://api.openweathermap.org/data/2.5/weather?q=\"\n",
    "responses = []\n",
    "for city in cities:\n",
    "    city_url = url + f\"{city}&appid={api_key}\"\n",
    "    responses.append(requests.get(city_url).json())"
   ]
  },
  {
   "cell_type": "code",
   "execution_count": null,
   "metadata": {},
   "outputs": [],
   "source": []
  }
 ]
}